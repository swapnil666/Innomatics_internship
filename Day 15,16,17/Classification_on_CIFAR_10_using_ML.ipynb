{
  "nbformat": 4,
  "nbformat_minor": 0,
  "metadata": {
    "accelerator": "GPU",
    "colab": {
      "name": "Classification_on_CIFAR_10_using_ML (1).ipynb",
      "provenance": [],
      "collapsed_sections": [],
      "toc_visible": true
    },
    "kernelspec": {
      "display_name": "Python 3",
      "name": "python3"
    }
  },
  "cells": [
    {
      "cell_type": "markdown",
      "metadata": {
        "id": "automated-newspaper"
      },
      "source": [
        "# Classification on CIFAR 10 Dataset"
      ]
    },
    {
      "cell_type": "code",
      "metadata": {
        "id": "ZGRdEu8fF5OW"
      },
      "source": [
        "import random\r\n",
        "import numpy as np\r\n",
        "import matplotlib.pyplot as plt\r\n",
        "import os\r\n",
        "from __future__ import print_function\r\n",
        "\r\n",
        "from builtins import range\r\n",
        "from six.moves import cPickle as pickle\r\n",
        "from imageio import imread\r\n",
        "import platform\r\n",
        "# This is a bit of magic to make matplotlib figures appear inline in the notebook\r\n",
        "# rather than in a new window.\r\n",
        "%matplotlib inline\r\n",
        "plt.rcParams['figure.figsize'] = (10.0, 8.0) # set default size of plots\r\n",
        "plt.rcParams['image.interpolation'] = 'nearest'\r\n",
        "plt.rcParams['image.cmap'] = 'gray'\r\n",
        "\r\n",
        "# Some more magic so that the notebook will reload external python modules;\r\n",
        "# see http://stackoverflow.com/questions/1907993/autoreload-of-modules-in-ipython\r\n",
        "%load_ext autoreload\r\n",
        "%autoreload 2"
      ],
      "execution_count": null,
      "outputs": []
    },
    {
      "cell_type": "markdown",
      "metadata": {
        "id": "ltRps3UMYdE8"
      },
      "source": [
        "## Observations:\r\n",
        "\r\n",
        "- six is a module in python which helps the code to run on both python 2 and python 3 without any modifications.\r\n",
        "\r\n",
        "- Python 3 reorganized the standard library and moved several functions to different modules. Six provides a consistent interface to them through the fake six.moves module\r\n",
        "\r\n",
        "- Some modules which had two implementations have been merged in Python 3. For example, cPickle no longer exists in Python 3; it was merged with pickle. In these cases, fetching the fast version will load the fast one on Python 2 and the merged module in Python 3.\r\n",
        "\r\n",
        "- The Platform module is used to retrieve as much possible information about the platform on which the program is being currently executed. Now by platform info, it means information about the device, it’s OS, node, OS version, Python version, etc. This module plays a crucial role when you want to check whether your program is compatible with the python version installed on a particular system or whether the hardware specifications meet the requirements of your program."
      ]
    },
    {
      "cell_type": "code",
      "metadata": {
        "colab": {
          "base_uri": "https://localhost:8080/"
        },
        "id": "6kBjOSiOYG2D",
        "outputId": "59608f89-efff-4c8a-b3d7-6a65a5a6d297"
      },
      "source": [
        "# # Use this code to download the dataset for the first time\r\n",
        "# # You will be required to install wget using pip\r\n",
        "# # For Linux users checkout the alternative for 'del'\r\n",
        "\r\n",
        "!wget http://www.cs.toronto.edu/~kriz/cifar-10-python.tar.gz -O cifar-10-python.tar.gz\r\n",
        "!tar -xzvf cifar-10-python.tar.gz\r\n",
        "!del cifar-10-python.tar.gz"
      ],
      "execution_count": null,
      "outputs": [
        {
          "output_type": "stream",
          "text": [
            "--2021-02-20 14:05:16--  http://www.cs.toronto.edu/~kriz/cifar-10-python.tar.gz\n",
            "Resolving www.cs.toronto.edu (www.cs.toronto.edu)... 128.100.3.30\n",
            "Connecting to www.cs.toronto.edu (www.cs.toronto.edu)|128.100.3.30|:80... connected.\n",
            "HTTP request sent, awaiting response... 200 OK\n",
            "Length: 170498071 (163M) [application/x-gzip]\n",
            "Saving to: ‘cifar-10-python.tar.gz’\n",
            "\n",
            "cifar-10-python.tar 100%[===================>] 162.60M  47.6MB/s    in 3.6s    \n",
            "\n",
            "2021-02-20 14:05:20 (45.4 MB/s) - ‘cifar-10-python.tar.gz’ saved [170498071/170498071]\n",
            "\n",
            "cifar-10-batches-py/\n",
            "cifar-10-batches-py/data_batch_4\n",
            "cifar-10-batches-py/readme.html\n",
            "cifar-10-batches-py/test_batch\n",
            "cifar-10-batches-py/data_batch_3\n",
            "cifar-10-batches-py/batches.meta\n",
            "cifar-10-batches-py/data_batch_2\n",
            "cifar-10-batches-py/data_batch_5\n",
            "cifar-10-batches-py/data_batch_1\n",
            "/bin/bash: del: command not found\n"
          ],
          "name": "stdout"
        }
      ]
    },
    {
      "cell_type": "code",
      "metadata": {
        "colab": {
          "base_uri": "https://localhost:8080/"
        },
        "id": "rotary-colorado",
        "outputId": "a3677bd8-40a3-45a0-ec43-2a92caa50164"
      },
      "source": [
        "# This cell loads the training and testing dataset. Please note the variables at\n",
        "# the end of the cell as you would require them to access the train/test data \n",
        "# and labels throughout the assignment\n",
        "def load_pickle(f):\n",
        "    version = platform.python_version_tuple()\n",
        "    if version[0] == '2':\n",
        "        return  pickle.load(f)\n",
        "    elif version[0] == '3':\n",
        "        return  pickle.load(f, encoding='latin1')\n",
        "    raise ValueError(\"invalid python version: {}\".format(version))\n",
        "\n",
        "\n",
        "def load_CIFAR_batch(filename):\n",
        "    \"\"\" load single batch of cifar \"\"\"\n",
        "    with open(filename, 'rb') as f:\n",
        "        datadict = load_pickle(f)\n",
        "        X = datadict['data']\n",
        "        Y = datadict['labels']\n",
        "        X = X.reshape(10000, 3, 32, 32).transpose(0,2,3,1).astype(\"float\")\n",
        "        Y = np.array(Y)\n",
        "        return X, Y\n",
        "\n",
        "\n",
        "def load_CIFAR10(ROOT):\n",
        "    \"\"\" load all of cifar \"\"\"\n",
        "    xs = []\n",
        "    ys = []\n",
        "    for b in range(1,6):\n",
        "        f = os.path.join(ROOT, 'data_batch_%d' % (b, ))\n",
        "        X, Y = load_CIFAR_batch(f)\n",
        "        xs.append(X)\n",
        "        ys.append(Y)\n",
        "    Xtr = np.concatenate(xs)\n",
        "    Ytr = np.concatenate(ys)\n",
        "    del X, Y\n",
        "    Xte, Yte = load_CIFAR_batch(os.path.join(ROOT, 'test_batch'))\n",
        "    return Xtr, Ytr, Xte, Yte\n",
        "\n",
        "\n",
        "cifar10_dir = 'cifar-10-batches-py'\n",
        "\n",
        "# Cleaning up variables to prevent loading data multiple times\n",
        "try:\n",
        "    del X_train, y_train\n",
        "    del X_test, y_test\n",
        "    print('Clear previously loaded data.')\n",
        "except:\n",
        "    pass\n",
        "\n",
        "X_train, y_train, X_test, y_test = load_CIFAR10(cifar10_dir)\n",
        "\n",
        "# As a sanity check, we print out the size of the training and test data.\n",
        "print('Training data shape: ', X_train.shape)\n",
        "print('Training labels shape: ', y_train.shape)\n",
        "print('Test data shape: ', X_test.shape)\n",
        "print('Test labels shape: ', y_test.shape)"
      ],
      "execution_count": null,
      "outputs": [
        {
          "output_type": "stream",
          "text": [
            "Training data shape:  (50000, 32, 32, 3)\n",
            "Training labels shape:  (50000,)\n",
            "Test data shape:  (10000, 32, 32, 3)\n",
            "Test labels shape:  (10000,)\n"
          ],
          "name": "stdout"
        }
      ]
    },
    {
      "cell_type": "code",
      "metadata": {
        "colab": {
          "base_uri": "https://localhost:8080/",
          "height": 35
        },
        "id": "unx2AQjShTpx",
        "outputId": "514e834c-4218-4194-d3da-4f5625aa1392"
      },
      "source": [
        "(cifar10_dir)"
      ],
      "execution_count": null,
      "outputs": [
        {
          "output_type": "execute_result",
          "data": {
            "application/vnd.google.colaboratory.intrinsic+json": {
              "type": "string"
            },
            "text/plain": [
              "'cifar-10-batches-py'"
            ]
          },
          "metadata": {
            "tags": []
          },
          "execution_count": 4
        }
      ]
    },
    {
      "cell_type": "code",
      "metadata": {
        "colab": {
          "base_uri": "https://localhost:8080/",
          "height": 264
        },
        "id": "jRaOIpUxoJj0",
        "outputId": "384f55f1-bb32-44d1-a2fd-f5c64d96f7fc"
      },
      "source": [
        "# Visualize some examples from the dataset.\r\n",
        "# We show a few examples of training images from each class.\r\n",
        "classes = ['plane', 'car', 'bird', 'cat', 'deer', 'dog', 'frog', 'horse', 'ship', 'truck']\r\n",
        "num_classes = len(classes)\r\n",
        "samples_per_class = 7\r\n",
        "for y, cls in enumerate(classes):\r\n",
        "    idxs = np.flatnonzero(y_train == y)\r\n",
        "    idxs = np.random.choice(idxs, samples_per_class, replace=False)\r\n",
        "    for i, idx in enumerate(idxs):\r\n",
        "        plt_idx = i * num_classes + y + 1\r\n",
        "        plt.subplot(samples_per_class, num_classes, plt_idx)\r\n",
        "        plt.imshow(X_train[idx].astype('uint8'))\r\n",
        "        plt.axis('off')\r\n",
        "        if i == 0:\r\n",
        "            plt.title(cls)\r\n",
        "plt.show()"
      ],
      "execution_count": null,
      "outputs": [
        {
          "output_type": "display_data",
          "data": {
            "image/png": "[encoded data removed]",
            "text/plain": [
              "<Figure size 432x288 with 70 Axes>"
            ]
          },
          "metadata": {
            "tags": [],
            "needs_background": "light"
          }
        }
      ]
    },
    {
      "cell_type": "code",
      "metadata": {
        "colab": {
          "base_uri": "https://localhost:8080/"
        },
        "id": "VcgvZUkUlTlN",
        "outputId": "e3fb7213-d54b-45d8-9ef7-95dada2359e6"
      },
      "source": [
        "# Subsample the data for more efficient code execution in this exercise\r\n",
        "num_training = 5000\r\n",
        "mask = list(range(num_training))\r\n",
        "X_train = X_train[mask]\r\n",
        "y_train = y_train[mask]\r\n",
        "\r\n",
        "num_test = 500\r\n",
        "mask = list(range(num_test))\r\n",
        "X_test = X_test[mask]\r\n",
        "y_test = y_test[mask]\r\n",
        "\r\n",
        "# Reshape the image data into rows\r\n",
        "X_train = np.reshape(X_train, (X_train.shape[0], -1))\r\n",
        "X_test = np.reshape(X_test, (X_test.shape[0], -1))\r\n",
        "print(max(list(X_train[0])))"
      ],
      "execution_count": null,
      "outputs": [
        {
          "output_type": "stream",
          "text": [
            "255.0\n"
          ],
          "name": "stdout"
        }
      ]
    },
    {
      "cell_type": "code",
      "metadata": {
        "id": "dTsEXMMDdc7Y"
      },
      "source": [
        "from sklearn.decomposition import PCA"
      ],
      "execution_count": null,
      "outputs": []
    },
    {
      "cell_type": "code",
      "metadata": {
        "id": "unmngecFdp1X"
      },
      "source": [
        "pca1=PCA(0.90)"
      ],
      "execution_count": null,
      "outputs": []
    },
    {
      "cell_type": "code",
      "metadata": {
        "id": "DBEkc5Nhd30W"
      },
      "source": [
        "img_pca=pca1.fit_transform(X_train)"
      ],
      "execution_count": null,
      "outputs": []
    },
    {
      "cell_type": "code",
      "metadata": {
        "colab": {
          "base_uri": "https://localhost:8080/"
        },
        "id": "wmjIg7WFeTOm",
        "outputId": "b37da57b-7353-4923-d242-a226d3e887ba"
      },
      "source": [
        "pca1.n_components_"
      ],
      "execution_count": null,
      "outputs": [
        {
          "output_type": "execute_result",
          "data": {
            "text/plain": [
              "95"
            ]
          },
          "metadata": {
            "tags": []
          },
          "execution_count": 9
        }
      ]
    },
    {
      "cell_type": "code",
      "metadata": {
        "id": "EqRvlcwierDO"
      },
      "source": [
        "X_train1,X_test1,Y_train1,Y_test1=train_test_split(img_pca,y_train,test_size=0.2)"
      ],
      "execution_count": null,
      "outputs": []
    },
    {
      "cell_type": "code",
      "metadata": {
        "colab": {
          "base_uri": "https://localhost:8080/"
        },
        "id": "_oUl4FqslLN5",
        "outputId": "6f93de0f-b329-4d79-a1f5-69ac850f6386"
      },
      "source": [
        "X_train1.shape,X_test1.shape,Y_train1.shape,Y_test1.shape"
      ],
      "execution_count": null,
      "outputs": [
        {
          "output_type": "execute_result",
          "data": {
            "text/plain": [
              "((4000, 95), (1000, 95), (4000,), (1000,))"
            ]
          },
          "metadata": {
            "tags": []
          },
          "execution_count": 12
        }
      ]
    },
    {
      "cell_type": "code",
      "metadata": {
        "colab": {
          "base_uri": "https://localhost:8080/"
        },
        "id": "mWNJ_ouOmFbH",
        "outputId": "0a5044d4-3fa9-4481-af9d-b2708dadce9b"
      },
      "source": [
        "from sklearn.linear_model import LogisticRegression\r\n",
        "from sklearn.tree import DecisionTreeClassifier\r\n",
        "from sklearn import svm\r\n",
        "from sklearn.ensemble import RandomForestClassifier\r\n",
        "from xgboost import XGBClassifier\r\n",
        "from sklearn.neighbors import KNeighborsClassifier\r\n",
        "from sklearn.ensemble import AdaBoostClassifier\r\n",
        "from sklearn.naive_bayes import GaussianNB\r\n",
        "from sklearn.preprocessing import StandardScaler\r\n",
        "from imblearn.over_sampling import SMOTE\r\n",
        "from sklearn.model_selection import KFold\r\n",
        "from sklearn.model_selection import train_test_split\r\n",
        "from sklearn.model_selection import cross_val_score\r\n",
        "from sklearn.metrics import accuracy_score,confusion_matrix,precision_score,recall_score,f1_score,precision_recall_fscore_support,classification_report,roc_auc_score,roc_curve"
      ],
      "execution_count": null,
      "outputs": [
        {
          "output_type": "stream",
          "text": [
            "/usr/local/lib/python3.6/dist-packages/sklearn/externals/six.py:31: FutureWarning: The module is deprecated in version 0.21 and will be removed in version 0.23 since we've dropped support for Python 2.7. Please rely on the official version of six (https://pypi.org/project/six/).\n",
            "  \"(https://pypi.org/project/six/).\", FutureWarning)\n",
            "/usr/local/lib/python3.6/dist-packages/sklearn/utils/deprecation.py:144: FutureWarning: The sklearn.neighbors.base module is  deprecated in version 0.22 and will be removed in version 0.24. The corresponding classes / functions should instead be imported from sklearn.neighbors. Anything that cannot be imported from sklearn.neighbors is now part of the private API.\n",
            "  warnings.warn(message, FutureWarning)\n"
          ],
          "name": "stderr"
        }
      ]
    },
    {
      "cell_type": "markdown",
      "metadata": {
        "id": "xBXJ--r0psv7"
      },
      "source": [
        "## Defining all the algorithms "
      ]
    },
    {
      "cell_type": "markdown",
      "metadata": {
        "id": "VEpbH96VEaYh"
      },
      "source": [
        "##Logistic Regression\r\n",
        "\r\n",
        "The output for linear regression is a number that has its real meaning.\r\n",
        "\r\n",
        "The output for a logistic regression is a number that represents the probability of the event happening (i.e. the probability of people clicking an ad online, the probability of death in titanic disaster, etc.)\r\n",
        "\r\n",
        "The intuition behind logistic regression is to transform the output of a linear regression which has a wider range, to a range that probability lies in, which is [0,1]. The transformation formula is Logit that maps a value to a number in the range [0,1].\r\n",
        "\r\n",
        "If p is a probability, then p/(1 − p) is the corresponding odds; the logit of the probability is the logarithm of the odds, i.e.\r\n",
        "\r\n",
        "<img src='https://wikimedia.org/api/rest_v1/media/math/render/svg/615dd158653c25cefa4998c6868c7200e70be71d'>\r\n",
        "\r\n",
        "Cost Function:\r\n",
        "\r\n",
        "<img src='https://joparga3.github.io/standford_logistic_regression/images/32.PNG'>\r\n",
        "\r\n",
        "## Advantages:\r\n",
        "\r\n",
        "1- Probability Prediction\r\n",
        "\r\n",
        "Compared to some other machine learning algorithms, Logistic Regression will provide probability predictions and not only classification labels (think kNN).\r\n",
        "\r\n",
        "Depending on your output needs this can be very useful if you'd like to have probability results especially if you want to integrate this implementation with another system that works on probability measures.\r\n",
        "\r\n",
        "Eg:-Bank loans can be another field where you want probability on the client rather than such a strict binary answer.\r\n",
        "\r\n",
        "2- Thrives with Little Training\r\n",
        "\r\n",
        "One of the great advantages of Logistic Regression is that when you have a complicated linear problem and not a whole lot of data it's still able to produce pretty useful predictions. This is a pro that comes with Logistic Regression's mathematical foundations and won't be possible with most other Machine Learning models.\r\n",
        "\r\n",
        "3- Efficient Computation\r\n",
        "\r\n",
        "Logistic Regression is not a resource hungry model (unlike many others, think NNs, SVM, kNN) and this makes it suitable for some simple applications.\r\n",
        "\r\n",
        "4- Unlikely to Overfit\r\n",
        "\r\n",
        "Logistic Regression won't overfit easily as it's a linear model. Especially with the C regularization parameter in scikitlearn you can easily take control of any overfitting anxiety you might have.\r\n",
        "\r\n",
        "5-Model Flexibility (Regularization)\r\n",
        "\r\n",
        "Logistic Regression actually has some nice fitting flexibility. By using the regularization parameter one can apply different regularization techniques to Logistic Regression to reduce the error in the model or fine tune the fitting.\r\n",
        "Lasso, Ridge or Elasticnet regularization models can be applied in this sense. Regularization will make Logistic Regression behave more similarly to Naive Bayes in the sense that, it will become a more generalist model and tend to avoid noise and outliers.\r\n",
        "\r\n"
      ]
    },
    {
      "cell_type": "markdown",
      "metadata": {
        "id": "7VHT-X-NNoki"
      },
      "source": [
        "## Decision Tree Classifier\r\n",
        "\r\n",
        "The goal is to create a model that predicts the value of a target variable by learning simple decision rules inferred from the data features. For a classification model, the target values are discrete in nature, whereas, for a regression model, the target values are represented by continuous values. Unlike the black box type of algorithms such as Neural Network, Decision Trees are comparably easier to understand because it shares internal decision-making logic (you will find details in the following session).\r\n",
        "\r\n",
        "There are 4 popular types of decision tree algorithms: ID3, CART (Classification and Regression Trees), Chi-Square, and Reduction in Variance.\r\n",
        "\r\n",
        "<img src='https://miro.medium.com/max/1430/1*rSQIIAboJftqAv_BReNipg.png'>\r\n",
        "\r\n",
        "\r\n",
        "## Entropy:\r\n",
        "\r\n",
        "<img src='https://miro.medium.com/max/525/0*veoQf5CRA0k_kDVl.jpeg'>\r\n",
        "\r\n",
        "## The Equation of Information gain:\r\n",
        "\r\n",
        "<img src='https://miro.medium.com/max/875/1*bVGWGETTor7bSnhr7sXEVw.png'>\r\n",
        "\r\n",
        "## Advantages:\r\n",
        "\r\n",
        "- Compared to other algorithms decision trees requires less effort for data preparation during pre-processing.\r\n",
        "- A decision tree does not require normalization of data.\r\n",
        "- A decision tree does not require scaling of data as well.\r\n",
        "- Missing values in the data also do NOT affect the process of building a decision tree to any considerable extent.\r\n",
        "- A Decision tree model is very intuitive and easy to explain to technical teams as well as stakeholders.\r\n",
        "\r\n",
        "## Disadvantage:\r\n",
        "- A small change in the data can cause a large change in the structure of the decision tree causing instability.\r\n",
        "-For a Decision tree sometimes calculation can go far more complex compared to other algorithms.\r\n",
        "-Decision tree often involves higher time to train the model.\r\n",
        "-Decision tree training is relatively expensive as the complexity and time has taken are more.\r\n",
        "-The Decision Tree algorithm is inadequate for applying regression and predicting continuous values.\r\n",
        "\r\n"
      ]
    },
    {
      "cell_type": "markdown",
      "metadata": {
        "id": "2zBUExWlNooO"
      },
      "source": [
        "## Random Forest:\r\n",
        "\r\n",
        "Ensembles are a divide-and-conquer approach used to improve performance. The main principle behind ensemble methods is that a group of “weak learners” can come together to form a “strong learner”. The figure below (taken from here) provides an example. Each classifier, individually, is a “weak learner,” while all the classifiers taken together are a “strong learner”.\r\n",
        "\r\n",
        "# Advantages of using random forest:\r\n",
        "\r\n",
        "1.Since we are using multiple decision trees, the bias remains same as that of a single decision tree. However, the variance decreases and thus we decrease the chances of overfitting. I have explained bias and variance intuitively at The curse of bias and variance.\r\n",
        "\r\n",
        "2.When all you care about is the predictions and want a quick and dirty way out, random forest comes to the rescue. You don't have to worry much about the assumptions of the model or linearity in the dataset. \r\n",
        "\r\n",
        "# Advantages of using random forest:\r\n",
        "1.Random forests don't train well on smaller datasets as it fails to pick on the pattern. To simplify, say we know that 1 pen costs INR 1, 2 pens cost INR 2, 3 pens cost INR 6. In this case, linear regression will easily estimate the cost of 4 pens but random forests will fail to come up with a good estimate.\r\n",
        "\r\n",
        "2.There is a problem of interpretability with random forest. You can't see or understand the relationship between the response and the independent variables. Understand that random forest is a predictive tool and not a descriptive tool. You get variable importance but this may not suffice in many analysis of interests where the objective might be to see the relationship between response and the independent features.\r\n",
        "\r\n",
        "3.The time taken to train random forests may sometimes be too huge as you train multiple decision trees. Also, in the case of a categorical variable, the time complexity increases exponentially. For a categorical column with n levels, RF tries split at 2^n -1 points to find the maximal splitting point. \r\n",
        "\r\n",
        "4.In the case of a regression problem, the range of values response variable can take is determined by the values already available in the training dataset. Unlike linear regression, decision trees and hence random forest can't take values outside the training data. \r\n",
        "\r\n"
      ]
    },
    {
      "cell_type": "markdown",
      "metadata": {
        "id": "OsrGX0yqNorO"
      },
      "source": [
        "## K-Nearest Neighbors:\r\n",
        "\r\n",
        "- K-NN has no assumptions: K-NN is a non-parametric algorithm which means there are assumptions to be met to implement K-NN. Parametric models like linear regression has lots of assumptions to be met by data before it can be implemented which is not the case with K-NN.\r\n",
        "-No Training Step: K-NN does not explicitly build any model, it simply tags the new data entry based learning from historical data. New data entry would be tagged with majority class in the nearest neighbor.\r\n",
        "-It constantly evolves: Given it’s an instance-based learning; k-NN is a memory-based approach. The classifier immediately adapts as we collect new training data. It allows the algorithm to respond quickly to changes in the input during real-time use.\r\n",
        "-Very easy to implement for multi-class problem: Most of the classifier algorithms are easy to implement for binary problems and needs effort to implement for multi class whereas K-NN adjust to multi class without any extra efforts.\r\n",
        "-Can be used both for Classification and Regression: One of the biggest advantages of K-NN is that K-NN can be used both for classification and regression problems.\r\n",
        "-One Hyper Parameter: K-NN might take some time while selecting the first hyper parameter but after that rest of the parameters are aligned to it.\r\n",
        "-Variety of distance criteria to be choose from: K-NN algorithm gives user the flexibility to choose distance while building K-NN model.\r\n",
        " - Euclidean Distance\r\n",
        " - Hamming Distance\r\n",
        " - Manhattan Distance\r\n",
        " - Minkowski Distance\r\n",
        "\r\n",
        "## Cons of K-NN.\r\n",
        "\r\n",
        "- K-NN slow algorithm: K-NN might be very easy to implement but as dataset grows efficiency or speed of algorithm declines very fast.\r\n",
        "- Curse of Dimensionality: KNN works well with small number of input variables but as the numbers of variables grow K-NN algorithm struggles to predict the output of new data point.\r\n",
        "- K-NN needs homogeneous features: If you decide to build k-NN using a common distance, like Euclidean or Manhattan distances, it is completely necessary that features have the same scale, since absolute differences in features weight the same, i.e., a given distance in feature 1 must means the same for feature 2.\r\n",
        "- Optimal number of neighbors: One of the biggest issues with K-NN is to choose the optimal number of neighbors to be consider while classifying the new data entry.\r\n",
        "- Imbalanced data causes problems: k-NN doesn’t perform well on imbalanced data. If we consider two classes, A and B, and the majority of the training data is labeled as A, then the model will ultimately give a lot of preference to A. This might result in getting the less common class B wrongly classified.\r\n",
        "- Outlier sensitivity: K-NN algorithm is very sensitive to outliers as it simply chose the neighbors based on distance criteria.\r\n",
        "Missing Value treatment: K-NN inherently has no capability of dealing with missing value problem.\r\n"
      ]
    },
    {
      "cell_type": "markdown",
      "metadata": {
        "id": "dxj8bAe2JH-m"
      },
      "source": [
        "## Support Vector Machine\r\n",
        "\r\n",
        "## Advantages:\r\n",
        "- SVM works relatively well when there is a clear margin of separation between classes.\r\n",
        "- SVM is more effective in high dimensional spaces.\r\n",
        "- SVM is effective in cases where the number of dimensions is greater than the number of samples.\r\n",
        "- SVM is relatively memory efficient.\r\n",
        "\r\n",
        "## Disadvantages:\r\n",
        "- SVM algorithm is not suitable for large data sets.\r\n",
        "- SVM does not perform very well when the data set has more noise i.e. target classes are overlapping.\r\n",
        "- In cases where the number of features for each data point exceeds the number of training data samples, the SVM will underperform.\r\n",
        "- As the support vector classifier works by putting data points, above and below the classifying hyperplane there is no probabilistic explanation for the classification."
      ]
    },
    {
      "cell_type": "markdown",
      "metadata": {
        "id": "SSJj_UHaJINe"
      },
      "source": [
        "## Pros and Cons of Xgboost\r\n",
        "## Pros:\r\n",
        "- Extremely fast (parallel computation).\r\n",
        "- Highly efficient.\r\n",
        "- Versatile (Can be used for classification, regression or ranking).\r\n",
        "- Can be used to extract variable importance.\r\n",
        "- Do not require feature engineering (missing values imputation, scaling and normalization)\r\n",
        "##Cons:\r\n",
        "-Only work with numeric features.\r\n",
        "-Leads to overfitting if hyperparameters are not tuned properly.\r\n"
      ]
    },
    {
      "cell_type": "code",
      "metadata": {
        "id": "Lkfsbthaldxk"
      },
      "source": [
        "lr=LogisticRegression(random_state=100,C=1.0)\r\n",
        "dt=DecisionTreeClassifier(max_depth=100,max_features='sqrt',random_state=0)\r\n",
        "rf=RandomForestClassifier(random_state=100)\r\n",
        "knn=KNeighborsClassifier(n_neighbors=10,p=1,metric='manhattan')\r\n",
        "xgb=XGBClassifier(learning_rate=0.1,n_estimators=50)\r\n",
        "xgb1=XGBClassifier(max_depth=5,random_state=100)\r\n",
        "adaboost=AdaBoostClassifier(learning_rate=0.1,n_estimators=100)\r\n",
        "Gbclassifier=GaussianNB()\r\n",
        "svm_classifier=svm.SVC(kernel='linear',decision_function_shape='ovo')\r\n",
        "svm_classifier1=svm.SVC(kernel='sigmoid',decision_function_shape='ovo')"
      ],
      "execution_count": null,
      "outputs": []
    },
    {
      "cell_type": "code",
      "metadata": {
        "id": "K_dD0ca9tbiF"
      },
      "source": [
        "def Model_cv(X_train,X_test,Y_train,Y_test,model):\r\n",
        "    \r\n",
        "    sc=StandardScaler()\r\n",
        "    \r\n",
        "    X_train=sc.fit_transform(X_train)\r\n",
        "    X_test=sc.fit_transform(X_test)\r\n",
        "     \r\n",
        "    model.fit(X_train,Y_train)\r\n",
        "    #Test data prediction\r\n",
        "    y_pred=model.predict(X_test)\r\n",
        "    \r\n",
        "    # Train data Predcition\r\n",
        "    y_train_pred=model.predict(X_train)\r\n",
        "    \r\n",
        "    \r\n",
        "    print(cross_val_score(model,X_train,Y_train,cv=7,scoring='accuracy').mean())\r\n",
        "    \r\n",
        "    training_Score = accuracy_score(Y_train,y_train_pred.round())\r\n",
        "    testing_score = accuracy_score(Y_test,y_pred.round())\r\n",
        "    \r\n",
        "    print('Metrics for the model',model)\r\n",
        "    \r\n",
        "    print(\"Trainig Score_\",  training_Score)\r\n",
        "    print(\"Testing Score_\",testing_score)\r\n",
        "\r\n",
        "    print(confusion_matrix(Y_train,y_train_pred))\r\n",
        "    \r\n",
        "    print(confusion_matrix(Y_test,y_pred))\r\n",
        "    \r\n",
        "    print('Classification report on training',classification_report(Y_train,y_train_pred))\r\n",
        "    \r\n",
        "    print('Classification report on testing',classification_report(Y_test,y_pred))\r\n",
        "    \r\n",
        "    print('Precison Score on Training',precision_score(Y_train,y_train_pred.round(),average=None))\r\n",
        " \r\n",
        "    print('Precison Score on Testing',precision_score(Y_test,y_pred.round(),average=None))"
      ],
      "execution_count": null,
      "outputs": []
    },
    {
      "cell_type": "code",
      "metadata": {
        "colab": {
          "base_uri": "https://localhost:8080/"
        },
        "id": "DcD6m94Lllxz",
        "outputId": "f21a4395-d208-4f66-f53d-1a9d344bca80"
      },
      "source": [
        "Model_cv(X_train,X_test,y_train,y_test,lr)"
      ],
      "execution_count": null,
      "outputs": [
        {
          "output_type": "stream",
          "text": [
            "/usr/local/lib/python3.6/dist-packages/sklearn/linear_model/_logistic.py:940: ConvergenceWarning: lbfgs failed to converge (status=1):\n",
            "STOP: TOTAL NO. of ITERATIONS REACHED LIMIT.\n",
            "\n",
            "Increase the number of iterations (max_iter) or scale the data as shown in:\n",
            "    https://scikit-learn.org/stable/modules/preprocessing.html\n",
            "Please also refer to the documentation for alternative solver options:\n",
            "    https://scikit-learn.org/stable/modules/linear_model.html#logistic-regression\n",
            "  extra_warning_msg=_LOGISTIC_SOLVER_CONVERGENCE_MSG)\n",
            "/usr/local/lib/python3.6/dist-packages/sklearn/linear_model/_logistic.py:940: ConvergenceWarning: lbfgs failed to converge (status=1):\n",
            "STOP: TOTAL NO. of ITERATIONS REACHED LIMIT.\n",
            "\n",
            "Increase the number of iterations (max_iter) or scale the data as shown in:\n",
            "    https://scikit-learn.org/stable/modules/preprocessing.html\n",
            "Please also refer to the documentation for alternative solver options:\n",
            "    https://scikit-learn.org/stable/modules/linear_model.html#logistic-regression\n",
            "  extra_warning_msg=_LOGISTIC_SOLVER_CONVERGENCE_MSG)\n",
            "/usr/local/lib/python3.6/dist-packages/sklearn/linear_model/_logistic.py:940: ConvergenceWarning: lbfgs failed to converge (status=1):\n",
            "STOP: TOTAL NO. of ITERATIONS REACHED LIMIT.\n",
            "\n",
            "Increase the number of iterations (max_iter) or scale the data as shown in:\n",
            "    https://scikit-learn.org/stable/modules/preprocessing.html\n",
            "Please also refer to the documentation for alternative solver options:\n",
            "    https://scikit-learn.org/stable/modules/linear_model.html#logistic-regression\n",
            "  extra_warning_msg=_LOGISTIC_SOLVER_CONVERGENCE_MSG)\n",
            "/usr/local/lib/python3.6/dist-packages/sklearn/linear_model/_logistic.py:940: ConvergenceWarning: lbfgs failed to converge (status=1):\n",
            "STOP: TOTAL NO. of ITERATIONS REACHED LIMIT.\n",
            "\n",
            "Increase the number of iterations (max_iter) or scale the data as shown in:\n",
            "    https://scikit-learn.org/stable/modules/preprocessing.html\n",
            "Please also refer to the documentation for alternative solver options:\n",
            "    https://scikit-learn.org/stable/modules/linear_model.html#logistic-regression\n",
            "  extra_warning_msg=_LOGISTIC_SOLVER_CONVERGENCE_MSG)\n",
            "/usr/local/lib/python3.6/dist-packages/sklearn/linear_model/_logistic.py:940: ConvergenceWarning: lbfgs failed to converge (status=1):\n",
            "STOP: TOTAL NO. of ITERATIONS REACHED LIMIT.\n",
            "\n",
            "Increase the number of iterations (max_iter) or scale the data as shown in:\n",
            "    https://scikit-learn.org/stable/modules/preprocessing.html\n",
            "Please also refer to the documentation for alternative solver options:\n",
            "    https://scikit-learn.org/stable/modules/linear_model.html#logistic-regression\n",
            "  extra_warning_msg=_LOGISTIC_SOLVER_CONVERGENCE_MSG)\n",
            "/usr/local/lib/python3.6/dist-packages/sklearn/linear_model/_logistic.py:940: ConvergenceWarning: lbfgs failed to converge (status=1):\n",
            "STOP: TOTAL NO. of ITERATIONS REACHED LIMIT.\n",
            "\n",
            "Increase the number of iterations (max_iter) or scale the data as shown in:\n",
            "    https://scikit-learn.org/stable/modules/preprocessing.html\n",
            "Please also refer to the documentation for alternative solver options:\n",
            "    https://scikit-learn.org/stable/modules/linear_model.html#logistic-regression\n",
            "  extra_warning_msg=_LOGISTIC_SOLVER_CONVERGENCE_MSG)\n",
            "/usr/local/lib/python3.6/dist-packages/sklearn/linear_model/_logistic.py:940: ConvergenceWarning: lbfgs failed to converge (status=1):\n",
            "STOP: TOTAL NO. of ITERATIONS REACHED LIMIT.\n",
            "\n",
            "Increase the number of iterations (max_iter) or scale the data as shown in:\n",
            "    https://scikit-learn.org/stable/modules/preprocessing.html\n",
            "Please also refer to the documentation for alternative solver options:\n",
            "    https://scikit-learn.org/stable/modules/linear_model.html#logistic-regression\n",
            "  extra_warning_msg=_LOGISTIC_SOLVER_CONVERGENCE_MSG)\n"
          ],
          "name": "stderr"
        },
        {
          "output_type": "stream",
          "text": [
            "0.26919718936525655\n",
            "Metrics for the model LogisticRegression(C=1.0, class_weight=None, dual=False, fit_intercept=True,\n",
            "                   intercept_scaling=1, l1_ratio=None, max_iter=100,\n",
            "                   multi_class='auto', n_jobs=None, penalty='l2',\n",
            "                   random_state=100, solver='lbfgs', tol=0.0001, verbose=0,\n",
            "                   warm_start=False)\n",
            "Trainig Score_ 0.7574\n",
            "Testing Score_ 0.268\n",
            "[[386   6  16  11   8  11   8  11  37  11]\n",
            " [  9 379  11  12   6   9   8   4   9  13]\n",
            " [ 16  11 365  15  33  28  18  12  16   5]\n",
            " [ 13   9  19 345  15  33  27   8   6  11]\n",
            " [ 11   5  29  26 367  19  31  17   8   6]\n",
            " [  5  12  28  39  27 331  14  13  11   8]\n",
            " [  5   4  17  26  18  12 420   7   6   4]\n",
            " [ 11  10  19  17  23  15   4 366  10  11]\n",
            " [ 41   9   9  10   6   9   3   2 416  15]\n",
            " [ 17  14   9   6   3   6  10   6  15 412]]\n",
            "[[16  1  7  4  1  4  3  8 10  3]\n",
            " [ 5 13  3  2  4  0  4  2  0  8]\n",
            " [ 2  4  9  5 11  5  4  4  6  1]\n",
            " [ 0  3  4  9  5  7  7  7  4  3]\n",
            " [ 3  1  3  7  7  5  6  6  0  2]\n",
            " [ 3  1  3  4  9 14  8  2  2  2]\n",
            " [ 2  3  6  8  9  4 19  2  1  0]\n",
            " [ 2  1  6  5  8  5  5 10  3  2]\n",
            " [12  1  5  2  1  2  2  2 21  9]\n",
            " [ 4 15  1  1  2  2  1  6  8 16]]\n",
            "Classification report on training               precision    recall  f1-score   support\n",
            "\n",
            "           0       0.75      0.76      0.76       505\n",
            "           1       0.83      0.82      0.82       460\n",
            "           2       0.70      0.70      0.70       519\n",
            "           3       0.68      0.71      0.69       486\n",
            "           4       0.73      0.71      0.72       519\n",
            "           5       0.70      0.68      0.69       488\n",
            "           6       0.77      0.81      0.79       519\n",
            "           7       0.82      0.75      0.79       486\n",
            "           8       0.78      0.80      0.79       520\n",
            "           9       0.83      0.83      0.83       498\n",
            "\n",
            "    accuracy                           0.76      5000\n",
            "   macro avg       0.76      0.76      0.76      5000\n",
            "weighted avg       0.76      0.76      0.76      5000\n",
            "\n",
            "Classification report on testing               precision    recall  f1-score   support\n",
            "\n",
            "           0       0.33      0.28      0.30        57\n",
            "           1       0.30      0.32      0.31        41\n",
            "           2       0.19      0.18      0.18        51\n",
            "           3       0.19      0.18      0.19        49\n",
            "           4       0.12      0.17      0.14        40\n",
            "           5       0.29      0.29      0.29        48\n",
            "           6       0.32      0.35      0.34        54\n",
            "           7       0.20      0.21      0.21        47\n",
            "           8       0.38      0.37      0.37        57\n",
            "           9       0.35      0.29      0.31        56\n",
            "\n",
            "    accuracy                           0.27       500\n",
            "   macro avg       0.27      0.26      0.27       500\n",
            "weighted avg       0.27      0.27      0.27       500\n",
            "\n",
            "Precison Score on Training [0.75097276 0.82570806 0.69923372 0.68047337 0.72529644 0.69978858\n",
            " 0.77348066 0.8206278  0.77902622 0.83064516]\n",
            "Precison Score on Testing [0.32653061 0.30232558 0.19148936 0.19148936 0.12280702 0.29166667\n",
            " 0.3220339  0.20408163 0.38181818 0.34782609]\n"
          ],
          "name": "stdout"
        },
        {
          "output_type": "stream",
          "text": [
            "/usr/local/lib/python3.6/dist-packages/sklearn/linear_model/_logistic.py:940: ConvergenceWarning: lbfgs failed to converge (status=1):\n",
            "STOP: TOTAL NO. of ITERATIONS REACHED LIMIT.\n",
            "\n",
            "Increase the number of iterations (max_iter) or scale the data as shown in:\n",
            "    https://scikit-learn.org/stable/modules/preprocessing.html\n",
            "Please also refer to the documentation for alternative solver options:\n",
            "    https://scikit-learn.org/stable/modules/linear_model.html#logistic-regression\n",
            "  extra_warning_msg=_LOGISTIC_SOLVER_CONVERGENCE_MSG)\n"
          ],
          "name": "stderr"
        }
      ]
    },
    {
      "cell_type": "code",
      "metadata": {
        "colab": {
          "base_uri": "https://localhost:8080/"
        },
        "id": "fqdUGRt3YKN2",
        "outputId": "002faed3-c501-4aca-a775-86b152689d4f"
      },
      "source": [
        "Model_cv(X_train1,X_test1,Y_train1,Y_test1,lr)"
      ],
      "execution_count": null,
      "outputs": [
        {
          "output_type": "stream",
          "text": [
            "0.3547494536986657\n",
            "Metrics for the model LogisticRegression(C=1.0, class_weight=None, dual=False, fit_intercept=True,\n",
            "                   intercept_scaling=1, l1_ratio=None, max_iter=100,\n",
            "                   multi_class='auto', n_jobs=None, penalty='l2',\n",
            "                   random_state=100, solver='lbfgs', tol=0.0001, verbose=0,\n",
            "                   warm_start=False)\n",
            "Trainig Score_ 0.43925\n",
            "Testing Score_ 0.351\n",
            "[[201  17  25   7   9  18   8  19  80  29]\n",
            " [ 13 181  17   7  11  15  16  18  24  49]\n",
            " [ 32  13 137  25  49  39  57  27  23  11]\n",
            " [ 19  14  38 129  28  67  52  12  13  24]\n",
            " [ 22  11  61  24 147  36  47  40  13  15]\n",
            " [ 10  18  24  52  39 168  38  29  13  10]\n",
            " [  4  11  37  45  37  39 201  21   6  10]\n",
            " [ 23  19  17  28  43  25  22 173  15  25]\n",
            " [ 80  21  14  10   3  19   5   9 220  35]\n",
            " [ 31  48   8  15   6  10  22  22  31 200]]\n",
            "[[37  5  1  4  2  8  2  4 24  5]\n",
            " [ 8 38  5  6  0 11 10  5  6 20]\n",
            " [10  3 34  5 16 14  8  9  7  0]\n",
            " [ 3  7 12 14  3 26 11  1  4  9]\n",
            " [ 4  1 11  4 33  6 24 16  2  2]\n",
            " [ 3  5 13 17  6 18  5  7 10  3]\n",
            " [ 1  2 11 16 15  7 43  4  4  5]\n",
            " [ 4  1  7  9 13  3  7 37  5 10]\n",
            " [29  6  3  1  3  5  1  1 51  4]\n",
            " [ 4 26  3  4  1  3  3  7  8 46]]\n",
            "Classification report on training               precision    recall  f1-score   support\n",
            "\n",
            "           0       0.46      0.49      0.47       413\n",
            "           1       0.51      0.52      0.51       351\n",
            "           2       0.36      0.33      0.35       413\n",
            "           3       0.38      0.33      0.35       396\n",
            "           4       0.40      0.35      0.37       416\n",
            "           5       0.39      0.42      0.40       401\n",
            "           6       0.43      0.49      0.46       411\n",
            "           7       0.47      0.44      0.46       390\n",
            "           8       0.50      0.53      0.52       416\n",
            "           9       0.49      0.51      0.50       393\n",
            "\n",
            "    accuracy                           0.44      4000\n",
            "   macro avg       0.44      0.44      0.44      4000\n",
            "weighted avg       0.44      0.44      0.44      4000\n",
            "\n",
            "Classification report on testing               precision    recall  f1-score   support\n",
            "\n",
            "           0       0.36      0.40      0.38        92\n",
            "           1       0.40      0.35      0.37       109\n",
            "           2       0.34      0.32      0.33       106\n",
            "           3       0.17      0.16      0.16        90\n",
            "           4       0.36      0.32      0.34       103\n",
            "           5       0.18      0.21      0.19        87\n",
            "           6       0.38      0.40      0.39       108\n",
            "           7       0.41      0.39      0.40        96\n",
            "           8       0.42      0.49      0.45       104\n",
            "           9       0.44      0.44      0.44       105\n",
            "\n",
            "    accuracy                           0.35      1000\n",
            "   macro avg       0.35      0.35      0.35      1000\n",
            "weighted avg       0.35      0.35      0.35      1000\n",
            "\n",
            "Precison Score on Training [0.46206897 0.51274788 0.36243386 0.37719298 0.39516129 0.3853211\n",
            " 0.42948718 0.46756757 0.50228311 0.49019608]\n",
            "Precison Score on Testing [0.3592233  0.40425532 0.34       0.175      0.35869565 0.17821782\n",
            " 0.37719298 0.40659341 0.4214876  0.44230769]\n"
          ],
          "name": "stdout"
        }
      ]
    },
    {
      "cell_type": "code",
      "metadata": {
        "colab": {
          "base_uri": "https://localhost:8080/"
        },
        "id": "PVzGeuyCSz9R",
        "outputId": "ffcfbf0f-66ce-402a-dfbd-028a5b058705"
      },
      "source": [
        "Model_cv(X_train,X_test,y_train,y_test,dt)"
      ],
      "execution_count": null,
      "outputs": [
        {
          "output_type": "stream",
          "text": [
            "0.22620292872393716\n",
            "Metrics for the model DecisionTreeClassifier(ccp_alpha=0.0, class_weight=None, criterion='gini',\n",
            "                       max_depth=100, max_features='sqrt', max_leaf_nodes=None,\n",
            "                       min_impurity_decrease=0.0, min_impurity_split=None,\n",
            "                       min_samples_leaf=1, min_samples_split=2,\n",
            "                       min_weight_fraction_leaf=0.0, presort='deprecated',\n",
            "                       random_state=0, splitter='best')\n",
            "Trainig Score_ 1.0\n",
            "Testing Score_ 0.202\n",
            "[[505   0   0   0   0   0   0   0   0   0]\n",
            " [  0 460   0   0   0   0   0   0   0   0]\n",
            " [  0   0 519   0   0   0   0   0   0   0]\n",
            " [  0   0   0 486   0   0   0   0   0   0]\n",
            " [  0   0   0   0 519   0   0   0   0   0]\n",
            " [  0   0   0   0   0 488   0   0   0   0]\n",
            " [  0   0   0   0   0   0 519   0   0   0]\n",
            " [  0   0   0   0   0   0   0 486   0   0]\n",
            " [  0   0   0   0   0   0   0   0 520   0]\n",
            " [  0   0   0   0   0   0   0   0   0 498]]\n",
            "[[15  3  6  2  2  5  4  2 10  8]\n",
            " [ 2  8  5  2  3  2  3  5  5  6]\n",
            " [ 2  4 10  5  8  3  8  6  1  4]\n",
            " [ 2  0  5  7  4  7  9 11  1  3]\n",
            " [ 4  1  4  5  8  4  5  7  1  1]\n",
            " [ 4  1  7  6  3  8  7  8  1  3]\n",
            " [ 2  3 10  9  8  2 11  2  3  4]\n",
            " [ 7  4  8  6  3  4  4  5  3  3]\n",
            " [12  2  4  4  4  6  2  2 18  3]\n",
            " [ 7  6  3  4  2  5  3 12  3 11]]\n",
            "Classification report on training               precision    recall  f1-score   support\n",
            "\n",
            "           0       1.00      1.00      1.00       505\n",
            "           1       1.00      1.00      1.00       460\n",
            "           2       1.00      1.00      1.00       519\n",
            "           3       1.00      1.00      1.00       486\n",
            "           4       1.00      1.00      1.00       519\n",
            "           5       1.00      1.00      1.00       488\n",
            "           6       1.00      1.00      1.00       519\n",
            "           7       1.00      1.00      1.00       486\n",
            "           8       1.00      1.00      1.00       520\n",
            "           9       1.00      1.00      1.00       498\n",
            "\n",
            "    accuracy                           1.00      5000\n",
            "   macro avg       1.00      1.00      1.00      5000\n",
            "weighted avg       1.00      1.00      1.00      5000\n",
            "\n",
            "Classification report on testing               precision    recall  f1-score   support\n",
            "\n",
            "           0       0.26      0.26      0.26        57\n",
            "           1       0.25      0.20      0.22        41\n",
            "           2       0.16      0.20      0.18        51\n",
            "           3       0.14      0.14      0.14        49\n",
            "           4       0.18      0.20      0.19        40\n",
            "           5       0.17      0.17      0.17        48\n",
            "           6       0.20      0.20      0.20        54\n",
            "           7       0.08      0.11      0.09        47\n",
            "           8       0.39      0.32      0.35        57\n",
            "           9       0.24      0.20      0.22        56\n",
            "\n",
            "    accuracy                           0.20       500\n",
            "   macro avg       0.21      0.20      0.20       500\n",
            "weighted avg       0.21      0.20      0.21       500\n",
            "\n",
            "Precison Score on Training [1. 1. 1. 1. 1. 1. 1. 1. 1. 1.]\n",
            "Precison Score on Testing [0.26315789 0.25       0.16129032 0.14       0.17777778 0.17391304\n",
            " 0.19642857 0.08333333 0.39130435 0.23913043]\n"
          ],
          "name": "stdout"
        }
      ]
    },
    {
      "cell_type": "code",
      "metadata": {
        "colab": {
          "base_uri": "https://localhost:8080/"
        },
        "id": "XiQGRF0_3XR0",
        "outputId": "212264f6-d8c0-4346-bd4f-22d40907fa54"
      },
      "source": [
        "Model_cv(X_train1,X_test1,Y_train1,Y_test1,dt)"
      ],
      "execution_count": null,
      "outputs": [
        {
          "output_type": "stream",
          "text": [
            "0.18850807686184218\n",
            "Metrics for the model DecisionTreeClassifier(ccp_alpha=0.0, class_weight=None, criterion='gini',\n",
            "                       max_depth=100, max_features='sqrt', max_leaf_nodes=None,\n",
            "                       min_impurity_decrease=0.0, min_impurity_split=None,\n",
            "                       min_samples_leaf=1, min_samples_split=2,\n",
            "                       min_weight_fraction_leaf=0.0, presort='deprecated',\n",
            "                       random_state=0, splitter='best')\n",
            "Trainig Score_ 1.0\n",
            "Testing Score_ 0.173\n",
            "[[413   0   0   0   0   0   0   0   0   0]\n",
            " [  0 351   0   0   0   0   0   0   0   0]\n",
            " [  0   0 413   0   0   0   0   0   0   0]\n",
            " [  0   0   0 396   0   0   0   0   0   0]\n",
            " [  0   0   0   0 416   0   0   0   0   0]\n",
            " [  0   0   0   0   0 401   0   0   0   0]\n",
            " [  0   0   0   0   0   0 411   0   0   0]\n",
            " [  0   0   0   0   0   0   0 390   0   0]\n",
            " [  0   0   0   0   0   0   0   0 416   0]\n",
            " [  0   0   0   0   0   0   0   0   0 393]]\n",
            "[[16  7  8  7 12 11  4  6 16  5]\n",
            " [ 8 21  8 14  9  9 13  7  6 14]\n",
            " [13  9 18  8 17  5 17  5  5  9]\n",
            " [ 3  5 10 11  8 15 13 10  6  9]\n",
            " [ 5  6 15  8 20 12 16 13  6  2]\n",
            " [ 7  9  9 13  6 14  6 11  4  8]\n",
            " [ 6  2 12 15 15  7 27  8  5 11]\n",
            " [12  5 12 10 13  7  8 16  7  6]\n",
            " [11 13  5 10  9 11  7 10 18 10]\n",
            " [10 17 11  7  5  6 10 11 16 12]]\n",
            "Classification report on training               precision    recall  f1-score   support\n",
            "\n",
            "           0       1.00      1.00      1.00       413\n",
            "           1       1.00      1.00      1.00       351\n",
            "           2       1.00      1.00      1.00       413\n",
            "           3       1.00      1.00      1.00       396\n",
            "           4       1.00      1.00      1.00       416\n",
            "           5       1.00      1.00      1.00       401\n",
            "           6       1.00      1.00      1.00       411\n",
            "           7       1.00      1.00      1.00       390\n",
            "           8       1.00      1.00      1.00       416\n",
            "           9       1.00      1.00      1.00       393\n",
            "\n",
            "    accuracy                           1.00      4000\n",
            "   macro avg       1.00      1.00      1.00      4000\n",
            "weighted avg       1.00      1.00      1.00      4000\n",
            "\n",
            "Classification report on testing               precision    recall  f1-score   support\n",
            "\n",
            "           0       0.18      0.17      0.17        92\n",
            "           1       0.22      0.19      0.21       109\n",
            "           2       0.17      0.17      0.17       106\n",
            "           3       0.11      0.12      0.11        90\n",
            "           4       0.18      0.19      0.18       103\n",
            "           5       0.14      0.16      0.15        87\n",
            "           6       0.22      0.25      0.24       108\n",
            "           7       0.16      0.17      0.17        96\n",
            "           8       0.20      0.17      0.19       104\n",
            "           9       0.14      0.11      0.13       105\n",
            "\n",
            "    accuracy                           0.17      1000\n",
            "   macro avg       0.17      0.17      0.17      1000\n",
            "weighted avg       0.17      0.17      0.17      1000\n",
            "\n",
            "Precison Score on Training [1. 1. 1. 1. 1. 1. 1. 1. 1. 1.]\n",
            "Precison Score on Testing [0.17582418 0.22340426 0.16666667 0.10679612 0.1754386  0.1443299\n",
            " 0.2231405  0.16494845 0.20224719 0.13953488]\n"
          ],
          "name": "stdout"
        }
      ]
    },
    {
      "cell_type": "code",
      "metadata": {
        "colab": {
          "base_uri": "https://localhost:8080/"
        },
        "id": "20czRWP4TX3g",
        "outputId": "14247206-eb68-45c9-ed50-64cd5a837f9b"
      },
      "source": [
        "Model_cv(X_train,X_test,y_train,y_test,rf)"
      ],
      "execution_count": null,
      "outputs": [
        {
          "output_type": "stream",
          "text": [
            "0.3902033540689002\n",
            "Metrics for the model RandomForestClassifier(bootstrap=True, ccp_alpha=0.0, class_weight=None,\n",
            "                       criterion='gini', max_depth=None, max_features='auto',\n",
            "                       max_leaf_nodes=None, max_samples=None,\n",
            "                       min_impurity_decrease=0.0, min_impurity_split=None,\n",
            "                       min_samples_leaf=1, min_samples_split=2,\n",
            "                       min_weight_fraction_leaf=0.0, n_estimators=100,\n",
            "                       n_jobs=None, oob_score=False, random_state=100,\n",
            "                       verbose=0, warm_start=False)\n",
            "Trainig Score_ 1.0\n",
            "Testing Score_ 0.362\n",
            "[[505   0   0   0   0   0   0   0   0   0]\n",
            " [  0 460   0   0   0   0   0   0   0   0]\n",
            " [  0   0 519   0   0   0   0   0   0   0]\n",
            " [  0   0   0 486   0   0   0   0   0   0]\n",
            " [  0   0   0   0 519   0   0   0   0   0]\n",
            " [  0   0   0   0   0 488   0   0   0   0]\n",
            " [  0   0   0   0   0   0 519   0   0   0]\n",
            " [  0   0   0   0   0   0   0 486   0   0]\n",
            " [  0   0   0   0   0   0   0   0 520   0]\n",
            " [  0   0   0   0   0   0   0   0   0 498]]\n",
            "[[23  0  3  1  3  1  2  1 16  7]\n",
            " [ 0 17  2  1  1  3  2  2  5  8]\n",
            " [10  3 13  2  9  5  5  2  2  0]\n",
            " [ 3  0  5  9  6 14  6  3  0  3]\n",
            " [ 5  2  6  1  9  4  7  3  1  2]\n",
            " [ 3  0  5  7  2 19  4  6  1  1]\n",
            " [ 1  2  6  3 14  2 23  2  1  0]\n",
            " [ 2  2  6  4  7  5  6 10  1  4]\n",
            " [10  2  2  0  2  5  0  4 26  6]\n",
            " [ 5  5  2  1  0  1  2  2  6 32]]\n",
            "Classification report on training               precision    recall  f1-score   support\n",
            "\n",
            "           0       1.00      1.00      1.00       505\n",
            "           1       1.00      1.00      1.00       460\n",
            "           2       1.00      1.00      1.00       519\n",
            "           3       1.00      1.00      1.00       486\n",
            "           4       1.00      1.00      1.00       519\n",
            "           5       1.00      1.00      1.00       488\n",
            "           6       1.00      1.00      1.00       519\n",
            "           7       1.00      1.00      1.00       486\n",
            "           8       1.00      1.00      1.00       520\n",
            "           9       1.00      1.00      1.00       498\n",
            "\n",
            "    accuracy                           1.00      5000\n",
            "   macro avg       1.00      1.00      1.00      5000\n",
            "weighted avg       1.00      1.00      1.00      5000\n",
            "\n",
            "Classification report on testing               precision    recall  f1-score   support\n",
            "\n",
            "           0       0.37      0.40      0.39        57\n",
            "           1       0.52      0.41      0.46        41\n",
            "           2       0.26      0.25      0.26        51\n",
            "           3       0.31      0.18      0.23        49\n",
            "           4       0.17      0.23      0.19        40\n",
            "           5       0.32      0.40      0.36        48\n",
            "           6       0.40      0.43      0.41        54\n",
            "           7       0.29      0.21      0.24        47\n",
            "           8       0.44      0.46      0.45        57\n",
            "           9       0.51      0.57      0.54        56\n",
            "\n",
            "    accuracy                           0.36       500\n",
            "   macro avg       0.36      0.35      0.35       500\n",
            "weighted avg       0.36      0.36      0.36       500\n",
            "\n",
            "Precison Score on Training [1. 1. 1. 1. 1. 1. 1. 1. 1. 1.]\n",
            "Precison Score on Testing [0.37096774 0.51515152 0.26       0.31034483 0.16981132 0.3220339\n",
            " 0.40350877 0.28571429 0.44067797 0.50793651]\n"
          ],
          "name": "stdout"
        }
      ]
    },
    {
      "cell_type": "code",
      "metadata": {
        "colab": {
          "base_uri": "https://localhost:8080/"
        },
        "id": "djnUJPD1nAie",
        "outputId": "7b758ec3-62e5-4dba-a867-2648918a26db"
      },
      "source": [
        "Model_cv(X_train1,X_test1,Y_train1,Y_test1,rf)"
      ],
      "execution_count": null,
      "outputs": [
        {
          "output_type": "stream",
          "text": [
            "0.36274977211929926\n",
            "Metrics for the model RandomForestClassifier(bootstrap=True, ccp_alpha=0.0, class_weight=None,\n",
            "                       criterion='gini', max_depth=None, max_features='auto',\n",
            "                       max_leaf_nodes=None, max_samples=None,\n",
            "                       min_impurity_decrease=0.0, min_impurity_split=None,\n",
            "                       min_samples_leaf=1, min_samples_split=2,\n",
            "                       min_weight_fraction_leaf=0.0, n_estimators=100,\n",
            "                       n_jobs=None, oob_score=False, random_state=100,\n",
            "                       verbose=0, warm_start=False)\n",
            "Trainig Score_ 1.0\n",
            "Testing Score_ 0.397\n",
            "[[413   0   0   0   0   0   0   0   0   0]\n",
            " [  0 351   0   0   0   0   0   0   0   0]\n",
            " [  0   0 413   0   0   0   0   0   0   0]\n",
            " [  0   0   0 396   0   0   0   0   0   0]\n",
            " [  0   0   0   0 416   0   0   0   0   0]\n",
            " [  0   0   0   0   0 401   0   0   0   0]\n",
            " [  0   0   0   0   0   0 411   0   0   0]\n",
            " [  0   0   0   0   0   0   0 390   0   0]\n",
            " [  0   0   0   0   0   0   0   0 416   0]\n",
            " [  0   0   0   0   0   0   0   0   0 393]]\n",
            "[[51  2  2  1  2  4  3  6 15  6]\n",
            " [ 2 43  3  4  7  6 10  3 16 15]\n",
            " [19  2 26  9 17  7 13  4  7  2]\n",
            " [ 6  3  7 25  5 20  8  2  4 10]\n",
            " [ 2  1 15  5 49  5  8 10  3  5]\n",
            " [ 6  5  8  9  9 24  8  6  4  8]\n",
            " [ 4  3  4 10 19  7 49  5  4  3]\n",
            " [ 6  4  4 10 20  7  9 25  3  8]\n",
            " [19  6  4  5  1  3  3  0 59  4]\n",
            " [ 7 14  2  7  3  4  5  9  8 46]]\n",
            "Classification report on training               precision    recall  f1-score   support\n",
            "\n",
            "           0       1.00      1.00      1.00       413\n",
            "           1       1.00      1.00      1.00       351\n",
            "           2       1.00      1.00      1.00       413\n",
            "           3       1.00      1.00      1.00       396\n",
            "           4       1.00      1.00      1.00       416\n",
            "           5       1.00      1.00      1.00       401\n",
            "           6       1.00      1.00      1.00       411\n",
            "           7       1.00      1.00      1.00       390\n",
            "           8       1.00      1.00      1.00       416\n",
            "           9       1.00      1.00      1.00       393\n",
            "\n",
            "    accuracy                           1.00      4000\n",
            "   macro avg       1.00      1.00      1.00      4000\n",
            "weighted avg       1.00      1.00      1.00      4000\n",
            "\n",
            "Classification report on testing               precision    recall  f1-score   support\n",
            "\n",
            "           0       0.42      0.55      0.48        92\n",
            "           1       0.52      0.39      0.45       109\n",
            "           2       0.35      0.25      0.29       106\n",
            "           3       0.29      0.28      0.29        90\n",
            "           4       0.37      0.48      0.42       103\n",
            "           5       0.28      0.28      0.28        87\n",
            "           6       0.42      0.45      0.44       108\n",
            "           7       0.36      0.26      0.30        96\n",
            "           8       0.48      0.57      0.52       104\n",
            "           9       0.43      0.44      0.43       105\n",
            "\n",
            "    accuracy                           0.40      1000\n",
            "   macro avg       0.39      0.39      0.39      1000\n",
            "weighted avg       0.40      0.40      0.39      1000\n",
            "\n",
            "Precison Score on Training [1. 1. 1. 1. 1. 1. 1. 1. 1. 1.]\n",
            "Precison Score on Testing [0.41803279 0.51807229 0.34666667 0.29411765 0.37121212 0.27586207\n",
            " 0.42241379 0.35714286 0.4796748  0.42990654]\n"
          ],
          "name": "stdout"
        }
      ]
    },
    {
      "cell_type": "code",
      "metadata": {
        "colab": {
          "base_uri": "https://localhost:8080/"
        },
        "id": "BonViAgMW9CM",
        "outputId": "e5ee71ee-bc3f-4f5c-8d81-42e29a2c7a77"
      },
      "source": [
        "Model_cv(X_train,X_test,y_train,y_test,knn)"
      ],
      "execution_count": null,
      "outputs": [
        {
          "output_type": "stream",
          "text": [
            "0.31040192300696506\n",
            "Metrics for the model KNeighborsClassifier(algorithm='auto', leaf_size=30, metric='manhattan',\n",
            "                     metric_params=None, n_jobs=None, n_neighbors=10, p=1,\n",
            "                     weights='uniform')\n",
            "Trainig Score_ 0.4176\n",
            "Testing Score_ 0.294\n",
            "[[323   1  53   2  16   0  15   3  90   2]\n",
            " [ 49 112  41  12  99   9  35   7  76  20]\n",
            " [ 46   0 312  19  91   3  19   5  23   1]\n",
            " [ 36   5  93 141 110  23  45   8  24   1]\n",
            " [ 37   3 115   8 310   2  23   6  14   1]\n",
            " [ 44   1  93  47 114 125  36   6  20   2]\n",
            " [ 21   3 145  13 124   4 203   1   5   0]\n",
            " [ 51   3  92  20 146  10  19 115  21   9]\n",
            " [ 91   6  27   5  30   9   7   4 334   7]\n",
            " [ 63  27  52  19  53   4  25  26 116 113]]\n",
            "[[27  0  5  0  4  0  2  1 17  1]\n",
            " [ 3  4  6  1 12  0  3  0 10  2]\n",
            " [10  0 24  2 11  1  2  0  1  0]\n",
            " [ 2  0 13  7 11  5  9  1  1  0]\n",
            " [ 3  0 10  0 16  1  5  0  4  1]\n",
            " [ 5  1 10  2 16  5  6  1  2  0]\n",
            " [ 1  0 13  3 20  0 13  1  3  0]\n",
            " [ 5  0 13  1 14  2  7  2  2  1]\n",
            " [ 8  0  3  2  3  1  0  0 40  0]\n",
            " [ 9  1  5  2  7  0  4  4 15  9]]\n",
            "Classification report on training               precision    recall  f1-score   support\n",
            "\n",
            "           0       0.42      0.64      0.51       505\n",
            "           1       0.70      0.24      0.36       460\n",
            "           2       0.30      0.60      0.40       519\n",
            "           3       0.49      0.29      0.37       486\n",
            "           4       0.28      0.60      0.38       519\n",
            "           5       0.66      0.26      0.37       488\n",
            "           6       0.48      0.39      0.43       519\n",
            "           7       0.64      0.24      0.34       486\n",
            "           8       0.46      0.64      0.54       520\n",
            "           9       0.72      0.23      0.35       498\n",
            "\n",
            "    accuracy                           0.42      5000\n",
            "   macro avg       0.52      0.41      0.41      5000\n",
            "weighted avg       0.51      0.42      0.41      5000\n",
            "\n",
            "Classification report on testing               precision    recall  f1-score   support\n",
            "\n",
            "           0       0.37      0.47      0.42        57\n",
            "           1       0.67      0.10      0.17        41\n",
            "           2       0.24      0.47      0.31        51\n",
            "           3       0.35      0.14      0.20        49\n",
            "           4       0.14      0.40      0.21        40\n",
            "           5       0.33      0.10      0.16        48\n",
            "           6       0.25      0.24      0.25        54\n",
            "           7       0.20      0.04      0.07        47\n",
            "           8       0.42      0.70      0.53        57\n",
            "           9       0.64      0.16      0.26        56\n",
            "\n",
            "    accuracy                           0.29       500\n",
            "   macro avg       0.36      0.28      0.26       500\n",
            "weighted avg       0.36      0.29      0.27       500\n",
            "\n",
            "Precison Score on Training [0.42444152 0.69565217 0.30498534 0.49300699 0.28362306 0.66137566\n",
            " 0.47540984 0.63535912 0.46196404 0.72435897]\n",
            "Precison Score on Testing [0.36986301 0.66666667 0.23529412 0.35       0.14035088 0.33333333\n",
            " 0.25490196 0.2        0.42105263 0.64285714]\n"
          ],
          "name": "stdout"
        }
      ]
    },
    {
      "cell_type": "code",
      "metadata": {
        "colab": {
          "base_uri": "https://localhost:8080/"
        },
        "id": "URAx9eDDn_Kw",
        "outputId": "515b6b1b-76b8-4178-f937-50de70e62181"
      },
      "source": [
        "Model_cv(X_train1,X_test1,Y_train1,Y_test1,knn)"
      ],
      "execution_count": null,
      "outputs": [
        {
          "output_type": "stream",
          "text": [
            "0.20374065514170595\n",
            "Metrics for the model KNeighborsClassifier(algorithm='auto', leaf_size=30, metric='manhattan',\n",
            "                     metric_params=None, n_jobs=None, n_neighbors=10, p=1,\n",
            "                     weights='uniform')\n",
            "Trainig Score_ 0.30975\n",
            "Testing Score_ 0.213\n",
            "[[289   0  50   1  32   0  11   0  30   0]\n",
            " [ 84  33  84   8  71   2  36   0  33   0]\n",
            " [ 42   1 248   3 105   3   8   0   3   0]\n",
            " [ 52   0 149  43  94  11  42   1   4   0]\n",
            " [ 33   0 106   2 265   1   6   0   3   0]\n",
            " [ 43   1 141  11 119  45  38   1   2   0]\n",
            " [ 24   1 115   7 130   2 129   0   3   0]\n",
            " [ 59   0 122   5 144   6  22  30   2   0]\n",
            " [135   0  71   3  45   1   6   1 154   0]\n",
            " [ 90   2  92  15  99   2  44   5  41   3]]\n",
            "[[39  0 24  0 14  0  2  0 13  0]\n",
            " [28  1 21  1 25  0 14  0 19  0]\n",
            " [17  0 48  1 33  0  6  0  1  0]\n",
            " [14  0 30  6 23  2 14  0  1  0]\n",
            " [ 8  0 31  0 60  0  3  0  1  0]\n",
            " [11  0 31  0 24  6 15  0  0  0]\n",
            " [10  0 28  1 43  0 26  0  0  0]\n",
            " [12  0 27  3 37  0  7  7  3  0]\n",
            " [44  0 21  0 15  0  4  1 19  0]\n",
            " [30  0 25  1 25  2 10  1 10  1]]\n",
            "Classification report on training               precision    recall  f1-score   support\n",
            "\n",
            "           0       0.34      0.70      0.46       413\n",
            "           1       0.87      0.09      0.17       351\n",
            "           2       0.21      0.60      0.31       413\n",
            "           3       0.44      0.11      0.17       396\n",
            "           4       0.24      0.64      0.35       416\n",
            "           5       0.62      0.11      0.19       401\n",
            "           6       0.38      0.31      0.34       411\n",
            "           7       0.79      0.08      0.14       390\n",
            "           8       0.56      0.37      0.45       416\n",
            "           9       1.00      0.01      0.02       393\n",
            "\n",
            "    accuracy                           0.31      4000\n",
            "   macro avg       0.54      0.30      0.26      4000\n",
            "weighted avg       0.54      0.31      0.26      4000\n",
            "\n",
            "Classification report on testing               precision    recall  f1-score   support\n",
            "\n",
            "           0       0.18      0.42      0.26        92\n",
            "           1       1.00      0.01      0.02       109\n",
            "           2       0.17      0.45      0.24       106\n",
            "           3       0.46      0.07      0.12        90\n",
            "           4       0.20      0.58      0.30       103\n",
            "           5       0.60      0.07      0.12        87\n",
            "           6       0.26      0.24      0.25       108\n",
            "           7       0.78      0.07      0.13        96\n",
            "           8       0.28      0.18      0.22       104\n",
            "           9       1.00      0.01      0.02       105\n",
            "\n",
            "    accuracy                           0.21      1000\n",
            "   macro avg       0.49      0.21      0.17      1000\n",
            "weighted avg       0.50      0.21      0.17      1000\n",
            "\n",
            "Precison Score on Training [0.33960047 0.86842105 0.21052632 0.43877551 0.24003623 0.61643836\n",
            " 0.37719298 0.78947368 0.56       1.        ]\n",
            "Precison Score on Testing [0.18309859 1.         0.16783217 0.46153846 0.2006689  0.6\n",
            " 0.25742574 0.77777778 0.28358209 1.        ]\n"
          ],
          "name": "stdout"
        }
      ]
    },
    {
      "cell_type": "code",
      "metadata": {
        "colab": {
          "base_uri": "https://localhost:8080/"
        },
        "id": "NFKcdqVlpOL3",
        "outputId": "d410cabf-7c0a-4265-ecd0-75c3b63f5e88"
      },
      "source": [
        "Model_cv(X_train,X_test,y_train,y_test,svm_classifier)"
      ],
      "execution_count": null,
      "outputs": [
        {
          "output_type": "stream",
          "text": [
            "0.29619512140520543\n",
            "Metrics for the model SVC(C=1.0, break_ties=False, cache_size=200, class_weight=None, coef0=0.0,\n",
            "    decision_function_shape='ovo', degree=3, gamma='scale', kernel='linear',\n",
            "    max_iter=-1, probability=False, random_state=None, shrinking=True,\n",
            "    tol=0.001, verbose=False)\n",
            "Trainig Score_ 1.0\n",
            "Testing Score_ 0.284\n",
            "[[505   0   0   0   0   0   0   0   0   0]\n",
            " [  0 460   0   0   0   0   0   0   0   0]\n",
            " [  0   0 519   0   0   0   0   0   0   0]\n",
            " [  0   0   0 486   0   0   0   0   0   0]\n",
            " [  0   0   0   0 519   0   0   0   0   0]\n",
            " [  0   0   0   0   0 488   0   0   0   0]\n",
            " [  0   0   0   0   0   0 519   0   0   0]\n",
            " [  0   0   0   0   0   0   0 486   0   0]\n",
            " [  0   0   0   0   0   0   0   0 520   0]\n",
            " [  0   0   0   0   0   0   0   0   0 498]]\n",
            "[[19  2  6  2  1  1  4  5 15  2]\n",
            " [ 2 20  2  1  1  2  2  3  3  5]\n",
            " [ 5  1 15  6  8  7  2  4  3  0]\n",
            " [ 2  5  6  9  8  7  3  3  5  1]\n",
            " [ 5  2  7  5  8  2  5  5  1  0]\n",
            " [ 5  2  5  9  8  8  5  3  1  2]\n",
            " [ 2  5  7  9  8  6 16  0  1  0]\n",
            " [ 8  2  9  4  5  4  5  7  3  0]\n",
            " [12  3  3  0  2  4  1  3 23  6]\n",
            " [ 5 10  1  2  4  1  0  7  9 17]]\n",
            "Classification report on training               precision    recall  f1-score   support\n",
            "\n",
            "           0       1.00      1.00      1.00       505\n",
            "           1       1.00      1.00      1.00       460\n",
            "           2       1.00      1.00      1.00       519\n",
            "           3       1.00      1.00      1.00       486\n",
            "           4       1.00      1.00      1.00       519\n",
            "           5       1.00      1.00      1.00       488\n",
            "           6       1.00      1.00      1.00       519\n",
            "           7       1.00      1.00      1.00       486\n",
            "           8       1.00      1.00      1.00       520\n",
            "           9       1.00      1.00      1.00       498\n",
            "\n",
            "    accuracy                           1.00      5000\n",
            "   macro avg       1.00      1.00      1.00      5000\n",
            "weighted avg       1.00      1.00      1.00      5000\n",
            "\n",
            "Classification report on testing               precision    recall  f1-score   support\n",
            "\n",
            "           0       0.29      0.33      0.31        57\n",
            "           1       0.38      0.49      0.43        41\n",
            "           2       0.25      0.29      0.27        51\n",
            "           3       0.19      0.18      0.19        49\n",
            "           4       0.15      0.20      0.17        40\n",
            "           5       0.19      0.17      0.18        48\n",
            "           6       0.37      0.30      0.33        54\n",
            "           7       0.17      0.15      0.16        47\n",
            "           8       0.36      0.40      0.38        57\n",
            "           9       0.52      0.30      0.38        56\n",
            "\n",
            "    accuracy                           0.28       500\n",
            "   macro avg       0.29      0.28      0.28       500\n",
            "weighted avg       0.29      0.28      0.28       500\n",
            "\n",
            "Precison Score on Training [1. 1. 1. 1. 1. 1. 1. 1. 1. 1.]\n",
            "Precison Score on Testing [0.29230769 0.38461538 0.24590164 0.19148936 0.1509434  0.19047619\n",
            " 0.37209302 0.175      0.359375   0.51515152]\n"
          ],
          "name": "stdout"
        }
      ]
    },
    {
      "cell_type": "code",
      "metadata": {
        "colab": {
          "base_uri": "https://localhost:8080/"
        },
        "id": "WD1W87VZoodD",
        "outputId": "45f71167-f03a-4694-98a8-ed218413240a"
      },
      "source": [
        "Model_cv(X_train1,X_test1,Y_train1,Y_test1,svm_classifier)"
      ],
      "execution_count": null,
      "outputs": [
        {
          "output_type": "stream",
          "text": [
            "0.3424985697314944\n",
            "Metrics for the model SVC(C=1.0, break_ties=False, cache_size=200, class_weight=None, coef0=0.0,\n",
            "    decision_function_shape='ovo', degree=3, gamma='scale', kernel='linear',\n",
            "    max_iter=-1, probability=False, random_state=None, shrinking=True,\n",
            "    tol=0.001, verbose=False)\n",
            "Trainig Score_ 0.50425\n",
            "Testing Score_ 0.338\n",
            "[[239  12  28  11   9  15   4  17  59  19]\n",
            " [ 14 218  18  12   5  12   7  11  14  40]\n",
            " [ 39  17 185  27  42  29  36  18  14   6]\n",
            " [ 17  14  38 166  27  55  43  11   9  16]\n",
            " [ 22  10  66  29 170  34  32  36   9   8]\n",
            " [ 12  16  34  56  32 195  22  21   5   8]\n",
            " [  3   5  39  63  40  33 208  12   3   5]\n",
            " [ 28  13  22  20  43  30  18 193   7  16]\n",
            " [ 76  23  12  10   6  15   4   7 232  31]\n",
            " [ 32  48   9  17   4   6  12  24  30 211]]\n",
            "[[39  8  5  3  2  1  3  6 21  4]\n",
            " [ 7 39  6  9  1  9  5  5  6 22]\n",
            " [11  4 35  7 17 11  9  5  4  3]\n",
            " [ 7  8 13 22  4 18  7  3  2  6]\n",
            " [ 6  1 15  7 30  8 18 16  0  2]\n",
            " [ 7  3 10 18 11 22  5  3  6  2]\n",
            " [ 1  4 19 20 13  6 38  3  1  3]\n",
            " [ 5  3 10  8 12  7  4 37  3  7]\n",
            " [37  6  7  3  4  2  1  0 38  6]\n",
            " [ 8 28  5  3  1  3  2  7 10 38]]\n",
            "Classification report on training               precision    recall  f1-score   support\n",
            "\n",
            "           0       0.50      0.58      0.53       413\n",
            "           1       0.58      0.62      0.60       351\n",
            "           2       0.41      0.45      0.43       413\n",
            "           3       0.40      0.42      0.41       396\n",
            "           4       0.45      0.41      0.43       416\n",
            "           5       0.46      0.49      0.47       401\n",
            "           6       0.54      0.51      0.52       411\n",
            "           7       0.55      0.49      0.52       390\n",
            "           8       0.61      0.56      0.58       416\n",
            "           9       0.59      0.54      0.56       393\n",
            "\n",
            "    accuracy                           0.50      4000\n",
            "   macro avg       0.51      0.51      0.51      4000\n",
            "weighted avg       0.51      0.50      0.50      4000\n",
            "\n",
            "Classification report on testing               precision    recall  f1-score   support\n",
            "\n",
            "           0       0.30      0.42      0.35        92\n",
            "           1       0.38      0.36      0.37       109\n",
            "           2       0.28      0.33      0.30       106\n",
            "           3       0.22      0.24      0.23        90\n",
            "           4       0.32      0.29      0.30       103\n",
            "           5       0.25      0.25      0.25        87\n",
            "           6       0.41      0.35      0.38       108\n",
            "           7       0.44      0.39      0.41        96\n",
            "           8       0.42      0.37      0.39       104\n",
            "           9       0.41      0.36      0.38       105\n",
            "\n",
            "    accuracy                           0.34      1000\n",
            "   macro avg       0.34      0.34      0.34      1000\n",
            "weighted avg       0.35      0.34      0.34      1000\n",
            "\n",
            "Precison Score on Training [0.49585062 0.57978723 0.41019956 0.40389294 0.44973545 0.45990566\n",
            " 0.5388601  0.55142857 0.60732984 0.58611111]\n",
            "Precison Score on Testing [0.3046875  0.375      0.28       0.22       0.31578947 0.25287356\n",
            " 0.41304348 0.43529412 0.41758242 0.40860215]\n"
          ],
          "name": "stdout"
        }
      ]
    },
    {
      "cell_type": "code",
      "metadata": {
        "colab": {
          "base_uri": "https://localhost:8080/"
        },
        "id": "iAjxrcOOXquq",
        "outputId": "306b5a91-a438-407a-df46-a7882b07f420"
      },
      "source": [
        "Model_cv(X_train,X_test,y_train,y_test,xgb)"
      ],
      "execution_count": null,
      "outputs": [
        {
          "output_type": "stream",
          "text": [
            "0.3954012374180441\n",
            "Metrics for the model XGBClassifier(base_score=0.5, booster='gbtree', colsample_bylevel=1,\n",
            "              colsample_bynode=1, colsample_bytree=1, gamma=0,\n",
            "              learning_rate=0.1, max_delta_step=0, max_depth=3,\n",
            "              min_child_weight=1, missing=None, n_estimators=50, n_jobs=1,\n",
            "              nthread=None, objective='multi:softprob', random_state=0,\n",
            "              reg_alpha=0, reg_lambda=1, scale_pos_weight=1, seed=None,\n",
            "              silent=None, subsample=1, verbosity=1)\n",
            "Trainig Score_ 0.6862\n",
            "Testing Score_ 0.38\n",
            "[[358   5  16   5   6   5  10  11  75  14]\n",
            " [ 10 338  10   6  12  21   5   6  16  36]\n",
            " [ 36   8 297  10  56  12  56  16  18  10]\n",
            " [ 13   8  31 245  34  45  64   7  14  25]\n",
            " [ 30   4  25   5 351  11  55  13  16   9]\n",
            " [ 13   5  34  12  30 330  38   7  12   7]\n",
            " [ 10   6  22   6  33  11 411   6   5   9]\n",
            " [ 14   7  21   8  50  16  23 313  13  21]\n",
            " [ 42  17   1   8  10   9  11   4 400  18]\n",
            " [ 17  17  11   8   5  10  17  12  13 388]]\n",
            "[[24  1  3  0  3  3  4  1 11  7]\n",
            " [ 0 18  1  2  1  3  4  1  3  8]\n",
            " [ 7  2 13  1 13  5  4  2  3  1]\n",
            " [ 2  3  3  6  7 12 11  2  1  2]\n",
            " [ 2  2  3  3 15  2  6  5  0  2]\n",
            " [ 3  0  7  7  8 13  3  4  2  1]\n",
            " [ 2  0  3  1 12  1 31  2  0  2]\n",
            " [ 2  1  4  6  6  2  7 14  2  3]\n",
            " [11  4  1  2  1  4  0  1 29  4]\n",
            " [ 6  6  2  1  0  1  2  4  7 27]]\n",
            "Classification report on training               precision    recall  f1-score   support\n",
            "\n",
            "           0       0.66      0.71      0.68       505\n",
            "           1       0.81      0.73      0.77       460\n",
            "           2       0.63      0.57      0.60       519\n",
            "           3       0.78      0.50      0.61       486\n",
            "           4       0.60      0.68      0.63       519\n",
            "           5       0.70      0.68      0.69       488\n",
            "           6       0.60      0.79      0.68       519\n",
            "           7       0.79      0.64      0.71       486\n",
            "           8       0.69      0.77      0.73       520\n",
            "           9       0.72      0.78      0.75       498\n",
            "\n",
            "    accuracy                           0.69      5000\n",
            "   macro avg       0.70      0.69      0.69      5000\n",
            "weighted avg       0.70      0.69      0.69      5000\n",
            "\n",
            "Classification report on testing               precision    recall  f1-score   support\n",
            "\n",
            "           0       0.41      0.42      0.41        57\n",
            "           1       0.49      0.44      0.46        41\n",
            "           2       0.33      0.25      0.29        51\n",
            "           3       0.21      0.12      0.15        49\n",
            "           4       0.23      0.38      0.28        40\n",
            "           5       0.28      0.27      0.28        48\n",
            "           6       0.43      0.57      0.49        54\n",
            "           7       0.39      0.30      0.34        47\n",
            "           8       0.50      0.51      0.50        57\n",
            "           9       0.47      0.48      0.48        56\n",
            "\n",
            "    accuracy                           0.38       500\n",
            "   macro avg       0.37      0.37      0.37       500\n",
            "weighted avg       0.38      0.38      0.37       500\n",
            "\n",
            "Precison Score on Training [0.65930018 0.81445783 0.63461538 0.7827476  0.59795571 0.70212766\n",
            " 0.59565217 0.79240506 0.68728522 0.72253259]\n",
            "Precison Score on Testing [0.40677966 0.48648649 0.325      0.20689655 0.22727273 0.2826087\n",
            " 0.43055556 0.38888889 0.5        0.47368421]\n"
          ],
          "name": "stdout"
        }
      ]
    },
    {
      "cell_type": "code",
      "metadata": {
        "id": "8U4iqiBr0Yff",
        "colab": {
          "base_uri": "https://localhost:8080/"
        },
        "outputId": "7e7ae85f-5423-4245-84ef-db0ccf00a163"
      },
      "source": [
        "Model_cv(X_train1,X_test1,Y_train1,Y_test1,xgb)"
      ],
      "execution_count": null,
      "outputs": [
        {
          "output_type": "stream",
          "text": [
            "0.36299908497806926\n",
            "Metrics for the model XGBClassifier(base_score=0.5, booster='gbtree', colsample_bylevel=1,\n",
            "              colsample_bynode=1, colsample_bytree=1, gamma=0,\n",
            "              learning_rate=0.1, max_delta_step=0, max_depth=3,\n",
            "              min_child_weight=1, missing=None, n_estimators=50, n_jobs=1,\n",
            "              nthread=None, objective='multi:softprob', random_state=0,\n",
            "              reg_alpha=0, reg_lambda=1, scale_pos_weight=1, seed=None,\n",
            "              silent=None, subsample=1, verbosity=1)\n",
            "Trainig Score_ 0.625\n",
            "Testing Score_ 0.37\n",
            "[[273   8  15  14   9   8   2   9  55  20]\n",
            " [ 15 229   9  11   6   7   7   8  30  29]\n",
            " [ 44   7 199  25  45  12  38  17  16  10]\n",
            " [ 14   8  25 211  13  45  39   9  14  18]\n",
            " [ 29   3  24  21 233  14  46  14  15  17]\n",
            " [  8   5  28  27  24 255  17  13  13  11]\n",
            " [  8   9  33  19  34  11 276   5   5  11]\n",
            " [ 14  11  21  18  26  12  16 239   9  24]\n",
            " [ 36  12   9   5   7  10   7   3 302  25]\n",
            " [  8  21   8   9   7   6   7  17  27 283]]\n",
            "[[48  2  3  1  1  3  3  3 19  9]\n",
            " [ 5 34  1  5  6 13  9  5 15 16]\n",
            " [12  1 30  4 22  6 12 10  9  0]\n",
            " [ 5  3 10 21  3 19 13  3  4  9]\n",
            " [ 6  1 19  6 31  6 16  9  3  6]\n",
            " [ 5  5  8  9  4 20 13  7  9  7]\n",
            " [ 4  4 12 10 14  5 49  5  1  4]\n",
            " [ 2  3  7  4 12  7  7 33  5 16]\n",
            " [20  6  2  2  0  6  1  2 57  8]\n",
            " [ 9 10  3  7  1  5  6  7 10 47]]\n",
            "Classification report on training               precision    recall  f1-score   support\n",
            "\n",
            "           0       0.61      0.66      0.63       413\n",
            "           1       0.73      0.65      0.69       351\n",
            "           2       0.54      0.48      0.51       413\n",
            "           3       0.59      0.53      0.56       396\n",
            "           4       0.58      0.56      0.57       416\n",
            "           5       0.67      0.64      0.65       401\n",
            "           6       0.61      0.67      0.64       411\n",
            "           7       0.72      0.61      0.66       390\n",
            "           8       0.62      0.73      0.67       416\n",
            "           9       0.63      0.72      0.67       393\n",
            "\n",
            "    accuracy                           0.62      4000\n",
            "   macro avg       0.63      0.63      0.63      4000\n",
            "weighted avg       0.63      0.62      0.62      4000\n",
            "\n",
            "Classification report on testing               precision    recall  f1-score   support\n",
            "\n",
            "           0       0.41      0.52      0.46        92\n",
            "           1       0.49      0.31      0.38       109\n",
            "           2       0.32      0.28      0.30       106\n",
            "           3       0.30      0.23      0.26        90\n",
            "           4       0.33      0.30      0.31       103\n",
            "           5       0.22      0.23      0.23        87\n",
            "           6       0.38      0.45      0.41       108\n",
            "           7       0.39      0.34      0.37        96\n",
            "           8       0.43      0.55      0.48       104\n",
            "           9       0.39      0.45      0.41       105\n",
            "\n",
            "    accuracy                           0.37      1000\n",
            "   macro avg       0.37      0.37      0.36      1000\n",
            "weighted avg       0.37      0.37      0.37      1000\n",
            "\n",
            "Precison Score on Training [0.60801782 0.73162939 0.53638814 0.58611111 0.57673267 0.67105263\n",
            " 0.60659341 0.71556886 0.62139918 0.63169643]\n",
            "Precison Score on Testing [0.4137931  0.49275362 0.31578947 0.30434783 0.32978723 0.22222222\n",
            " 0.37984496 0.39285714 0.43181818 0.3852459 ]\n"
          ],
          "name": "stdout"
        }
      ]
    },
    {
      "cell_type": "code",
      "metadata": {
        "id": "6pQf1tcO13aq",
        "colab": {
          "base_uri": "https://localhost:8080/"
        },
        "outputId": "e53c974a-b83b-4b65-c774-7b86e0f43153"
      },
      "source": [
        "Model_cv(X_train1,X_test1,Y_train1,Y_test1,xgb1)"
      ],
      "execution_count": null,
      "outputs": [
        {
          "output_type": "stream",
          "text": [
            "0.38149766170781935\n",
            "Metrics for the model XGBClassifier(base_score=0.5, booster='gbtree', colsample_bylevel=1,\n",
            "              colsample_bynode=1, colsample_bytree=1, gamma=0,\n",
            "              learning_rate=0.1, max_delta_step=0, max_depth=5,\n",
            "              min_child_weight=1, missing=None, n_estimators=100, n_jobs=1,\n",
            "              nthread=None, objective='multi:softprob', random_state=100,\n",
            "              reg_alpha=0, reg_lambda=1, scale_pos_weight=1, seed=None,\n",
            "              silent=None, subsample=1, verbosity=1)\n",
            "Trainig Score_ 0.99225\n",
            "Testing Score_ 0.404\n",
            "[[411   0   0   0   1   0   0   0   1   0]\n",
            " [  0 350   1   0   0   0   0   0   0   0]\n",
            " [  1   0 405   0   3   0   4   0   0   0]\n",
            " [  0   0   2 393   1   0   0   0   0   0]\n",
            " [  1   0   1   0 409   0   4   0   1   0]\n",
            " [  0   0   1   0   2 396   1   0   1   0]\n",
            " [  0   0   0   0   3   0 408   0   0   0]\n",
            " [  0   0   1   0   1   0   0 388   0   0]\n",
            " [  0   0   0   0   0   0   0   0 416   0]\n",
            " [  0   0   0   0   0   0   0   0   0 393]]\n",
            "[[50  3  3  5  2  2  3  5 15  4]\n",
            " [ 6 44  6  6  4  7  6  1 13 16]\n",
            " [11  2 30  7 24  5 11  8  6  2]\n",
            " [ 4  1 11 21  4 21 14  2  1 11]\n",
            " [ 4  0 16  4 44  4 18  8  2  3]\n",
            " [ 4  4  4 16  8 25  6  7  6  7]\n",
            " [ 5  2 14 11 12  3 50  4  1  6]\n",
            " [ 6  5  8  7 12  3  6 37  3  9]\n",
            " [18  4  2  6  0  3  1  0 61  9]\n",
            " [ 7 13  3 12  2  2  4  8 12 42]]\n",
            "Classification report on training               precision    recall  f1-score   support\n",
            "\n",
            "           0       1.00      1.00      1.00       413\n",
            "           1       1.00      1.00      1.00       351\n",
            "           2       0.99      0.98      0.98       413\n",
            "           3       1.00      0.99      1.00       396\n",
            "           4       0.97      0.98      0.98       416\n",
            "           5       1.00      0.99      0.99       401\n",
            "           6       0.98      0.99      0.99       411\n",
            "           7       1.00      0.99      1.00       390\n",
            "           8       0.99      1.00      1.00       416\n",
            "           9       1.00      1.00      1.00       393\n",
            "\n",
            "    accuracy                           0.99      4000\n",
            "   macro avg       0.99      0.99      0.99      4000\n",
            "weighted avg       0.99      0.99      0.99      4000\n",
            "\n",
            "Classification report on testing               precision    recall  f1-score   support\n",
            "\n",
            "           0       0.43      0.54      0.48        92\n",
            "           1       0.56      0.40      0.47       109\n",
            "           2       0.31      0.28      0.30       106\n",
            "           3       0.22      0.23      0.23        90\n",
            "           4       0.39      0.43      0.41       103\n",
            "           5       0.33      0.29      0.31        87\n",
            "           6       0.42      0.46      0.44       108\n",
            "           7       0.46      0.39      0.42        96\n",
            "           8       0.51      0.59      0.54       104\n",
            "           9       0.39      0.40      0.39       105\n",
            "\n",
            "    accuracy                           0.40      1000\n",
            "   macro avg       0.40      0.40      0.40      1000\n",
            "weighted avg       0.41      0.40      0.40      1000\n",
            "\n",
            "Precison Score on Training [0.99515738 1.         0.98540146 1.         0.97380952 1.\n",
            " 0.97841727 1.         0.9928401  1.        ]\n",
            "Precison Score on Testing [0.43478261 0.56410256 0.30927835 0.22105263 0.39285714 0.33333333\n",
            " 0.42016807 0.4625     0.50833333 0.3853211 ]\n"
          ],
          "name": "stdout"
        }
      ]
    },
    {
      "cell_type": "code",
      "metadata": {
        "id": "2VnVuNR6arBq",
        "colab": {
          "base_uri": "https://localhost:8080/"
        },
        "outputId": "5b955458-9ca0-4150-e053-7e3d7557094f"
      },
      "source": [
        "Model_cv(X_train,X_test,y_train,y_test,adaboost)"
      ],
      "execution_count": null,
      "outputs": [
        {
          "output_type": "stream",
          "text": [
            "0.310589130757198\n",
            "Metrics for the model AdaBoostClassifier(algorithm='SAMME.R', base_estimator=None, learning_rate=0.1,\n",
            "                   n_estimators=100, random_state=None)\n",
            "Trainig Score_ 0.3378\n",
            "Testing Score_ 0.312\n",
            "[[243  29  35   6  12  29  11  31  83  26]\n",
            " [ 31 132  20  21  14  42  36   9  54 101]\n",
            " [ 75  32  87  11  83  42 126  39  11  13]\n",
            " [ 38  29  37  45  48  91 105  49  20  24]\n",
            " [ 44  12  39  12 142  44 177  31   4  14]\n",
            " [ 19  21  56  25  53 186  68  29  20  11]\n",
            " [  9  18  33  12  65  48 277  44   2  11]\n",
            " [ 40  25  12  10  92  56  57 138  17  39]\n",
            " [117  27  19  10   1  48  10  12 199  77]\n",
            " [ 39  49  15   8   1  12  31  45  58 240]]\n",
            "[[21  2  5  1  1  2  4  5  8  8]\n",
            " [ 1 13  2  1  1  4  3  3  5  8]\n",
            " [ 8  4  7  0 11  6  7  4  3  1]\n",
            " [ 0  1  5  7  5 15  7  6  1  2]\n",
            " [ 4  4  2  0 12  4 11  2  0  1]\n",
            " [ 3  0  1  4 10 14  6  6  3  1]\n",
            " [ 0  1  8  4  4  1 32  3  0  1]\n",
            " [ 5  2  8  3  8  2  5 11  2  1]\n",
            " [14  4  3  1  1  6  0  1 19  8]\n",
            " [ 6  6  2  2  1  0  3  4 12 20]]\n",
            "Classification report on training               precision    recall  f1-score   support\n",
            "\n",
            "           0       0.37      0.48      0.42       505\n",
            "           1       0.35      0.29      0.32       460\n",
            "           2       0.25      0.17      0.20       519\n",
            "           3       0.28      0.09      0.14       486\n",
            "           4       0.28      0.27      0.28       519\n",
            "           5       0.31      0.38      0.34       488\n",
            "           6       0.31      0.53      0.39       519\n",
            "           7       0.32      0.28      0.30       486\n",
            "           8       0.43      0.38      0.40       520\n",
            "           9       0.43      0.48      0.46       498\n",
            "\n",
            "    accuracy                           0.34      5000\n",
            "   macro avg       0.33      0.34      0.32      5000\n",
            "weighted avg       0.33      0.34      0.32      5000\n",
            "\n",
            "Classification report on testing               precision    recall  f1-score   support\n",
            "\n",
            "           0       0.34      0.37      0.35        57\n",
            "           1       0.35      0.32      0.33        41\n",
            "           2       0.16      0.14      0.15        51\n",
            "           3       0.30      0.14      0.19        49\n",
            "           4       0.22      0.30      0.26        40\n",
            "           5       0.26      0.29      0.27        48\n",
            "           6       0.41      0.59      0.48        54\n",
            "           7       0.24      0.23      0.24        47\n",
            "           8       0.36      0.33      0.35        57\n",
            "           9       0.39      0.36      0.37        56\n",
            "\n",
            "    accuracy                           0.31       500\n",
            "   macro avg       0.30      0.31      0.30       500\n",
            "weighted avg       0.31      0.31      0.30       500\n",
            "\n",
            "Precison Score on Training [0.37099237 0.35294118 0.24645892 0.28125    0.2778865  0.31103679\n",
            " 0.30846325 0.32318501 0.42521368 0.43165468]\n",
            "Precison Score on Testing [0.33870968 0.35135135 0.1627907  0.30434783 0.22222222 0.25925926\n",
            " 0.41025641 0.24444444 0.35849057 0.39215686]\n"
          ],
          "name": "stdout"
        }
      ]
    },
    {
      "cell_type": "code",
      "metadata": {
        "id": "bpUbRKP-3jhm",
        "colab": {
          "base_uri": "https://localhost:8080/"
        },
        "outputId": "0c838003-e4dd-4211-cbad-c8f73cf77163"
      },
      "source": [
        "Model_cv(X_train1,X_test1,Y_train1,Y_test1,adaboost)"
      ],
      "execution_count": null,
      "outputs": [
        {
          "output_type": "stream",
          "text": [
            "0.30774785634680557\n",
            "Metrics for the model AdaBoostClassifier(algorithm='SAMME.R', base_estimator=None, learning_rate=0.1,\n",
            "                   n_estimators=100, random_state=None)\n",
            "Trainig Score_ 0.342\n",
            "Testing Score_ 0.329\n",
            "[[184  17  39  25   9  18   2  13  69  37]\n",
            " [ 18  87  10  29  11  37  16  12  34  97]\n",
            " [ 52   7 110  27  82  17  65  21  10  22]\n",
            " [ 27  14  34 100  26  82  50  20  11  32]\n",
            " [ 26   8  46  33 135  30  77  27  13  21]\n",
            " [ 15  10  30  83  41 145  32  22  11  12]\n",
            " [  9  13  42  54  59  50 146  22   2  14]\n",
            " [ 15  17  29  34  70  29  36  99  10  51]\n",
            " [ 98  21   7  10  11  39   2   9 156  63]\n",
            " [ 26  41  14  20   6   9  12  19  40 206]]\n",
            "[[48  4  9  3  1  4  1  5 13  4]\n",
            " [ 3 23  5  8  8 16 10  6  9 21]\n",
            " [13  1 29  7 17  7 15  7  7  3]\n",
            " [ 1  3  6 22  6 27  9  5  6  5]\n",
            " [ 3  1  9  4 39  6 28  9  1  3]\n",
            " [ 5  2  8 13 11 25  3  7  6  7]\n",
            " [ 3  2 12 15 11 12 38  9  2  4]\n",
            " [ 5  4  8  6 19  7 10 21  5 11]\n",
            " [34  7  4  3  1  7  0  1 36 11]\n",
            " [ 7  9  7 10  2  2  3  7 10 48]]\n",
            "Classification report on training               precision    recall  f1-score   support\n",
            "\n",
            "           0       0.39      0.45      0.42       413\n",
            "           1       0.37      0.25      0.30       351\n",
            "           2       0.30      0.27      0.28       413\n",
            "           3       0.24      0.25      0.25       396\n",
            "           4       0.30      0.32      0.31       416\n",
            "           5       0.32      0.36      0.34       401\n",
            "           6       0.33      0.36      0.34       411\n",
            "           7       0.38      0.25      0.30       390\n",
            "           8       0.44      0.38      0.40       416\n",
            "           9       0.37      0.52      0.43       393\n",
            "\n",
            "    accuracy                           0.34      4000\n",
            "   macro avg       0.34      0.34      0.34      4000\n",
            "weighted avg       0.34      0.34      0.34      4000\n",
            "\n",
            "Classification report on testing               precision    recall  f1-score   support\n",
            "\n",
            "           0       0.39      0.52      0.45        92\n",
            "           1       0.41      0.21      0.28       109\n",
            "           2       0.30      0.27      0.29       106\n",
            "           3       0.24      0.24      0.24        90\n",
            "           4       0.34      0.38      0.36       103\n",
            "           5       0.22      0.29      0.25        87\n",
            "           6       0.32      0.35      0.34       108\n",
            "           7       0.27      0.22      0.24        96\n",
            "           8       0.38      0.35      0.36       104\n",
            "           9       0.41      0.46      0.43       105\n",
            "\n",
            "    accuracy                           0.33      1000\n",
            "   macro avg       0.33      0.33      0.32      1000\n",
            "weighted avg       0.33      0.33      0.33      1000\n",
            "\n",
            "Precison Score on Training [0.39148936 0.37021277 0.30470914 0.24096386 0.3        0.31798246\n",
            " 0.33333333 0.375      0.43820225 0.37117117]\n",
            "Precison Score on Testing [0.39344262 0.41071429 0.29896907 0.24175824 0.33913043 0.22123894\n",
            " 0.32478632 0.27272727 0.37894737 0.41025641]\n"
          ],
          "name": "stdout"
        }
      ]
    },
    {
      "cell_type": "code",
      "metadata": {
        "id": "yRv2hJz5a6sE",
        "colab": {
          "base_uri": "https://localhost:8080/"
        },
        "outputId": "a8ab7762-5192-4fae-bcd1-c905e71cc941"
      },
      "source": [
        "Model_cv(X_train,X_test,y_train,y_test,Gbclassifier)"
      ],
      "execution_count": null,
      "outputs": [
        {
          "output_type": "stream",
          "text": [
            "0.29439775910364147\n",
            "Metrics for the model GaussianNB(priors=None, var_smoothing=1e-09)\n",
            "Trainig Score_ 0.3032\n",
            "Testing Score_ 0.292\n",
            "[[233  17  10   3  40  18  31   8 112  33]\n",
            " [ 46  77  14  14  34  49  70   6  50 100]\n",
            " [113  11  45   5 148  20 113  15  28  21]\n",
            " [ 76  14  25  33  68  84 123  13  23  27]\n",
            " [ 37   4  33   5 236  27 117  14  25  21]\n",
            " [ 59  12  28  17  90 144  87  12  22  17]\n",
            " [ 50  11  28  10 126  23 231  12   6  22]\n",
            " [ 53  17  23   9 121  43  55  57  30  78]\n",
            " [102  17   8   3  27  40  25   7 233  58]\n",
            " [ 53  38  12   6  14  14  44  24  66 227]]\n",
            "[[23  1  2  1  1  0  6  0 13 10]\n",
            " [ 2 10  1  0  4  4  9  1  5  5]\n",
            " [13  1  4  1 15  5  8  2  2  0]\n",
            " [ 6  2  3  2 10  8 14  2  1  1]\n",
            " [ 5  0  4  1 13  1 10  2  2  2]\n",
            " [ 8  1  3  3  9 12  6  1  4  1]\n",
            " [ 3  1  3  0 12  1 29  2  1  2]\n",
            " [ 7  2  4  5 10  4  4  3  3  5]\n",
            " [ 9  3  2  1  1  6  1  2 28  4]\n",
            " [ 3  4  3  2  1  1  5  3 12 22]]\n",
            "Classification report on training               precision    recall  f1-score   support\n",
            "\n",
            "           0       0.28      0.46      0.35       505\n",
            "           1       0.35      0.17      0.23       460\n",
            "           2       0.20      0.09      0.12       519\n",
            "           3       0.31      0.07      0.11       486\n",
            "           4       0.26      0.45      0.33       519\n",
            "           5       0.31      0.30      0.30       488\n",
            "           6       0.26      0.45      0.33       519\n",
            "           7       0.34      0.12      0.17       486\n",
            "           8       0.39      0.45      0.42       520\n",
            "           9       0.38      0.46      0.41       498\n",
            "\n",
            "    accuracy                           0.30      5000\n",
            "   macro avg       0.31      0.30      0.28      5000\n",
            "weighted avg       0.31      0.30      0.28      5000\n",
            "\n",
            "Classification report on testing               precision    recall  f1-score   support\n",
            "\n",
            "           0       0.29      0.40      0.34        57\n",
            "           1       0.40      0.24      0.30        41\n",
            "           2       0.14      0.08      0.10        51\n",
            "           3       0.12      0.04      0.06        49\n",
            "           4       0.17      0.33      0.22        40\n",
            "           5       0.29      0.25      0.27        48\n",
            "           6       0.32      0.54      0.40        54\n",
            "           7       0.17      0.06      0.09        47\n",
            "           8       0.39      0.49      0.44        57\n",
            "           9       0.42      0.39      0.41        56\n",
            "\n",
            "    accuracy                           0.29       500\n",
            "   macro avg       0.27      0.28      0.26       500\n",
            "weighted avg       0.28      0.29      0.27       500\n",
            "\n",
            "Precison Score on Training [0.28345499 0.35321101 0.19911504 0.31428571 0.26106195 0.31168831\n",
            " 0.2578125  0.33928571 0.39159664 0.37582781]\n",
            "Precison Score on Testing [0.29113924 0.4        0.13793103 0.125      0.17105263 0.28571429\n",
            " 0.31521739 0.16666667 0.3943662  0.42307692]\n"
          ],
          "name": "stdout"
        }
      ]
    },
    {
      "cell_type": "code",
      "metadata": {
        "id": "YVXS8llq9OQl",
        "colab": {
          "base_uri": "https://localhost:8080/"
        },
        "outputId": "cfbe5b7e-a3eb-4fb6-e7d9-fe9567db9b7a"
      },
      "source": [
        "Model_cv(X_train1,X_test1,Y_train1,Y_test1,Gbclassifier)"
      ],
      "execution_count": null,
      "outputs": [
        {
          "output_type": "stream",
          "text": [
            "0.3082539177110105\n",
            "Metrics for the model GaussianNB(priors=None, var_smoothing=1e-09)\n",
            "Trainig Score_ 0.38\n",
            "Testing Score_ 0.327\n",
            "[[134  19  18   8  99  18  10  19  43  45]\n",
            " [ 15 169   3  12  20  18  10  13  31  60]\n",
            " [ 14  13  78  26 170  27  26  24  11  24]\n",
            " [  9  16  26 102  83  51  39  12  13  45]\n",
            " [ 12  10  20  14 266  18  20  25  11  20]\n",
            " [ 12  27  26  33  76 126  30  14  11  46]\n",
            " [  6  19  19  22 149  20 129  11   3  33]\n",
            " [ 10  26  14  18  99  20  19 112  11  61]\n",
            " [ 40  25   9  16  85  10   3   7 175  46]\n",
            " [ 25  33  10  15  12  10   7  27  25 229]]\n",
            "[[26  8  2  4 17  1  3  4 11 16]\n",
            " [ 3 44  2  4  5  4  4  4 12 27]\n",
            " [ 6  2 12 10 50  5  6  3  5  7]\n",
            " [ 1  5  6 11 20 23  6  3  1 14]\n",
            " [ 3  1  7  2 69  0  6  9  4  2]\n",
            " [ 3 11  6 13 17 19  4  1  0 13]\n",
            " [ 0  5  6 10 43  5 31  2  3  3]\n",
            " [ 2  5  2  6 22  5  5 27  4 18]\n",
            " [ 7  7  2  3 28  9  1  3 36  8]\n",
            " [11 15  3  6  6  1  1  5  5 52]]\n",
            "Classification report on training               precision    recall  f1-score   support\n",
            "\n",
            "           0       0.48      0.32      0.39       413\n",
            "           1       0.47      0.48      0.48       351\n",
            "           2       0.35      0.19      0.25       413\n",
            "           3       0.38      0.26      0.31       396\n",
            "           4       0.25      0.64      0.36       416\n",
            "           5       0.40      0.31      0.35       401\n",
            "           6       0.44      0.31      0.37       411\n",
            "           7       0.42      0.29      0.34       390\n",
            "           8       0.52      0.42      0.47       416\n",
            "           9       0.38      0.58      0.46       393\n",
            "\n",
            "    accuracy                           0.38      4000\n",
            "   macro avg       0.41      0.38      0.38      4000\n",
            "weighted avg       0.41      0.38      0.37      4000\n",
            "\n",
            "Classification report on testing               precision    recall  f1-score   support\n",
            "\n",
            "           0       0.42      0.28      0.34        92\n",
            "           1       0.43      0.40      0.42       109\n",
            "           2       0.25      0.11      0.16       106\n",
            "           3       0.16      0.12      0.14        90\n",
            "           4       0.25      0.67      0.36       103\n",
            "           5       0.26      0.22      0.24        87\n",
            "           6       0.46      0.29      0.35       108\n",
            "           7       0.44      0.28      0.34        96\n",
            "           8       0.44      0.35      0.39       104\n",
            "           9       0.33      0.50      0.39       105\n",
            "\n",
            "    accuracy                           0.33      1000\n",
            "   macro avg       0.34      0.32      0.31      1000\n",
            "weighted avg       0.35      0.33      0.32      1000\n",
            "\n",
            "Precison Score on Training [0.48375451 0.47338936 0.34977578 0.38345865 0.25118036 0.39622642\n",
            " 0.44027304 0.42424242 0.5239521  0.37602627]\n",
            "Precison Score on Testing [0.41935484 0.42718447 0.25       0.15942029 0.24909747 0.26388889\n",
            " 0.46268657 0.44262295 0.44444444 0.325     ]\n"
          ],
          "name": "stdout"
        }
      ]
    },
    {
      "cell_type": "code",
      "metadata": {
        "id": "5xPLPeXqa7LX"
      },
      "source": [
        "from imblearn.over_sampling import SMOTE\r\n",
        "sm=SMOTE(random_state=100,k_neighbors=6)"
      ],
      "execution_count": null,
      "outputs": []
    },
    {
      "cell_type": "code",
      "metadata": {
        "id": "LEZRk1Sza7NY",
        "colab": {
          "base_uri": "https://localhost:8080/"
        },
        "outputId": "bce3dad1-4f61-41d6-c48e-9be7b4c59f3d"
      },
      "source": [
        "X_res,Y_res=sm.fit_sample(X_train1,Y_train1)"
      ],
      "execution_count": null,
      "outputs": [
        {
          "output_type": "stream",
          "text": [
            "/usr/local/lib/python3.6/dist-packages/sklearn/utils/deprecation.py:87: FutureWarning: Function safe_indexing is deprecated; safe_indexing is deprecated in version 0.22 and will be removed in version 0.24.\n",
            "  warnings.warn(msg, category=FutureWarning)\n",
            "/usr/local/lib/python3.6/dist-packages/sklearn/utils/deprecation.py:87: FutureWarning: Function safe_indexing is deprecated; safe_indexing is deprecated in version 0.22 and will be removed in version 0.24.\n",
            "  warnings.warn(msg, category=FutureWarning)\n",
            "/usr/local/lib/python3.6/dist-packages/sklearn/utils/deprecation.py:87: FutureWarning: Function safe_indexing is deprecated; safe_indexing is deprecated in version 0.22 and will be removed in version 0.24.\n",
            "  warnings.warn(msg, category=FutureWarning)\n",
            "/usr/local/lib/python3.6/dist-packages/sklearn/utils/deprecation.py:87: FutureWarning: Function safe_indexing is deprecated; safe_indexing is deprecated in version 0.22 and will be removed in version 0.24.\n",
            "  warnings.warn(msg, category=FutureWarning)\n",
            "/usr/local/lib/python3.6/dist-packages/sklearn/utils/deprecation.py:87: FutureWarning: Function safe_indexing is deprecated; safe_indexing is deprecated in version 0.22 and will be removed in version 0.24.\n",
            "  warnings.warn(msg, category=FutureWarning)\n",
            "/usr/local/lib/python3.6/dist-packages/sklearn/utils/deprecation.py:87: FutureWarning: Function safe_indexing is deprecated; safe_indexing is deprecated in version 0.22 and will be removed in version 0.24.\n",
            "  warnings.warn(msg, category=FutureWarning)\n",
            "/usr/local/lib/python3.6/dist-packages/sklearn/utils/deprecation.py:87: FutureWarning: Function safe_indexing is deprecated; safe_indexing is deprecated in version 0.22 and will be removed in version 0.24.\n",
            "  warnings.warn(msg, category=FutureWarning)\n",
            "/usr/local/lib/python3.6/dist-packages/sklearn/utils/deprecation.py:87: FutureWarning: Function safe_indexing is deprecated; safe_indexing is deprecated in version 0.22 and will be removed in version 0.24.\n",
            "  warnings.warn(msg, category=FutureWarning)\n"
          ],
          "name": "stderr"
        }
      ]
    },
    {
      "cell_type": "code",
      "metadata": {
        "id": "bN2ujpAG5Dod",
        "colab": {
          "base_uri": "https://localhost:8080/"
        },
        "outputId": "7bbf49d7-6c9a-480b-c480-9ef276812165"
      },
      "source": [
        "X_res.shape,Y_res.shape"
      ],
      "execution_count": null,
      "outputs": [
        {
          "output_type": "execute_result",
          "data": {
            "text/plain": [
              "((4160, 95), (4160,))"
            ]
          },
          "metadata": {
            "tags": []
          },
          "execution_count": 34
        }
      ]
    },
    {
      "cell_type": "code",
      "metadata": {
        "id": "yc0hWHwRFQ2C"
      },
      "source": [
        "np.random.seed(0)\r\n",
        "X1_train,X1_test,Y1_train,Y1_test=train_test_split(X_res,Y_res,test_size=0.3,random_state=100)\r\n",
        "sc=StandardScaler()\r\n",
        "X1_train=sc.fit_transform(X1_train)\r\n",
        "X1_test=sc.fit_transform(X1_test)"
      ],
      "execution_count": null,
      "outputs": []
    },
    {
      "cell_type": "code",
      "metadata": {
        "id": "lQ2DWZTIFVAc"
      },
      "source": [
        "def Model(z,a,b,c,d):\r\n",
        "    \r\n",
        "    #Fitting the Classification Models\r\n",
        "    z.fit(a,c)\r\n",
        "    y_train_pred=z.predict(a)\r\n",
        "    y_test_pred=z.predict(b)\r\n",
        "    \r\n",
        "    #cross Validation Score\r\n",
        "    cv_z_score=(cross_val_score(z,a,c,scoring='accuracy',cv=7)).mean()\r\n",
        "    \r\n",
        "    #Accuracy of the training and testing\r\n",
        "    training_Score = accuracy_score(c,y_train_pred)\r\n",
        "    testing_score = accuracy_score(d,y_test_pred)\r\n",
        "    print(\"cv_score\", cv_z_score) \r\n",
        "    print(\"TRAINING SCORE\",  training_Score)\r\n",
        "    print(\"TESTING SCORE\",testing_score)\r\n",
        "    print(\"\\n\")\r\n",
        "    print('--'*30)\r\n",
        "    print('\\n')\r\n",
        "    print(\"TRAINING CONFUSION MATRIX\")\r\n",
        "    print(confusion_matrix(c,y_train_pred))\r\n",
        "    print(\"\\n\")\r\n",
        "    print('--'*30)\r\n",
        "    print('\\n')\r\n",
        "    print(\"TESTING  CONFUSION MATRIX\")\r\n",
        "    print(confusion_matrix(d,y_test_pred))\r\n",
        "    print('\\n')\r\n",
        "    print('--'*30)\r\n",
        "    print('\\n')\r\n",
        "    print('CLASSIFICATION REPORT ON TRAINING')\r\n",
        "    print(classification_report(c,y_train_pred))\r\n",
        "    print('\\n')\r\n",
        "    print('--'*30)\r\n",
        "    print('\\n')\r\n",
        "    print('CLASSIFICATION REPORT ON TESTING')\r\n",
        "    print(classification_report(d,y_test_pred))\r\n",
        "    print(\"\\n\")\r\n",
        "    print('--'*30)\r\n",
        "    print('\\n')\r\n",
        "    print('Precison Score on Training')\r\n",
        "    print(precision_score(c,y_train_pred,average=None))\r\n",
        "    print('\\n')\r\n",
        "    print('--'*30)\r\n",
        "    print('\\n')\r\n",
        "    print('Precison Score on Testing')\r\n",
        "    print(precision_score(d,y_test_pred,average=None))\r\n",
        "    print('\\n')\r\n",
        "    print('--'*30)\r\n",
        "    print('\\n')\r\n",
        "    print('recall Score on Training')\r\n",
        "    print(recall_score(c,y_train_pred,average=None))\r\n",
        "    print('\\n')\r\n",
        "    print('--'*30)\r\n",
        "    print('\\n')\r\n",
        "    print('recall Score on Testing')\r\n",
        "    print(recall_score(d,y_test_pred,average=None))\r\n",
        "    print('\\n')\r\n",
        "    print('--'*30)\r\n",
        "    print('\\n')\r\n",
        "    print('f1 Score on Training')\r\n",
        "    print(f1_score(c,y_train_pred,average=None))\r\n",
        "    print('\\n')\r\n",
        "    print('--'*30)\r\n",
        "    print('\\n')\r\n",
        "    print('f1 Score on Testing')\r\n",
        "    print(f1_score(d,y_test_pred,average=None))"
      ],
      "execution_count": null,
      "outputs": []
    },
    {
      "cell_type": "code",
      "metadata": {
        "id": "uF1wfYlUFcm7",
        "colab": {
          "base_uri": "https://localhost:8080/"
        },
        "outputId": "bf5f85dc-a4c4-4d59-cdb7-0e785aef2298"
      },
      "source": [
        "Model(lr,X1_train,X1_test,Y1_train,Y1_test)"
      ],
      "execution_count": null,
      "outputs": [
        {
          "output_type": "stream",
          "text": [
            "cv_score 0.353021978021978\n",
            "TRAINING SCORE 0.4680631868131868\n",
            "TESTING SCORE 0.359775641025641\n",
            "\n",
            "\n",
            "------------------------------------------------------------\n",
            "\n",
            "\n",
            "TRAINING CONFUSION MATRIX\n",
            "[[149  17  20   6   5  16   3  21  50  18]\n",
            " [  9 182  15  12   6  15   7  12  17  29]\n",
            " [ 22  12 102  28  24  32  31  16  16   4]\n",
            " [ 10  13  25 108  20  42  34  12   8  18]\n",
            " [ 19   6  40  13  98  27  35  34   8   5]\n",
            " [ 10  15  17  43  21 141  22  18  14   7]\n",
            " [  4  11  25  37  24  30 127  13   4   7]\n",
            " [ 17   8  12  16  28  16  13 154   8  14]\n",
            " [ 51  23   5   5   5  12   2   5 157  24]\n",
            " [ 17  39   7  10   4   8  12  19  15 145]]\n",
            "\n",
            "\n",
            "------------------------------------------------------------\n",
            "\n",
            "\n",
            "TESTING  CONFUSION MATRIX\n",
            "[[47  5  6  4  5  9  3  5 22  5]\n",
            " [ 6 63  6  2  1  3  4  7  7 13]\n",
            " [15  6 38 10 16  8 18 11  5  2]\n",
            " [ 5  3 14 34 10 30 12  8  6  4]\n",
            " [ 9  6 15  5 40 14 19 14  4  5]\n",
            " [ 5  6 14 15 11 33 13  7  4  0]\n",
            " [ 4  3 16 18 13 10 49 11  4  6]\n",
            " [ 5  9  6  8 17 13  8 50  6  8]\n",
            " [35 12  2  3  1  7  2  6 43 16]\n",
            " [19 24  3  7  1  3  3 11 17 52]]\n",
            "\n",
            "\n",
            "------------------------------------------------------------\n",
            "\n",
            "\n",
            "CLASSIFICATION REPORT ON TRAINING\n",
            "              precision    recall  f1-score   support\n",
            "\n",
            "           0       0.48      0.49      0.49       305\n",
            "           1       0.56      0.60      0.58       304\n",
            "           2       0.38      0.36      0.37       287\n",
            "           3       0.39      0.37      0.38       290\n",
            "           4       0.42      0.34      0.38       285\n",
            "           5       0.42      0.46      0.44       308\n",
            "           6       0.44      0.45      0.45       282\n",
            "           7       0.51      0.54      0.52       286\n",
            "           8       0.53      0.54      0.54       289\n",
            "           9       0.54      0.53      0.53       276\n",
            "\n",
            "    accuracy                           0.47      2912\n",
            "   macro avg       0.47      0.47      0.47      2912\n",
            "weighted avg       0.47      0.47      0.47      2912\n",
            "\n",
            "\n",
            "\n",
            "------------------------------------------------------------\n",
            "\n",
            "\n",
            "CLASSIFICATION REPORT ON TESTING\n",
            "              precision    recall  f1-score   support\n",
            "\n",
            "           0       0.31      0.42      0.36       111\n",
            "           1       0.46      0.56      0.51       112\n",
            "           2       0.32      0.29      0.31       129\n",
            "           3       0.32      0.27      0.29       126\n",
            "           4       0.35      0.31      0.33       131\n",
            "           5       0.25      0.31      0.28       108\n",
            "           6       0.37      0.37      0.37       134\n",
            "           7       0.38      0.38      0.38       130\n",
            "           8       0.36      0.34      0.35       127\n",
            "           9       0.47      0.37      0.41       140\n",
            "\n",
            "    accuracy                           0.36      1248\n",
            "   macro avg       0.36      0.36      0.36      1248\n",
            "weighted avg       0.36      0.36      0.36      1248\n",
            "\n",
            "\n",
            "\n",
            "------------------------------------------------------------\n",
            "\n",
            "\n",
            "Precison Score on Training\n",
            "[0.48376623 0.55828221 0.38059701 0.38848921 0.41702128 0.4159292\n",
            " 0.44405594 0.50657895 0.52861953 0.53505535]\n",
            "\n",
            "\n",
            "------------------------------------------------------------\n",
            "\n",
            "\n",
            "Precison Score on Testing\n",
            "[0.31333333 0.45985401 0.31666667 0.32075472 0.34782609 0.25384615\n",
            " 0.3740458  0.38461538 0.36440678 0.46846847]\n",
            "\n",
            "\n",
            "------------------------------------------------------------\n",
            "\n",
            "\n",
            "recall Score on Training\n",
            "[0.48852459 0.59868421 0.3554007  0.37241379 0.34385965 0.45779221\n",
            " 0.45035461 0.53846154 0.5432526  0.52536232]\n",
            "\n",
            "\n",
            "------------------------------------------------------------\n",
            "\n",
            "\n",
            "recall Score on Testing\n",
            "[0.42342342 0.5625     0.29457364 0.26984127 0.30534351 0.30555556\n",
            " 0.36567164 0.38461538 0.33858268 0.37142857]\n",
            "\n",
            "\n",
            "------------------------------------------------------------\n",
            "\n",
            "\n",
            "f1 Score on Training\n",
            "[0.48613377 0.57777778 0.36756757 0.38028169 0.37692308 0.43585781\n",
            " 0.4471831  0.5220339  0.53583618 0.53016453]\n",
            "\n",
            "\n",
            "------------------------------------------------------------\n",
            "\n",
            "\n",
            "f1 Score on Testing\n",
            "[0.36015326 0.5060241  0.30522088 0.29310345 0.32520325 0.27731092\n",
            " 0.36981132 0.38461538 0.35102041 0.41434263]\n"
          ],
          "name": "stdout"
        }
      ]
    },
    {
      "cell_type": "code",
      "metadata": {
        "id": "pZw1NXxRFhWP",
        "colab": {
          "base_uri": "https://localhost:8080/"
        },
        "outputId": "2bc649b9-080f-4460-e3b1-98c6b83280d7"
      },
      "source": [
        "Model(knn,X1_train,X1_test,Y1_train,Y1_test)"
      ],
      "execution_count": null,
      "outputs": [
        {
          "output_type": "stream",
          "text": [
            "cv_score 0.19608516483516483\n",
            "TRAINING SCORE 0.3478708791208791\n",
            "TESTING SCORE 0.22435897435897437\n",
            "\n",
            "\n",
            "------------------------------------------------------------\n",
            "\n",
            "\n",
            "TRAINING CONFUSION MATRIX\n",
            "[[225   0  25   2  26   0   9   1  17   0]\n",
            " [ 77  87  51   3  40   4  25   0  16   1]\n",
            " [ 42   0 169   2  63   0   9   1   1   0]\n",
            " [ 54   1  73  47  69   5  33   5   3   0]\n",
            " [ 34   0  59   1 183   0   5   2   1   0]\n",
            " [ 39   1  81  14  86  51  33   2   1   0]\n",
            " [ 19   0  60   7  89   2 103   1   1   0]\n",
            " [ 44   2  73   7  93   2  18  45   2   0]\n",
            " [110   1  37   1  34   0  12   0  94   0]\n",
            " [ 54  10  54   5  73   1  30  10  30   9]]\n",
            "\n",
            "\n",
            "------------------------------------------------------------\n",
            "\n",
            "\n",
            "TESTING  CONFUSION MATRIX\n",
            "[[66  0 21  1 13  1  2  1  6  0]\n",
            " [20 20 22  3 20  1 13  1 12  0]\n",
            " [14  1 52  3 49  1  6  1  2  0]\n",
            " [25  0 39  7 28  3 20  1  3  0]\n",
            " [14  0 33  1 67  0 15  0  1  0]\n",
            " [20  0 23  6 42  5 10  0  2  0]\n",
            " [21  0 33  4 41  0 32  1  2  0]\n",
            " [24  1 31  1 45  2 18  6  2  0]\n",
            " [56  0 20  2 22  1  5  0 21  0]\n",
            " [42  4 30  4 27  0 18  1 10  4]]\n",
            "\n",
            "\n",
            "------------------------------------------------------------\n",
            "\n",
            "\n",
            "CLASSIFICATION REPORT ON TRAINING\n",
            "              precision    recall  f1-score   support\n",
            "\n",
            "           0       0.32      0.74      0.45       305\n",
            "           1       0.85      0.29      0.43       304\n",
            "           2       0.25      0.59      0.35       287\n",
            "           3       0.53      0.16      0.25       290\n",
            "           4       0.24      0.64      0.35       285\n",
            "           5       0.78      0.17      0.27       308\n",
            "           6       0.37      0.37      0.37       282\n",
            "           7       0.67      0.16      0.25       286\n",
            "           8       0.57      0.33      0.41       289\n",
            "           9       0.90      0.03      0.06       276\n",
            "\n",
            "    accuracy                           0.35      2912\n",
            "   macro avg       0.55      0.35      0.32      2912\n",
            "weighted avg       0.55      0.35      0.32      2912\n",
            "\n",
            "\n",
            "\n",
            "------------------------------------------------------------\n",
            "\n",
            "\n",
            "CLASSIFICATION REPORT ON TESTING\n",
            "              precision    recall  f1-score   support\n",
            "\n",
            "           0       0.22      0.59      0.32       111\n",
            "           1       0.77      0.18      0.29       112\n",
            "           2       0.17      0.40      0.24       129\n",
            "           3       0.22      0.06      0.09       126\n",
            "           4       0.19      0.51      0.28       131\n",
            "           5       0.36      0.05      0.08       108\n",
            "           6       0.23      0.24      0.23       134\n",
            "           7       0.50      0.05      0.08       130\n",
            "           8       0.34      0.17      0.22       127\n",
            "           9       1.00      0.03      0.06       140\n",
            "\n",
            "    accuracy                           0.22      1248\n",
            "   macro avg       0.40      0.23      0.19      1248\n",
            "weighted avg       0.40      0.22      0.19      1248\n",
            "\n",
            "\n",
            "\n",
            "------------------------------------------------------------\n",
            "\n",
            "\n",
            "Precison Score on Training\n",
            "[0.32234957 0.85294118 0.24780059 0.52808989 0.24206349 0.78461538\n",
            " 0.37184116 0.67164179 0.56626506 0.9       ]\n",
            "\n",
            "\n",
            "------------------------------------------------------------\n",
            "\n",
            "\n",
            "Precison Score on Testing\n",
            "[0.21854305 0.76923077 0.17105263 0.21875    0.18926554 0.35714286\n",
            " 0.23021583 0.5        0.3442623  1.        ]\n",
            "\n",
            "\n",
            "------------------------------------------------------------\n",
            "\n",
            "\n",
            "recall Score on Training\n",
            "[0.73770492 0.28618421 0.58885017 0.16206897 0.64210526 0.16558442\n",
            " 0.36524823 0.15734266 0.32525952 0.0326087 ]\n",
            "\n",
            "\n",
            "------------------------------------------------------------\n",
            "\n",
            "\n",
            "recall Score on Testing\n",
            "[0.59459459 0.17857143 0.40310078 0.05555556 0.51145038 0.0462963\n",
            " 0.23880597 0.04615385 0.16535433 0.02857143]\n",
            "\n",
            "\n",
            "------------------------------------------------------------\n",
            "\n",
            "\n",
            "f1 Score on Training\n",
            "[0.44865404 0.42857143 0.34881321 0.24802111 0.35158501 0.27345845\n",
            " 0.36851521 0.25495751 0.41318681 0.06293706]\n",
            "\n",
            "\n",
            "------------------------------------------------------------\n",
            "\n",
            "\n",
            "f1 Score on Testing\n",
            "[0.31961259 0.28985507 0.24018476 0.08860759 0.27628866 0.08196721\n",
            " 0.23443223 0.08450704 0.22340426 0.05555556]\n"
          ],
          "name": "stdout"
        }
      ]
    },
    {
      "cell_type": "code",
      "metadata": {
        "id": "h4uBJM5uGhL8",
        "colab": {
          "base_uri": "https://localhost:8080/"
        },
        "outputId": "8ff55a96-8405-4ad1-9291-8cd2e0789240"
      },
      "source": [
        "Model(dt,X1_train,X1_test,Y1_train,Y1_test)"
      ],
      "execution_count": null,
      "outputs": [
        {
          "output_type": "stream",
          "text": [
            "cv_score 0.19608516483516483\n",
            "TRAINING SCORE 1.0\n",
            "TESTING SCORE 0.19391025641025642\n",
            "\n",
            "\n",
            "------------------------------------------------------------\n",
            "\n",
            "\n",
            "TRAINING CONFUSION MATRIX\n",
            "[[305   0   0   0   0   0   0   0   0   0]\n",
            " [  0 304   0   0   0   0   0   0   0   0]\n",
            " [  0   0 287   0   0   0   0   0   0   0]\n",
            " [  0   0   0 290   0   0   0   0   0   0]\n",
            " [  0   0   0   0 285   0   0   0   0   0]\n",
            " [  0   0   0   0   0 308   0   0   0   0]\n",
            " [  0   0   0   0   0   0 282   0   0   0]\n",
            " [  0   0   0   0   0   0   0 286   0   0]\n",
            " [  0   0   0   0   0   0   0   0 289   0]\n",
            " [  0   0   0   0   0   0   0   0   0 276]]\n",
            "\n",
            "\n",
            "------------------------------------------------------------\n",
            "\n",
            "\n",
            "TESTING  CONFUSION MATRIX\n",
            "[[37 11  9 10  6  6  4  4 14 10]\n",
            " [ 7 25  5  6  7 11  8 13 18 12]\n",
            " [12  6 24 17 20 11  9 18  7  5]\n",
            " [12 15 10 22  8 14 15 13 13  4]\n",
            " [17  7 19 14 16 13 16 12 14  3]\n",
            " [ 8 13 13 13 11 19  9  5 12  5]\n",
            " [10  8 21 11 18 15 19 13 10  9]\n",
            " [ 9  7 19 16 15 16  5 23 10 10]\n",
            " [22 11 12  6  5 10  9  8 31 13]\n",
            " [ 9 17  8 16  9 15  6  8 26 26]]\n",
            "\n",
            "\n",
            "------------------------------------------------------------\n",
            "\n",
            "\n",
            "CLASSIFICATION REPORT ON TRAINING\n",
            "              precision    recall  f1-score   support\n",
            "\n",
            "           0       1.00      1.00      1.00       305\n",
            "           1       1.00      1.00      1.00       304\n",
            "           2       1.00      1.00      1.00       287\n",
            "           3       1.00      1.00      1.00       290\n",
            "           4       1.00      1.00      1.00       285\n",
            "           5       1.00      1.00      1.00       308\n",
            "           6       1.00      1.00      1.00       282\n",
            "           7       1.00      1.00      1.00       286\n",
            "           8       1.00      1.00      1.00       289\n",
            "           9       1.00      1.00      1.00       276\n",
            "\n",
            "    accuracy                           1.00      2912\n",
            "   macro avg       1.00      1.00      1.00      2912\n",
            "weighted avg       1.00      1.00      1.00      2912\n",
            "\n",
            "\n",
            "\n",
            "------------------------------------------------------------\n",
            "\n",
            "\n",
            "CLASSIFICATION REPORT ON TESTING\n",
            "              precision    recall  f1-score   support\n",
            "\n",
            "           0       0.26      0.33      0.29       111\n",
            "           1       0.21      0.22      0.22       112\n",
            "           2       0.17      0.19      0.18       129\n",
            "           3       0.17      0.17      0.17       126\n",
            "           4       0.14      0.12      0.13       131\n",
            "           5       0.15      0.18      0.16       108\n",
            "           6       0.19      0.14      0.16       134\n",
            "           7       0.20      0.18      0.19       130\n",
            "           8       0.20      0.24      0.22       127\n",
            "           9       0.27      0.19      0.22       140\n",
            "\n",
            "    accuracy                           0.19      1248\n",
            "   macro avg       0.19      0.20      0.19      1248\n",
            "weighted avg       0.19      0.19      0.19      1248\n",
            "\n",
            "\n",
            "\n",
            "------------------------------------------------------------\n",
            "\n",
            "\n",
            "Precison Score on Training\n",
            "[1. 1. 1. 1. 1. 1. 1. 1. 1. 1.]\n",
            "\n",
            "\n",
            "------------------------------------------------------------\n",
            "\n",
            "\n",
            "Precison Score on Testing\n",
            "[0.25874126 0.20833333 0.17142857 0.16793893 0.13913043 0.14615385\n",
            " 0.19       0.1965812  0.2        0.26804124]\n",
            "\n",
            "\n",
            "------------------------------------------------------------\n",
            "\n",
            "\n",
            "recall Score on Training\n",
            "[1. 1. 1. 1. 1. 1. 1. 1. 1. 1.]\n",
            "\n",
            "\n",
            "------------------------------------------------------------\n",
            "\n",
            "\n",
            "recall Score on Testing\n",
            "[0.33333333 0.22321429 0.18604651 0.17460317 0.1221374  0.17592593\n",
            " 0.14179104 0.17692308 0.24409449 0.18571429]\n",
            "\n",
            "\n",
            "------------------------------------------------------------\n",
            "\n",
            "\n",
            "f1 Score on Training\n",
            "[1. 1. 1. 1. 1. 1. 1. 1. 1. 1.]\n",
            "\n",
            "\n",
            "------------------------------------------------------------\n",
            "\n",
            "\n",
            "f1 Score on Testing\n",
            "[0.29133858 0.21551724 0.17843866 0.17120623 0.1300813  0.15966387\n",
            " 0.16239316 0.18623482 0.21985816 0.21940928]\n"
          ],
          "name": "stdout"
        }
      ]
    },
    {
      "cell_type": "code",
      "metadata": {
        "id": "WjxiahsSKSha",
        "colab": {
          "base_uri": "https://localhost:8080/"
        },
        "outputId": "b8a3b0be-44f9-42a1-a6a9-23de1d3fbeaa"
      },
      "source": [
        "Model(rf,X1_train,X1_test,Y1_train,Y1_test)"
      ],
      "execution_count": null,
      "outputs": [
        {
          "output_type": "stream",
          "text": [
            "cv_score 0.3729395604395604\n",
            "TRAINING SCORE 1.0\n",
            "TESTING SCORE 0.36939102564102566\n",
            "\n",
            "\n",
            "------------------------------------------------------------\n",
            "\n",
            "\n",
            "TRAINING CONFUSION MATRIX\n",
            "[[305   0   0   0   0   0   0   0   0   0]\n",
            " [  0 304   0   0   0   0   0   0   0   0]\n",
            " [  0   0 287   0   0   0   0   0   0   0]\n",
            " [  0   0   0 290   0   0   0   0   0   0]\n",
            " [  0   0   0   0 285   0   0   0   0   0]\n",
            " [  0   0   0   0   0 308   0   0   0   0]\n",
            " [  0   0   0   0   0   0 282   0   0   0]\n",
            " [  0   0   0   0   0   0   0 286   0   0]\n",
            " [  0   0   0   0   0   0   0   0 289   0]\n",
            " [  0   0   0   0   0   0   0   0   0 276]]\n",
            "\n",
            "\n",
            "------------------------------------------------------------\n",
            "\n",
            "\n",
            "TESTING  CONFUSION MATRIX\n",
            "[[56  4  3  5  4  5  5  3 20  6]\n",
            " [ 4 57  2  5  3  4  3  7  9 18]\n",
            " [23  0 21 11 27  6 19 12  5  5]\n",
            " [10  8  5 35  7 29 12  5  6  9]\n",
            " [12  8 11  8 47  8 21  4  6  6]\n",
            " [ 9 12  4 19  3 39 10  6  2  4]\n",
            " [ 8  2 18 12 17 14 49  5  2  7]\n",
            " [ 8 11  5 14 17  9  9 40  5 12]\n",
            " [30  9  4  4  2  5  3  3 58  9]\n",
            " [12 24  5  9  4  4  2  5 16 59]]\n",
            "\n",
            "\n",
            "------------------------------------------------------------\n",
            "\n",
            "\n",
            "CLASSIFICATION REPORT ON TRAINING\n",
            "              precision    recall  f1-score   support\n",
            "\n",
            "           0       1.00      1.00      1.00       305\n",
            "           1       1.00      1.00      1.00       304\n",
            "           2       1.00      1.00      1.00       287\n",
            "           3       1.00      1.00      1.00       290\n",
            "           4       1.00      1.00      1.00       285\n",
            "           5       1.00      1.00      1.00       308\n",
            "           6       1.00      1.00      1.00       282\n",
            "           7       1.00      1.00      1.00       286\n",
            "           8       1.00      1.00      1.00       289\n",
            "           9       1.00      1.00      1.00       276\n",
            "\n",
            "    accuracy                           1.00      2912\n",
            "   macro avg       1.00      1.00      1.00      2912\n",
            "weighted avg       1.00      1.00      1.00      2912\n",
            "\n",
            "\n",
            "\n",
            "------------------------------------------------------------\n",
            "\n",
            "\n",
            "CLASSIFICATION REPORT ON TESTING\n",
            "              precision    recall  f1-score   support\n",
            "\n",
            "           0       0.33      0.50      0.40       111\n",
            "           1       0.42      0.51      0.46       112\n",
            "           2       0.27      0.16      0.20       129\n",
            "           3       0.29      0.28      0.28       126\n",
            "           4       0.36      0.36      0.36       131\n",
            "           5       0.32      0.36      0.34       108\n",
            "           6       0.37      0.37      0.37       134\n",
            "           7       0.44      0.31      0.36       130\n",
            "           8       0.45      0.46      0.45       127\n",
            "           9       0.44      0.42      0.43       140\n",
            "\n",
            "    accuracy                           0.37      1248\n",
            "   macro avg       0.37      0.37      0.37      1248\n",
            "weighted avg       0.37      0.37      0.36      1248\n",
            "\n",
            "\n",
            "\n",
            "------------------------------------------------------------\n",
            "\n",
            "\n",
            "Precison Score on Training\n",
            "[1. 1. 1. 1. 1. 1. 1. 1. 1. 1.]\n",
            "\n",
            "\n",
            "------------------------------------------------------------\n",
            "\n",
            "\n",
            "Precison Score on Testing\n",
            "[0.3255814  0.42222222 0.26923077 0.28688525 0.35877863 0.31707317\n",
            " 0.36842105 0.44444444 0.4496124  0.43703704]\n",
            "\n",
            "\n",
            "------------------------------------------------------------\n",
            "\n",
            "\n",
            "recall Score on Training\n",
            "[1. 1. 1. 1. 1. 1. 1. 1. 1. 1.]\n",
            "\n",
            "\n",
            "------------------------------------------------------------\n",
            "\n",
            "\n",
            "recall Score on Testing\n",
            "[0.5045045  0.50892857 0.1627907  0.27777778 0.35877863 0.36111111\n",
            " 0.36567164 0.30769231 0.45669291 0.42142857]\n",
            "\n",
            "\n",
            "------------------------------------------------------------\n",
            "\n",
            "\n",
            "f1 Score on Training\n",
            "[1. 1. 1. 1. 1. 1. 1. 1. 1. 1.]\n",
            "\n",
            "\n",
            "------------------------------------------------------------\n",
            "\n",
            "\n",
            "f1 Score on Testing\n",
            "[0.39575972 0.46153846 0.20289855 0.28225806 0.35877863 0.33766234\n",
            " 0.3670412  0.36363636 0.453125   0.42909091]\n"
          ],
          "name": "stdout"
        }
      ]
    },
    {
      "cell_type": "code",
      "metadata": {
        "id": "ZQwdrG1QKmfQ",
        "colab": {
          "base_uri": "https://localhost:8080/"
        },
        "outputId": "730bb332-2897-43c1-8312-0879175e31e5"
      },
      "source": [
        "Model(xgb,X1_train,X1_test,Y1_train,Y1_test)"
      ],
      "execution_count": null,
      "outputs": [
        {
          "output_type": "stream",
          "text": [
            "cv_score 0.3636675824175824\n",
            "TRAINING SCORE 0.7015796703296703\n",
            "TESTING SCORE 0.375\n",
            "\n",
            "\n",
            "------------------------------------------------------------\n",
            "\n",
            "\n",
            "TRAINING CONFUSION MATRIX\n",
            "[[217  10   9   8   4   5   5  10  28   9]\n",
            " [ 12 224   7  10   3   4   9   2  16  17]\n",
            " [ 34   5 162   7  19   6  31   5  11   7]\n",
            " [  8   9  16 182   7  17  22   5   9  15]\n",
            " [ 17   5  16   9 168  11  29  12   8  10]\n",
            " [  4   5  14   9  15 228  12   8   7   6]\n",
            " [  3   4  15   6  15   6 222   4   2   5]\n",
            " [  9   6   7   6  18   9   8 204   4  15]\n",
            " [ 27   8   5   3   2   5   4   3 222  10]\n",
            " [  5  17   4   6   2   2   5   5  16 214]]\n",
            "\n",
            "\n",
            "------------------------------------------------------------\n",
            "\n",
            "\n",
            "TESTING  CONFUSION MATRIX\n",
            "[[49  2  7  3  5  3  1  6 30  5]\n",
            " [ 4 55  2  7  3  5  2  4  6 24]\n",
            " [15  1 26 13 26  8 18 11  8  3]\n",
            " [ 6  3 13 29  3 38 15  8  4  7]\n",
            " [ 7  6 16  8 43  5 23  7  9  7]\n",
            " [ 4  5 13 16  9 40  8  5  5  3]\n",
            " [ 6  3 19 15 11  9 60  3  4  4]\n",
            " [ 8 10 11  5 10  7 13 46  9 11]\n",
            " [21 12  4  3  1 10  1  5 60 10]\n",
            " [ 9 22  6  6  2  2  5 11 17 60]]\n",
            "\n",
            "\n",
            "------------------------------------------------------------\n",
            "\n",
            "\n",
            "CLASSIFICATION REPORT ON TRAINING\n",
            "              precision    recall  f1-score   support\n",
            "\n",
            "           0       0.65      0.71      0.68       305\n",
            "           1       0.76      0.74      0.75       304\n",
            "           2       0.64      0.56      0.60       287\n",
            "           3       0.74      0.63      0.68       290\n",
            "           4       0.66      0.59      0.62       285\n",
            "           5       0.78      0.74      0.76       308\n",
            "           6       0.64      0.79      0.71       282\n",
            "           7       0.79      0.71      0.75       286\n",
            "           8       0.69      0.77      0.73       289\n",
            "           9       0.69      0.78      0.73       276\n",
            "\n",
            "    accuracy                           0.70      2912\n",
            "   macro avg       0.70      0.70      0.70      2912\n",
            "weighted avg       0.70      0.70      0.70      2912\n",
            "\n",
            "\n",
            "\n",
            "------------------------------------------------------------\n",
            "\n",
            "\n",
            "CLASSIFICATION REPORT ON TESTING\n",
            "              precision    recall  f1-score   support\n",
            "\n",
            "           0       0.38      0.44      0.41       111\n",
            "           1       0.46      0.49      0.48       112\n",
            "           2       0.22      0.20      0.21       129\n",
            "           3       0.28      0.23      0.25       126\n",
            "           4       0.38      0.33      0.35       131\n",
            "           5       0.31      0.37      0.34       108\n",
            "           6       0.41      0.45      0.43       134\n",
            "           7       0.43      0.35      0.39       130\n",
            "           8       0.39      0.47      0.43       127\n",
            "           9       0.45      0.43      0.44       140\n",
            "\n",
            "    accuracy                           0.38      1248\n",
            "   macro avg       0.37      0.38      0.37      1248\n",
            "weighted avg       0.37      0.38      0.37      1248\n",
            "\n",
            "\n",
            "\n",
            "------------------------------------------------------------\n",
            "\n",
            "\n",
            "Precison Score on Training\n",
            "[0.64583333 0.76450512 0.63529412 0.7398374  0.66403162 0.778157\n",
            " 0.63976945 0.79069767 0.6873065  0.69480519]\n",
            "\n",
            "\n",
            "------------------------------------------------------------\n",
            "\n",
            "\n",
            "Precison Score on Testing\n",
            "[0.37984496 0.46218487 0.22222222 0.27619048 0.38053097 0.31496063\n",
            " 0.4109589  0.43396226 0.39473684 0.44776119]\n",
            "\n",
            "\n",
            "------------------------------------------------------------\n",
            "\n",
            "\n",
            "recall Score on Training\n",
            "[0.71147541 0.73684211 0.56445993 0.62758621 0.58947368 0.74025974\n",
            " 0.78723404 0.71328671 0.76816609 0.77536232]\n",
            "\n",
            "\n",
            "------------------------------------------------------------\n",
            "\n",
            "\n",
            "recall Score on Testing\n",
            "[0.44144144 0.49107143 0.20155039 0.23015873 0.32824427 0.37037037\n",
            " 0.44776119 0.35384615 0.47244094 0.42857143]\n",
            "\n",
            "\n",
            "------------------------------------------------------------\n",
            "\n",
            "\n",
            "f1 Score on Training\n",
            "[0.67706708 0.75041876 0.59778598 0.67910448 0.62453532 0.75873544\n",
            " 0.70588235 0.75       0.7254902  0.73287671]\n",
            "\n",
            "\n",
            "------------------------------------------------------------\n",
            "\n",
            "\n",
            "f1 Score on Testing\n",
            "[0.40833333 0.47619048 0.21138211 0.25108225 0.35245902 0.34042553\n",
            " 0.42857143 0.38983051 0.43010753 0.4379562 ]\n"
          ],
          "name": "stdout"
        }
      ]
    },
    {
      "cell_type": "code",
      "metadata": {
        "id": "DfyqPCoTLYih",
        "colab": {
          "base_uri": "https://localhost:8080/"
        },
        "outputId": "b995ae74-f15c-4f77-8865-37a2744bdd22"
      },
      "source": [
        "Model(adaboost,X1_train,X1_test,Y1_train,Y1_test)"
      ],
      "execution_count": null,
      "outputs": [
        {
          "output_type": "stream",
          "text": [
            "cv_score 0.30975274725274726\n",
            "TRAINING SCORE 0.34546703296703296\n",
            "TESTING SCORE 0.30448717948717946\n",
            "\n",
            "\n",
            "------------------------------------------------------------\n",
            "\n",
            "\n",
            "TRAINING CONFUSION MATRIX\n",
            "[[137  30  26  19   6  13   4  12  36  22]\n",
            " [ 19 121   6  18   6  36  16   6  21  55]\n",
            " [ 42  16  64  15  59  19  38  21   4   9]\n",
            " [ 20  22  16  73  18  67  27  16   7  24]\n",
            " [ 18  13  28  25  84  27  49  28   6   7]\n",
            " [ 10  24  15  46  24 130  18  25   6  10]\n",
            " [  3  22  21  31  38  45  88  27   0   7]\n",
            " [ 17  22  12  18  44  36  15  76   6  40]\n",
            " [ 80  32   6   6   7  27   0   5  90  36]\n",
            " [ 20  46   3  13   3  10   7  18  13 143]]\n",
            "\n",
            "\n",
            "------------------------------------------------------------\n",
            "\n",
            "\n",
            "TESTING  CONFUSION MATRIX\n",
            "[[50  7 10  6  1  5  1  6 17  8]\n",
            " [ 9 33  3  5  3  8  4  7  9 31]\n",
            " [16  4 25 11 21 10 22 11  4  5]\n",
            " [ 7  8  8 23  6 40 15 10  2  7]\n",
            " [ 7  6 13 16 40 13 17  7  4  8]\n",
            " [ 6  6 11 19  9 44  5  5  0  3]\n",
            " [ 4  6 19 23 13 22 35  7  0  5]\n",
            " [ 2 15  6 13 21  8 18 27  4 16]\n",
            " [33 16  2  0  2 14  0  2 43 15]\n",
            " [14 22  2  8  2  4  6  5 17 60]]\n",
            "\n",
            "\n",
            "------------------------------------------------------------\n",
            "\n",
            "\n",
            "CLASSIFICATION REPORT ON TRAINING\n",
            "              precision    recall  f1-score   support\n",
            "\n",
            "           0       0.37      0.45      0.41       305\n",
            "           1       0.35      0.40      0.37       304\n",
            "           2       0.32      0.22      0.26       287\n",
            "           3       0.28      0.25      0.26       290\n",
            "           4       0.29      0.29      0.29       285\n",
            "           5       0.32      0.42      0.36       308\n",
            "           6       0.34      0.31      0.32       282\n",
            "           7       0.32      0.27      0.29       286\n",
            "           8       0.48      0.31      0.38       289\n",
            "           9       0.41      0.52      0.45       276\n",
            "\n",
            "    accuracy                           0.35      2912\n",
            "   macro avg       0.35      0.34      0.34      2912\n",
            "weighted avg       0.35      0.35      0.34      2912\n",
            "\n",
            "\n",
            "\n",
            "------------------------------------------------------------\n",
            "\n",
            "\n",
            "CLASSIFICATION REPORT ON TESTING\n",
            "              precision    recall  f1-score   support\n",
            "\n",
            "           0       0.34      0.45      0.39       111\n",
            "           1       0.27      0.29      0.28       112\n",
            "           2       0.25      0.19      0.22       129\n",
            "           3       0.19      0.18      0.18       126\n",
            "           4       0.34      0.31      0.32       131\n",
            "           5       0.26      0.41      0.32       108\n",
            "           6       0.28      0.26      0.27       134\n",
            "           7       0.31      0.21      0.25       130\n",
            "           8       0.43      0.34      0.38       127\n",
            "           9       0.38      0.43      0.40       140\n",
            "\n",
            "    accuracy                           0.30      1248\n",
            "   macro avg       0.30      0.31      0.30      1248\n",
            "weighted avg       0.31      0.30      0.30      1248\n",
            "\n",
            "\n",
            "\n",
            "------------------------------------------------------------\n",
            "\n",
            "\n",
            "Precison Score on Training\n",
            "[0.37431694 0.34770115 0.3248731  0.27651515 0.29065744 0.31707317\n",
            " 0.33587786 0.32478632 0.47619048 0.40509915]\n",
            "\n",
            "\n",
            "------------------------------------------------------------\n",
            "\n",
            "\n",
            "Precison Score on Testing\n",
            "[0.33783784 0.26829268 0.25252525 0.18548387 0.33898305 0.26190476\n",
            " 0.28455285 0.31034483 0.43       0.37974684]\n",
            "\n",
            "\n",
            "------------------------------------------------------------\n",
            "\n",
            "\n",
            "recall Score on Training\n",
            "[0.44918033 0.39802632 0.22299652 0.25172414 0.29473684 0.42207792\n",
            " 0.31205674 0.26573427 0.31141869 0.51811594]\n",
            "\n",
            "\n",
            "------------------------------------------------------------\n",
            "\n",
            "\n",
            "recall Score on Testing\n",
            "[0.45045045 0.29464286 0.19379845 0.18253968 0.30534351 0.40740741\n",
            " 0.26119403 0.20769231 0.33858268 0.42857143]\n",
            "\n",
            "\n",
            "------------------------------------------------------------\n",
            "\n",
            "\n",
            "f1 Score on Training\n",
            "[0.40834575 0.37116564 0.26446281 0.26353791 0.29268293 0.36211699\n",
            " 0.32352941 0.29230769 0.37656904 0.45468998]\n",
            "\n",
            "\n",
            "------------------------------------------------------------\n",
            "\n",
            "\n",
            "f1 Score on Testing\n",
            "[0.38610039 0.28085106 0.21929825 0.184      0.32128514 0.31884058\n",
            " 0.27237354 0.24884793 0.37885463 0.40268456]\n"
          ],
          "name": "stdout"
        }
      ]
    },
    {
      "cell_type": "code",
      "metadata": {
        "id": "N1n-9xy-5EaF",
        "colab": {
          "base_uri": "https://localhost:8080/"
        },
        "outputId": "952c67c8-2633-46e1-ce7a-c1064f400912"
      },
      "source": [
        "Model(svm_classifier,X1_train,X1_test,Y1_train,Y1_test)"
      ],
      "execution_count": null,
      "outputs": [
        {
          "output_type": "stream",
          "text": [
            "cv_score 0.34203296703296704\n",
            "TRAINING SCORE 0.570054945054945\n",
            "TESTING SCORE 0.3389423076923077\n",
            "\n",
            "\n",
            "------------------------------------------------------------\n",
            "\n",
            "\n",
            "TRAINING CONFUSION MATRIX\n",
            "[[200   9  25   4   4   8   3   7  36   9]\n",
            " [ 20 211  14  10   3   7   2   4   6  27]\n",
            " [ 20  15 144  21  23  19  20   8  13   4]\n",
            " [ 12   8  27 153  11  30  26   8   5  10]\n",
            " [ 17   5  43  25 127  18  17  24   6   3]\n",
            " [  9  15  19  42  20 166  17   7   8   5]\n",
            " [  4   5  25  39  16  31 150   6   1   5]\n",
            " [ 20   6  12  13  15  14  11 180   4  11]\n",
            " [ 54  19   6   9   3   5   2   3 168  20]\n",
            " [ 18  40   7  14   2   3   7  15   9 161]]\n",
            "\n",
            "\n",
            "------------------------------------------------------------\n",
            "\n",
            "\n",
            "TESTING  CONFUSION MATRIX\n",
            "[[48  7  9  2  7  9  0  8 17  4]\n",
            " [ 5 60  5  2  4  4  3  6  6 17]\n",
            " [18  8 40 12 16 12 11  8  2  2]\n",
            " [ 8  8 15 36  9 23 12  6  5  4]\n",
            " [ 8  7 23 12 30 14 17 10  6  4]\n",
            " [ 7  6 17 22 12 28  8  4  3  1]\n",
            " [ 2  5 24 18 14 13 45  6  3  4]\n",
            " [ 7 10 12 14 17 11  8 44  3  4]\n",
            " [37  7  8  5  3  4  1  4 43 15]\n",
            " [24 24  3  6  3  4  3  9 15 49]]\n",
            "\n",
            "\n",
            "------------------------------------------------------------\n",
            "\n",
            "\n",
            "CLASSIFICATION REPORT ON TRAINING\n",
            "              precision    recall  f1-score   support\n",
            "\n",
            "           0       0.53      0.66      0.59       305\n",
            "           1       0.63      0.69      0.66       304\n",
            "           2       0.45      0.50      0.47       287\n",
            "           3       0.46      0.53      0.49       290\n",
            "           4       0.57      0.45      0.50       285\n",
            "           5       0.55      0.54      0.55       308\n",
            "           6       0.59      0.53      0.56       282\n",
            "           7       0.69      0.63      0.66       286\n",
            "           8       0.66      0.58      0.62       289\n",
            "           9       0.63      0.58      0.61       276\n",
            "\n",
            "    accuracy                           0.57      2912\n",
            "   macro avg       0.58      0.57      0.57      2912\n",
            "weighted avg       0.58      0.57      0.57      2912\n",
            "\n",
            "\n",
            "\n",
            "------------------------------------------------------------\n",
            "\n",
            "\n",
            "CLASSIFICATION REPORT ON TESTING\n",
            "              precision    recall  f1-score   support\n",
            "\n",
            "           0       0.29      0.43      0.35       111\n",
            "           1       0.42      0.54      0.47       112\n",
            "           2       0.26      0.31      0.28       129\n",
            "           3       0.28      0.29      0.28       126\n",
            "           4       0.26      0.23      0.24       131\n",
            "           5       0.23      0.26      0.24       108\n",
            "           6       0.42      0.34      0.37       134\n",
            "           7       0.42      0.34      0.37       130\n",
            "           8       0.42      0.34      0.37       127\n",
            "           9       0.47      0.35      0.40       140\n",
            "\n",
            "    accuracy                           0.34      1248\n",
            "   macro avg       0.35      0.34      0.34      1248\n",
            "weighted avg       0.35      0.34      0.34      1248\n",
            "\n",
            "\n",
            "\n",
            "------------------------------------------------------------\n",
            "\n",
            "\n",
            "Precison Score on Training\n",
            "[0.53475936 0.63363363 0.44720497 0.46363636 0.56696429 0.55149502\n",
            " 0.58823529 0.6870229  0.65625    0.63137255]\n",
            "\n",
            "\n",
            "------------------------------------------------------------\n",
            "\n",
            "\n",
            "Precison Score on Testing\n",
            "[0.29268293 0.42253521 0.25641026 0.27906977 0.26086957 0.2295082\n",
            " 0.41666667 0.41904762 0.41747573 0.47115385]\n",
            "\n",
            "\n",
            "------------------------------------------------------------\n",
            "\n",
            "\n",
            "recall Score on Training\n",
            "[0.6557377  0.69407895 0.50174216 0.52758621 0.44561404 0.53896104\n",
            " 0.53191489 0.62937063 0.58131488 0.58333333]\n",
            "\n",
            "\n",
            "------------------------------------------------------------\n",
            "\n",
            "\n",
            "recall Score on Testing\n",
            "[0.43243243 0.53571429 0.31007752 0.28571429 0.22900763 0.25925926\n",
            " 0.3358209  0.33846154 0.33858268 0.35      ]\n",
            "\n",
            "\n",
            "------------------------------------------------------------\n",
            "\n",
            "\n",
            "f1 Score on Training\n",
            "[0.58910162 0.66248038 0.4729064  0.49354839 0.49901768 0.54515599\n",
            " 0.55865922 0.65693431 0.61651376 0.60640301]\n",
            "\n",
            "\n",
            "------------------------------------------------------------\n",
            "\n",
            "\n",
            "f1 Score on Testing\n",
            "[0.34909091 0.47244094 0.28070175 0.28235294 0.24390244 0.24347826\n",
            " 0.37190083 0.37446809 0.37391304 0.40163934]\n"
          ],
          "name": "stdout"
        }
      ]
    },
    {
      "cell_type": "markdown",
      "metadata": {
        "id": "woaRcck4Rv3P"
      },
      "source": [
        "## HyperParameter Tuning"
      ]
    },
    {
      "cell_type": "code",
      "metadata": {
        "id": "MV2v0cLZEcXt"
      },
      "source": [
        "from sklearn.model_selection import RandomizedSearchCV,GridSearchCV"
      ],
      "execution_count": null,
      "outputs": []
    },
    {
      "cell_type": "markdown",
      "metadata": {
        "id": "17ZeHtx_RrA1"
      },
      "source": [
        "## Logistic Regression"
      ]
    },
    {
      "cell_type": "code",
      "metadata": {
        "id": "Pw4u_rCHEcaN"
      },
      "source": [
        "C = np.logspace(0, 4, num=10)\r\n",
        "penalty = ['l1', 'l2']\r\n",
        "solver = ['liblinear', 'saga']"
      ],
      "execution_count": null,
      "outputs": []
    },
    {
      "cell_type": "code",
      "metadata": {
        "id": "8-eYrjpaEcfK"
      },
      "source": [
        "hyperparameters=dict(C=C,penalty=penalty,solver=solver)"
      ],
      "execution_count": null,
      "outputs": []
    },
    {
      "cell_type": "code",
      "metadata": {
        "id": "-AFUbHfIEchu"
      },
      "source": [
        "gridsearch = GridSearchCV(lr, hyperparameters)"
      ],
      "execution_count": null,
      "outputs": []
    },
    {
      "cell_type": "code",
      "metadata": {
        "id": "KDksOWuVEclY",
        "colab": {
          "base_uri": "https://localhost:8080/"
        },
        "outputId": "864216f1-0bdd-4714-987e-73f55f0cb1a2"
      },
      "source": [
        "gridsearch.fit(X1_train,Y1_train)"
      ],
      "execution_count": null,
      "outputs": [
        {
          "output_type": "stream",
          "text": [
            "/usr/local/lib/python3.6/dist-packages/sklearn/linear_model/_sag.py:330: ConvergenceWarning: The max_iter was reached which means the coef_ did not converge\n",
            "  \"the coef_ did not converge\", ConvergenceWarning)\n",
            "/usr/local/lib/python3.6/dist-packages/sklearn/linear_model/_sag.py:330: ConvergenceWarning: The max_iter was reached which means the coef_ did not converge\n",
            "  \"the coef_ did not converge\", ConvergenceWarning)\n",
            "/usr/local/lib/python3.6/dist-packages/sklearn/linear_model/_sag.py:330: ConvergenceWarning: The max_iter was reached which means the coef_ did not converge\n",
            "  \"the coef_ did not converge\", ConvergenceWarning)\n",
            "/usr/local/lib/python3.6/dist-packages/sklearn/linear_model/_sag.py:330: ConvergenceWarning: The max_iter was reached which means the coef_ did not converge\n",
            "  \"the coef_ did not converge\", ConvergenceWarning)\n",
            "/usr/local/lib/python3.6/dist-packages/sklearn/linear_model/_sag.py:330: ConvergenceWarning: The max_iter was reached which means the coef_ did not converge\n",
            "  \"the coef_ did not converge\", ConvergenceWarning)\n",
            "/usr/local/lib/python3.6/dist-packages/sklearn/linear_model/_sag.py:330: ConvergenceWarning: The max_iter was reached which means the coef_ did not converge\n",
            "  \"the coef_ did not converge\", ConvergenceWarning)\n",
            "/usr/local/lib/python3.6/dist-packages/sklearn/linear_model/_sag.py:330: ConvergenceWarning: The max_iter was reached which means the coef_ did not converge\n",
            "  \"the coef_ did not converge\", ConvergenceWarning)\n",
            "/usr/local/lib/python3.6/dist-packages/sklearn/linear_model/_sag.py:330: ConvergenceWarning: The max_iter was reached which means the coef_ did not converge\n",
            "  \"the coef_ did not converge\", ConvergenceWarning)\n",
            "/usr/local/lib/python3.6/dist-packages/sklearn/linear_model/_sag.py:330: ConvergenceWarning: The max_iter was reached which means the coef_ did not converge\n",
            "  \"the coef_ did not converge\", ConvergenceWarning)\n",
            "/usr/local/lib/python3.6/dist-packages/sklearn/linear_model/_sag.py:330: ConvergenceWarning: The max_iter was reached which means the coef_ did not converge\n",
            "  \"the coef_ did not converge\", ConvergenceWarning)\n",
            "/usr/local/lib/python3.6/dist-packages/sklearn/linear_model/_sag.py:330: ConvergenceWarning: The max_iter was reached which means the coef_ did not converge\n",
            "  \"the coef_ did not converge\", ConvergenceWarning)\n",
            "/usr/local/lib/python3.6/dist-packages/sklearn/linear_model/_sag.py:330: ConvergenceWarning: The max_iter was reached which means the coef_ did not converge\n",
            "  \"the coef_ did not converge\", ConvergenceWarning)\n",
            "/usr/local/lib/python3.6/dist-packages/sklearn/linear_model/_sag.py:330: ConvergenceWarning: The max_iter was reached which means the coef_ did not converge\n",
            "  \"the coef_ did not converge\", ConvergenceWarning)\n",
            "/usr/local/lib/python3.6/dist-packages/sklearn/linear_model/_sag.py:330: ConvergenceWarning: The max_iter was reached which means the coef_ did not converge\n",
            "  \"the coef_ did not converge\", ConvergenceWarning)\n",
            "/usr/local/lib/python3.6/dist-packages/sklearn/linear_model/_sag.py:330: ConvergenceWarning: The max_iter was reached which means the coef_ did not converge\n",
            "  \"the coef_ did not converge\", ConvergenceWarning)\n"
          ],
          "name": "stderr"
        },
        {
          "output_type": "execute_result",
          "data": {
            "text/plain": [
              "GridSearchCV(cv=None, error_score=nan,\n",
              "             estimator=LogisticRegression(C=1.0, class_weight=None, dual=False,\n",
              "                                          fit_intercept=True,\n",
              "                                          intercept_scaling=1, l1_ratio=None,\n",
              "                                          max_iter=100, multi_class='auto',\n",
              "                                          n_jobs=None, penalty='l2',\n",
              "                                          random_state=100, solver='lbfgs',\n",
              "                                          tol=0.0001, verbose=0,\n",
              "                                          warm_start=False),\n",
              "             iid='deprecated', n_jobs=None,\n",
              "             param_grid={'C': array([1.00000000e+00, 2.78255940e+00, 7.74263683e+00, 2.15443469e+01,\n",
              "       5.99484250e+01, 1.66810054e+02, 4.64158883e+02, 1.29154967e+03,\n",
              "       3.59381366e+03, 1.00000000e+04]),\n",
              "                         'penalty': ['l1', 'l2'],\n",
              "                         'solver': ['liblinear', 'saga']},\n",
              "             pre_dispatch='2*n_jobs', refit=True, return_train_score=False,\n",
              "             scoring=None, verbose=0)"
            ]
          },
          "metadata": {
            "tags": []
          },
          "execution_count": 48
        }
      ]
    },
    {
      "cell_type": "code",
      "metadata": {
        "id": "sLYj_QdC9cDQ",
        "colab": {
          "base_uri": "https://localhost:8080/"
        },
        "outputId": "29913c4f-5100-48cf-8b8c-bdd6d2b9aa56"
      },
      "source": [
        "gridsearch.best_params_"
      ],
      "execution_count": null,
      "outputs": [
        {
          "output_type": "execute_result",
          "data": {
            "text/plain": [
              "{'C': 1.0, 'penalty': 'l1', 'solver': 'liblinear'}"
            ]
          },
          "metadata": {
            "tags": []
          },
          "execution_count": 49
        }
      ]
    },
    {
      "cell_type": "code",
      "metadata": {
        "id": "vhPOmeg4Qp2g"
      },
      "source": [
        "lr=LogisticRegression(penalty='l1',C=1.0,solver='liblinear',max_iter=1000)"
      ],
      "execution_count": null,
      "outputs": []
    },
    {
      "cell_type": "code",
      "metadata": {
        "id": "Q5IxAB4aRID-",
        "colab": {
          "base_uri": "https://localhost:8080/"
        },
        "outputId": "385077dd-1774-4c6e-d1e6-9a8acdf47186"
      },
      "source": [
        "Model(lr,X1_train,X1_test,Y1_train,Y1_test)"
      ],
      "execution_count": null,
      "outputs": [
        {
          "output_type": "stream",
          "text": [
            "cv_score 0.36092032967032966\n",
            "TRAINING SCORE 0.4649725274725275\n",
            "TESTING SCORE 0.34935897435897434\n",
            "\n",
            "\n",
            "------------------------------------------------------------\n",
            "\n",
            "\n",
            "TRAINING CONFUSION MATRIX\n",
            "[[150  18  19   2   5  14   7  18  56  16]\n",
            " [  9 181  12  10   6  14  12  15  16  29]\n",
            " [ 20  14  94  25  23  31  36  20  17   7]\n",
            " [ 13  15  23 104  21  38  32  16   8  20]\n",
            " [ 17   6  38  12  97  27  34  35   8  11]\n",
            " [ 10  14  18  39  20 143  25  21  13   5]\n",
            " [  4  13  26  32  20  30 132  13   4   8]\n",
            " [ 13   9  11  16  28  13  12 157   7  20]\n",
            " [ 52  21   5   6   4  13   4   7 150  27]\n",
            " [ 20  38   5   8   4   6  13  20  16 146]]\n",
            "\n",
            "\n",
            "------------------------------------------------------------\n",
            "\n",
            "\n",
            "TESTING  CONFUSION MATRIX\n",
            "[[46  5  5  4  6  9  2  7 21  6]\n",
            " [ 5 62  4  3  1  3  5  6  8 15]\n",
            " [16  7 31 10 19 11 17 13  3  2]\n",
            " [ 8  3 11 26  9 35 12  8  8  6]\n",
            " [ 9  6 15  7 36 15 19 16  4  4]\n",
            " [ 4  7 13 15 10 33 12  9  5  0]\n",
            " [ 5  5 14 14 13 10 53 10  5  5]\n",
            " [ 5  9  4  8 14 13  9 53  7  8]\n",
            " [34 14  1  2  3  8  2  6 43 14]\n",
            " [17 25  3  6  1  2  5 11 17 53]]\n",
            "\n",
            "\n",
            "------------------------------------------------------------\n",
            "\n",
            "\n",
            "CLASSIFICATION REPORT ON TRAINING\n",
            "              precision    recall  f1-score   support\n",
            "\n",
            "           0       0.49      0.49      0.49       305\n",
            "           1       0.55      0.60      0.57       304\n",
            "           2       0.37      0.33      0.35       287\n",
            "           3       0.41      0.36      0.38       290\n",
            "           4       0.43      0.34      0.38       285\n",
            "           5       0.43      0.46      0.45       308\n",
            "           6       0.43      0.47      0.45       282\n",
            "           7       0.49      0.55      0.52       286\n",
            "           8       0.51      0.52      0.51       289\n",
            "           9       0.51      0.53      0.52       276\n",
            "\n",
            "    accuracy                           0.46      2912\n",
            "   macro avg       0.46      0.46      0.46      2912\n",
            "weighted avg       0.46      0.46      0.46      2912\n",
            "\n",
            "\n",
            "\n",
            "------------------------------------------------------------\n",
            "\n",
            "\n",
            "CLASSIFICATION REPORT ON TESTING\n",
            "              precision    recall  f1-score   support\n",
            "\n",
            "           0       0.31      0.41      0.35       111\n",
            "           1       0.43      0.55      0.49       112\n",
            "           2       0.31      0.24      0.27       129\n",
            "           3       0.27      0.21      0.24       126\n",
            "           4       0.32      0.27      0.30       131\n",
            "           5       0.24      0.31      0.27       108\n",
            "           6       0.39      0.40      0.39       134\n",
            "           7       0.38      0.41      0.39       130\n",
            "           8       0.36      0.34      0.35       127\n",
            "           9       0.47      0.38      0.42       140\n",
            "\n",
            "    accuracy                           0.35      1248\n",
            "   macro avg       0.35      0.35      0.35      1248\n",
            "weighted avg       0.35      0.35      0.35      1248\n",
            "\n",
            "\n",
            "\n",
            "------------------------------------------------------------\n",
            "\n",
            "\n",
            "Precison Score on Training\n",
            "[0.48701299 0.55015198 0.37450199 0.40944882 0.4254386  0.43465046\n",
            " 0.42996743 0.48757764 0.50847458 0.50519031]\n",
            "\n",
            "\n",
            "------------------------------------------------------------\n",
            "\n",
            "\n",
            "Precison Score on Testing\n",
            "[0.30872483 0.43356643 0.30693069 0.27368421 0.32142857 0.23741007\n",
            " 0.38970588 0.38129496 0.3553719  0.46902655]\n",
            "\n",
            "\n",
            "------------------------------------------------------------\n",
            "\n",
            "\n",
            "recall Score on Training\n",
            "[0.49180328 0.59539474 0.32752613 0.35862069 0.34035088 0.46428571\n",
            " 0.46808511 0.54895105 0.51903114 0.52898551]\n",
            "\n",
            "\n",
            "------------------------------------------------------------\n",
            "\n",
            "\n",
            "recall Score on Testing\n",
            "[0.41441441 0.55357143 0.24031008 0.20634921 0.27480916 0.30555556\n",
            " 0.39552239 0.40769231 0.33858268 0.37857143]\n",
            "\n",
            "\n",
            "------------------------------------------------------------\n",
            "\n",
            "\n",
            "f1 Score on Training\n",
            "[0.48939641 0.57187994 0.34944238 0.38235294 0.37816764 0.44897959\n",
            " 0.44821732 0.51644737 0.51369863 0.51681416]\n",
            "\n",
            "\n",
            "------------------------------------------------------------\n",
            "\n",
            "\n",
            "f1 Score on Testing\n",
            "[0.35384615 0.48627451 0.26956522 0.23529412 0.2962963  0.26720648\n",
            " 0.39259259 0.39405204 0.34677419 0.41897233]\n"
          ],
          "name": "stdout"
        }
      ]
    },
    {
      "cell_type": "code",
      "metadata": {
        "id": "wYQRwg_qReov"
      },
      "source": [
        "random_search=RandomizedSearchCV(lr, hyperparameters)"
      ],
      "execution_count": null,
      "outputs": []
    },
    {
      "cell_type": "code",
      "metadata": {
        "id": "tz06EfDVSHx9",
        "colab": {
          "base_uri": "https://localhost:8080/"
        },
        "outputId": "efcae0c5-523d-43fa-b9ab-715ebf7ba9d4"
      },
      "source": [
        "random_search.fit(X1_train,Y1_train)"
      ],
      "execution_count": null,
      "outputs": [
        {
          "output_type": "execute_result",
          "data": {
            "text/plain": [
              "RandomizedSearchCV(cv=None, error_score=nan,\n",
              "                   estimator=LogisticRegression(C=2.7825594022071245,\n",
              "                                                class_weight=None, dual=False,\n",
              "                                                fit_intercept=True,\n",
              "                                                intercept_scaling=1,\n",
              "                                                l1_ratio=None, max_iter=1000,\n",
              "                                                multi_class='auto', n_jobs=None,\n",
              "                                                penalty='l1', random_state=None,\n",
              "                                                solver='liblinear', tol=0.0001,\n",
              "                                                verbose=0, warm_start=False),\n",
              "                   iid='deprecated', n_iter=10, n_jobs=None,\n",
              "                   param_distributions={'C': array([1.00000000e+00, 2.78255940e+00, 7.74263683e+00, 2.15443469e+01,\n",
              "       5.99484250e+01, 1.66810054e+02, 4.64158883e+02, 1.29154967e+03,\n",
              "       3.59381366e+03, 1.00000000e+04]),\n",
              "                                        'penalty': ['l1', 'l2'],\n",
              "                                        'solver': ['liblinear', 'saga']},\n",
              "                   pre_dispatch='2*n_jobs', random_state=None, refit=True,\n",
              "                   return_train_score=False, scoring=None, verbose=0)"
            ]
          },
          "metadata": {
            "tags": []
          },
          "execution_count": 53
        }
      ]
    },
    {
      "cell_type": "code",
      "metadata": {
        "id": "sj3fafYTSQcs",
        "colab": {
          "base_uri": "https://localhost:8080/"
        },
        "outputId": "5cce6511-59e1-4169-f077-5fc84eddccfc"
      },
      "source": [
        "random_search.best_params_"
      ],
      "execution_count": null,
      "outputs": [
        {
          "output_type": "execute_result",
          "data": {
            "text/plain": [
              "{'C': 1.0, 'penalty': 'l1', 'solver': 'liblinear'}"
            ]
          },
          "metadata": {
            "tags": []
          },
          "execution_count": 54
        }
      ]
    },
    {
      "cell_type": "markdown",
      "metadata": {
        "id": "K84UtXdsB9tN"
      },
      "source": [
        "## Decision Tree Hyper Parameters"
      ]
    },
    {
      "cell_type": "code",
      "metadata": {
        "id": "KAH4rXN1Eini"
      },
      "source": [
        "from scipy.stats import randint "
      ],
      "execution_count": null,
      "outputs": []
    },
    {
      "cell_type": "code",
      "metadata": {
        "id": "4gppNnilSbq-"
      },
      "source": [
        "param_grid1= {'max_depth': [5, 10, None], \r\n",
        "              'max_features': ['auto', 'log2'], \r\n",
        "              'min_samples_split':[2,4,6,8,10,10,12,14,16],\r\n",
        "              }"
      ],
      "execution_count": null,
      "outputs": []
    },
    {
      "cell_type": "code",
      "metadata": {
        "id": "wfrJYpCQ7oXw"
      },
      "source": [
        "tree_gcv= GridSearchCV(dt,param_grid=param_grid1,cv=5)"
      ],
      "execution_count": null,
      "outputs": []
    },
    {
      "cell_type": "code",
      "metadata": {
        "colab": {
          "base_uri": "https://localhost:8080/"
        },
        "id": "rdUx0ezUFwFl",
        "outputId": "b3f03ed2-3321-49d2-8d4e-226b60e9b349"
      },
      "source": [
        "tree_gcv.fit(X1_train,Y1_train)"
      ],
      "execution_count": null,
      "outputs": [
        {
          "output_type": "execute_result",
          "data": {
            "text/plain": [
              "GridSearchCV(cv=5, error_score=nan,\n",
              "             estimator=DecisionTreeClassifier(ccp_alpha=0.0, class_weight=None,\n",
              "                                              criterion='gini', max_depth=100,\n",
              "                                              max_features='sqrt',\n",
              "                                              max_leaf_nodes=None,\n",
              "                                              min_impurity_decrease=0.0,\n",
              "                                              min_impurity_split=None,\n",
              "                                              min_samples_leaf=1,\n",
              "                                              min_samples_split=2,\n",
              "                                              min_weight_fraction_leaf=0.0,\n",
              "                                              presort='deprecated',\n",
              "                                              random_state=0, splitter='best'),\n",
              "             iid='deprecated', n_jobs=None,\n",
              "             param_grid={'max_depth': [5, 10, None],\n",
              "                         'max_features': ['auto', 'log2'],\n",
              "                         'min_samples_split': [2, 4, 6, 8, 10, 10, 12, 14, 16]},\n",
              "             pre_dispatch='2*n_jobs', refit=True, return_train_score=False,\n",
              "             scoring=None, verbose=0)"
            ]
          },
          "metadata": {
            "tags": []
          },
          "execution_count": 73
        }
      ]
    },
    {
      "cell_type": "code",
      "metadata": {
        "colab": {
          "base_uri": "https://localhost:8080/"
        },
        "id": "FSuuMFC6GqSw",
        "outputId": "c7f2129b-138b-43ab-a341-92a424b8a5eb"
      },
      "source": [
        "tree_gcv.best_params_"
      ],
      "execution_count": null,
      "outputs": [
        {
          "output_type": "execute_result",
          "data": {
            "text/plain": [
              "{'max_depth': 10, 'max_features': 'auto', 'min_samples_split': 12}"
            ]
          },
          "metadata": {
            "tags": []
          },
          "execution_count": 74
        }
      ]
    },
    {
      "cell_type": "code",
      "metadata": {
        "id": "8CX3lnQIH4j6"
      },
      "source": [
        "dt1=DecisionTreeClassifier(max_depth=10,max_features='auto',min_samples_split=12)"
      ],
      "execution_count": null,
      "outputs": []
    },
    {
      "cell_type": "code",
      "metadata": {
        "colab": {
          "base_uri": "https://localhost:8080/"
        },
        "id": "ED9XIzscIPXY",
        "outputId": "88eed0cb-69cb-4228-e02f-1daee700556b"
      },
      "source": [
        "Model(dt1,X1_train,X1_test,Y1_train,Y1_test)"
      ],
      "execution_count": null,
      "outputs": [
        {
          "output_type": "stream",
          "text": [
            "cv_score 0.18612637362637363\n",
            "TRAINING SCORE 0.4584478021978022\n",
            "TESTING SCORE 0.19951923076923078\n",
            "\n",
            "\n",
            "------------------------------------------------------------\n",
            "\n",
            "\n",
            "TRAINING CONFUSION MATRIX\n",
            "[[172   5  14  11  23  15   2  11  43   9]\n",
            " [ 15 172  13  22  26  12   0   9  21  14]\n",
            " [ 18  16 101  34  61   9   8   9  27   4]\n",
            " [ 15  12  36 138  32  13   3   8  23  10]\n",
            " [ 23  13  17  28 161   7   5   9  19   3]\n",
            " [ 20  13  26  34  36 143   3  10  17   6]\n",
            " [  8  16  36  64  87  16  29   7  15   4]\n",
            " [ 17  14  21  28  44  16   7 112  17  10]\n",
            " [ 46  22   6  23  12   8   1   9 154   8]\n",
            " [ 20  10  20  17  24   5   4   8  15 153]]\n",
            "\n",
            "\n",
            "------------------------------------------------------------\n",
            "\n",
            "\n",
            "TESTING  CONFUSION MATRIX\n",
            "[[30  7 10  6 10 10  1  8 24  5]\n",
            " [14 24 10  9 12  6  0  7 16 14]\n",
            " [10 11 21 19 34  7  1  8  9  9]\n",
            " [14 11 17 26 18 15  0 11  8  6]\n",
            " [13  4 15 23 45  6  3  4 14  4]\n",
            " [ 7  8  8 20 19 18  1  5 18  4]\n",
            " [ 4 13 22 25 35 12  5  4  9  5]\n",
            " [ 8 17 17 16 22 13  1 21  5 10]\n",
            " [31 15 10  3  9  4  0  6 42  7]\n",
            " [16 20 18  9 20  8  2 12 18 17]]\n",
            "\n",
            "\n",
            "------------------------------------------------------------\n",
            "\n",
            "\n",
            "CLASSIFICATION REPORT ON TRAINING\n",
            "              precision    recall  f1-score   support\n",
            "\n",
            "           0       0.49      0.56      0.52       305\n",
            "           1       0.59      0.57      0.58       304\n",
            "           2       0.35      0.35      0.35       287\n",
            "           3       0.35      0.48      0.40       290\n",
            "           4       0.32      0.56      0.41       285\n",
            "           5       0.59      0.46      0.52       308\n",
            "           6       0.47      0.10      0.17       282\n",
            "           7       0.58      0.39      0.47       286\n",
            "           8       0.44      0.53      0.48       289\n",
            "           9       0.69      0.55      0.62       276\n",
            "\n",
            "    accuracy                           0.46      2912\n",
            "   macro avg       0.49      0.46      0.45      2912\n",
            "weighted avg       0.49      0.46      0.45      2912\n",
            "\n",
            "\n",
            "\n",
            "------------------------------------------------------------\n",
            "\n",
            "\n",
            "CLASSIFICATION REPORT ON TESTING\n",
            "              precision    recall  f1-score   support\n",
            "\n",
            "           0       0.20      0.27      0.23       111\n",
            "           1       0.18      0.21      0.20       112\n",
            "           2       0.14      0.16      0.15       129\n",
            "           3       0.17      0.21      0.18       126\n",
            "           4       0.20      0.34      0.25       131\n",
            "           5       0.18      0.17      0.17       108\n",
            "           6       0.36      0.04      0.07       134\n",
            "           7       0.24      0.16      0.19       130\n",
            "           8       0.26      0.33      0.29       127\n",
            "           9       0.21      0.12      0.15       140\n",
            "\n",
            "    accuracy                           0.20      1248\n",
            "   macro avg       0.21      0.20      0.19      1248\n",
            "weighted avg       0.22      0.20      0.19      1248\n",
            "\n",
            "\n",
            "\n",
            "------------------------------------------------------------\n",
            "\n",
            "\n",
            "Precison Score on Training\n",
            "[0.48587571 0.58703072 0.34827586 0.34586466 0.31818182 0.58606557\n",
            " 0.46774194 0.58333333 0.43874644 0.69230769]\n",
            "\n",
            "\n",
            "------------------------------------------------------------\n",
            "\n",
            "\n",
            "Precison Score on Testing\n",
            "[0.20408163 0.18461538 0.14189189 0.16666667 0.20089286 0.18181818\n",
            " 0.35714286 0.24418605 0.25766871 0.20987654]\n",
            "\n",
            "\n",
            "------------------------------------------------------------\n",
            "\n",
            "\n",
            "recall Score on Training\n",
            "[0.56393443 0.56578947 0.35191638 0.47586207 0.56491228 0.46428571\n",
            " 0.10283688 0.39160839 0.53287197 0.55434783]\n",
            "\n",
            "\n",
            "------------------------------------------------------------\n",
            "\n",
            "\n",
            "recall Score on Testing\n",
            "[0.27027027 0.21428571 0.1627907  0.20634921 0.34351145 0.16666667\n",
            " 0.03731343 0.16153846 0.33070866 0.12142857]\n",
            "\n",
            "\n",
            "------------------------------------------------------------\n",
            "\n",
            "\n",
            "f1 Score on Training\n",
            "[0.52200303 0.57621441 0.35008666 0.40058055 0.40707965 0.51811594\n",
            " 0.16860465 0.46861925 0.48125    0.61569416]\n",
            "\n",
            "\n",
            "------------------------------------------------------------\n",
            "\n",
            "\n",
            "f1 Score on Testing\n",
            "[0.23255814 0.19834711 0.15162455 0.18439716 0.25352113 0.17391304\n",
            " 0.06756757 0.19444444 0.28965517 0.15384615]\n"
          ],
          "name": "stdout"
        }
      ]
    },
    {
      "cell_type": "markdown",
      "metadata": {
        "id": "VB87qylzJNsz"
      },
      "source": [
        "## Random Forest"
      ]
    },
    {
      "cell_type": "code",
      "metadata": {
        "id": "Xf0cipm7IhSK"
      },
      "source": [
        "param_grid2 = {  'bootstrap': [True], \r\n",
        "              'max_depth': [5, 10, None],\r\n",
        "              'max_features': ['auto', 'log2'], \r\n",
        "              'n_estimators': [5, 6, 7, 8, 9, 10, 11, 12, 13, 15]}"
      ],
      "execution_count": null,
      "outputs": []
    },
    {
      "cell_type": "code",
      "metadata": {
        "id": "kX5DBC4RJUfq"
      },
      "source": [
        "g_search = GridSearchCV(estimator = rf, param_grid = param_grid, cv = 3, n_jobs = 1)"
      ],
      "execution_count": null,
      "outputs": []
    },
    {
      "cell_type": "code",
      "metadata": {
        "colab": {
          "base_uri": "https://localhost:8080/"
        },
        "id": "w5Hrs6BLJlLa",
        "outputId": "74b87e89-fe58-48bd-ece7-e816ac0ace90"
      },
      "source": [
        "g_search.fit(X1_train,Y1_train)"
      ],
      "execution_count": null,
      "outputs": [
        {
          "output_type": "execute_result",
          "data": {
            "text/plain": [
              "GridSearchCV(cv=3, error_score=nan,\n",
              "             estimator=RandomForestClassifier(bootstrap=True, ccp_alpha=0.0,\n",
              "                                              class_weight=None,\n",
              "                                              criterion='gini', max_depth=None,\n",
              "                                              max_features='auto',\n",
              "                                              max_leaf_nodes=None,\n",
              "                                              max_samples=None,\n",
              "                                              min_impurity_decrease=0.0,\n",
              "                                              min_impurity_split=None,\n",
              "                                              min_samples_leaf=1,\n",
              "                                              min_samples_split=2,\n",
              "                                              min_weight_fraction_leaf=0.0,\n",
              "                                              n_estimators=100, n_jobs=None,\n",
              "                                              oob_score=False, random_state=100,\n",
              "                                              verbose=0, warm_start=False),\n",
              "             iid='deprecated', n_jobs=1,\n",
              "             param_grid={'bootstrap': [True], 'max_depth': [5, 10, None],\n",
              "                         'max_features': ['auto', 'log2'],\n",
              "                         'n_estimators': [5, 6, 7, 8, 9, 10, 11, 12, 13, 15]},\n",
              "             pre_dispatch='2*n_jobs', refit=True, return_train_score=False,\n",
              "             scoring=None, verbose=0)"
            ]
          },
          "metadata": {
            "tags": []
          },
          "execution_count": 82
        }
      ]
    },
    {
      "cell_type": "code",
      "metadata": {
        "colab": {
          "base_uri": "https://localhost:8080/"
        },
        "id": "ScJmlR4mJoYV",
        "outputId": "6a0b06fe-c05b-4252-d348-7313aa987e61"
      },
      "source": [
        "g_search.best_params_"
      ],
      "execution_count": null,
      "outputs": [
        {
          "output_type": "execute_result",
          "data": {
            "text/plain": [
              "{'bootstrap': True,\n",
              " 'max_depth': 10,\n",
              " 'max_features': 'auto',\n",
              " 'n_estimators': 15}"
            ]
          },
          "metadata": {
            "tags": []
          },
          "execution_count": 83
        }
      ]
    },
    {
      "cell_type": "code",
      "metadata": {
        "id": "CA3XehzSJ4Hw"
      },
      "source": [
        "rf1=RandomForestClassifier(bootstrap=True,max_depth=10,max_features='auto',n_estimators=15)"
      ],
      "execution_count": null,
      "outputs": []
    },
    {
      "cell_type": "code",
      "metadata": {
        "colab": {
          "base_uri": "https://localhost:8080/"
        },
        "id": "JFJ5VC9IKClo",
        "outputId": "db699c58-5722-417f-c693-f041be781a3a"
      },
      "source": [
        "Model(rf1,X1_train,X1_test,Y1_train,Y1_test)"
      ],
      "execution_count": null,
      "outputs": [
        {
          "output_type": "stream",
          "text": [
            "cv_score 0.2874313186813187\n",
            "TRAINING SCORE 0.9120879120879121\n",
            "TESTING SCORE 0.28125\n",
            "\n",
            "\n",
            "------------------------------------------------------------\n",
            "\n",
            "\n",
            "TRAINING CONFUSION MATRIX\n",
            "[[275   1   3   5   3   1   1   2  12   2]\n",
            " [  3 291   1   1   0   1   2   0   2   3]\n",
            " [  9   1 239   1   6   2  17   3   6   3]\n",
            " [  2   0   8 260   3   2  11   1   3   0]\n",
            " [  5   1   5   0 249   1  12   2   7   3]\n",
            " [  2   2   3   2   2 285  10   1   0   1]\n",
            " [  3   0   3   4   8   3 259   1   1   0]\n",
            " [  6   4   6   1   6   2   3 256   2   0]\n",
            " [  3   1   0   1   1   1   4   0 277   1]\n",
            " [  2   2   1   0   3   0   0   2   1 265]]\n",
            "\n",
            "\n",
            "------------------------------------------------------------\n",
            "\n",
            "\n",
            "TESTING  CONFUSION MATRIX\n",
            "[[32  6 13  7  8  8  2  3 23  9]\n",
            " [ 1 44  2 10  4  4  3 12 10 22]\n",
            " [14  5 22  7 21 14 16 14  8  8]\n",
            " [ 3  9  9 32 13 26 12  5  6 11]\n",
            " [12  6 13 10 41  8 17 13  7  4]\n",
            " [10  8  9 13 11 34  9  8  2  4]\n",
            " [ 6  9 12 18 16 13 32 13  8  7]\n",
            " [ 5 10 11  9 11 11 10 37  8 18]\n",
            " [28 20  3  5  4 10  3  4 39 11]\n",
            " [10 28  8 10  6 11  7  9 13 38]]\n",
            "\n",
            "\n",
            "------------------------------------------------------------\n",
            "\n",
            "\n",
            "CLASSIFICATION REPORT ON TRAINING\n",
            "              precision    recall  f1-score   support\n",
            "\n",
            "           0       0.89      0.90      0.89       305\n",
            "           1       0.96      0.96      0.96       304\n",
            "           2       0.89      0.83      0.86       287\n",
            "           3       0.95      0.90      0.92       290\n",
            "           4       0.89      0.87      0.88       285\n",
            "           5       0.96      0.93      0.94       308\n",
            "           6       0.81      0.92      0.86       282\n",
            "           7       0.96      0.90      0.92       286\n",
            "           8       0.89      0.96      0.92       289\n",
            "           9       0.95      0.96      0.96       276\n",
            "\n",
            "    accuracy                           0.91      2912\n",
            "   macro avg       0.91      0.91      0.91      2912\n",
            "weighted avg       0.91      0.91      0.91      2912\n",
            "\n",
            "\n",
            "\n",
            "------------------------------------------------------------\n",
            "\n",
            "\n",
            "CLASSIFICATION REPORT ON TESTING\n",
            "              precision    recall  f1-score   support\n",
            "\n",
            "           0       0.26      0.29      0.28       111\n",
            "           1       0.30      0.39      0.34       112\n",
            "           2       0.22      0.17      0.19       129\n",
            "           3       0.26      0.25      0.26       126\n",
            "           4       0.30      0.31      0.31       131\n",
            "           5       0.24      0.31      0.28       108\n",
            "           6       0.29      0.24      0.26       134\n",
            "           7       0.31      0.28      0.30       130\n",
            "           8       0.31      0.31      0.31       127\n",
            "           9       0.29      0.27      0.28       140\n",
            "\n",
            "    accuracy                           0.28      1248\n",
            "   macro avg       0.28      0.28      0.28      1248\n",
            "weighted avg       0.28      0.28      0.28      1248\n",
            "\n",
            "\n",
            "\n",
            "------------------------------------------------------------\n",
            "\n",
            "\n",
            "Precison Score on Training\n",
            "[0.88709677 0.96039604 0.88847584 0.94545455 0.886121   0.95637584\n",
            " 0.81191223 0.95522388 0.89067524 0.95323741]\n",
            "\n",
            "\n",
            "------------------------------------------------------------\n",
            "\n",
            "\n",
            "Precison Score on Testing\n",
            "[0.26446281 0.30344828 0.21568627 0.26446281 0.3037037  0.24460432\n",
            " 0.28828829 0.31355932 0.31451613 0.28787879]\n",
            "\n",
            "\n",
            "------------------------------------------------------------\n",
            "\n",
            "\n",
            "recall Score on Training\n",
            "[0.90163934 0.95723684 0.83275261 0.89655172 0.87368421 0.92532468\n",
            " 0.91843972 0.8951049  0.95847751 0.96014493]\n",
            "\n",
            "\n",
            "------------------------------------------------------------\n",
            "\n",
            "\n",
            "recall Score on Testing\n",
            "[0.28828829 0.39285714 0.17054264 0.25396825 0.3129771  0.31481481\n",
            " 0.23880597 0.28461538 0.30708661 0.27142857]\n",
            "\n",
            "\n",
            "------------------------------------------------------------\n",
            "\n",
            "\n",
            "f1 Score on Training\n",
            "[0.89430894 0.95881384 0.85971223 0.92035398 0.87985866 0.94059406\n",
            " 0.86189684 0.92418773 0.92333333 0.9566787 ]\n",
            "\n",
            "\n",
            "------------------------------------------------------------\n",
            "\n",
            "\n",
            "f1 Score on Testing\n",
            "[0.27586207 0.34241245 0.19047619 0.25910931 0.30827068 0.27530364\n",
            " 0.26122449 0.2983871  0.31075697 0.27941176]\n"
          ],
          "name": "stdout"
        }
      ]
    },
    {
      "cell_type": "markdown",
      "metadata": {
        "id": "mEEZx10VKjYY"
      },
      "source": [
        "## SVM Hyper Parameter Tunning"
      ]
    },
    {
      "cell_type": "code",
      "metadata": {
        "id": "ZUDmd7kPKMt8"
      },
      "source": [
        "param_grid2= {'C': [0.1, 1, 10, 100, 1000],  \r\n",
        "              'gamma': [1, 0.1, 0.01, 0.001, 0.0001], \r\n",
        "              'kernel': ['rbf']}"
      ],
      "execution_count": null,
      "outputs": []
    },
    {
      "cell_type": "code",
      "metadata": {
        "id": "ITyczAWGOPtF"
      },
      "source": [
        "svm_gsearch=GridSearchCV(svm_classifier,param_grid=param_grid2,cv=10)"
      ],
      "execution_count": null,
      "outputs": []
    },
    {
      "cell_type": "code",
      "metadata": {
        "colab": {
          "base_uri": "https://localhost:8080/"
        },
        "id": "dW6dX9P8Rhan",
        "outputId": "d30593e9-ce62-4b87-bf72-2979f2a3074e"
      },
      "source": [
        "svm_gsearch.fit(X1_train,Y1_train)"
      ],
      "execution_count": null,
      "outputs": [
        {
          "output_type": "execute_result",
          "data": {
            "text/plain": [
              "GridSearchCV(cv=10, error_score=nan,\n",
              "             estimator=SVC(C=1.0, break_ties=False, cache_size=200,\n",
              "                           class_weight=None, coef0=0.0,\n",
              "                           decision_function_shape='ovo', degree=3,\n",
              "                           gamma='scale', kernel='linear', max_iter=-1,\n",
              "                           probability=False, random_state=None, shrinking=True,\n",
              "                           tol=0.001, verbose=False),\n",
              "             iid='deprecated', n_jobs=None,\n",
              "             param_grid={'C': [0.1, 1, 10, 100, 1000],\n",
              "                         'gamma': [1, 0.1, 0.01, 0.001, 0.0001],\n",
              "                         'kernel': ['rbf']},\n",
              "             pre_dispatch='2*n_jobs', refit=True, return_train_score=False,\n",
              "             scoring=None, verbose=0)"
            ]
          },
          "metadata": {
            "tags": []
          },
          "execution_count": 92
        }
      ]
    },
    {
      "cell_type": "code",
      "metadata": {
        "colab": {
          "base_uri": "https://localhost:8080/"
        },
        "id": "5VKjzJBjRkFM",
        "outputId": "bfef8661-3b69-452f-e4cf-f980855bd194"
      },
      "source": [
        "svm_gsearch.best_params_"
      ],
      "execution_count": null,
      "outputs": [
        {
          "output_type": "execute_result",
          "data": {
            "text/plain": [
              "{'C': 1, 'gamma': 0.01, 'kernel': 'rbf'}"
            ]
          },
          "metadata": {
            "tags": []
          },
          "execution_count": 93
        }
      ]
    },
    {
      "cell_type": "code",
      "metadata": {
        "id": "TQ38bt87TooK"
      },
      "source": [
        "svm_classifier2=svm.SVC(C=1.0,gamma=0.01,kernel='rbf')"
      ],
      "execution_count": null,
      "outputs": []
    },
    {
      "cell_type": "code",
      "metadata": {
        "colab": {
          "base_uri": "https://localhost:8080/"
        },
        "id": "8sxzyT7_T4BI",
        "outputId": "93882079-f29c-445b-e03a-3be3f84438b0"
      },
      "source": [
        "Model(svm_classifier2,X1_train,X1_test,Y1_train,Y1_test)"
      ],
      "execution_count": null,
      "outputs": [
        {
          "output_type": "stream",
          "text": [
            "cv_score 0.4138049450549451\n",
            "TRAINING SCORE 0.8567994505494505\n",
            "TESTING SCORE 0.4270833333333333\n",
            "\n",
            "\n",
            "------------------------------------------------------------\n",
            "\n",
            "\n",
            "TRAINING CONFUSION MATRIX\n",
            "[[271   1   8   0   3   0   4   3  13   2]\n",
            " [  5 287   3   1   2   0   2   0   4   0]\n",
            " [ 15   1 211   7  22   3  16   2   7   3]\n",
            " [  0   2  13 244   4   7  18   2   0   0]\n",
            " [  8   1  17   6 227   3  14   5   3   1]\n",
            " [  0   0   8   8  12 264  14   2   0   0]\n",
            " [  0   0  11   1  27   1 241   1   0   0]\n",
            " [  6   1   7   7  18   1   5 239   1   1]\n",
            " [ 15   3   4   2   4   0   4   0 254   3]\n",
            " [  4   2   3   1   2   1   2   0   4 257]]\n",
            "\n",
            "\n",
            "------------------------------------------------------------\n",
            "\n",
            "\n",
            "TESTING  CONFUSION MATRIX\n",
            "[[55  5  6  3  4  7  2  4 14 11]\n",
            " [ 4 71  2  3  1  2  2  3  5 19]\n",
            " [10  7 33  8 32 11 11  7  1  9]\n",
            " [ 1  0 11 43  7 27 15  6  2 14]\n",
            " [10  4 13  6 47  8 24 11  2  6]\n",
            " [ 2  5 13 23  5 39  8  5  1  7]\n",
            " [ 4  2 12 10 15 12 61  8  3  7]\n",
            " [ 5 11  9  7 12 14  6 51  2 13]\n",
            " [28  6  4  2  5  4  4  2 55 17]\n",
            " [ 9 23  1  5  2  6  2  7  7 78]]\n",
            "\n",
            "\n",
            "------------------------------------------------------------\n",
            "\n",
            "\n",
            "CLASSIFICATION REPORT ON TRAINING\n",
            "              precision    recall  f1-score   support\n",
            "\n",
            "           0       0.84      0.89      0.86       305\n",
            "           1       0.96      0.94      0.95       304\n",
            "           2       0.74      0.74      0.74       287\n",
            "           3       0.88      0.84      0.86       290\n",
            "           4       0.71      0.80      0.75       285\n",
            "           5       0.94      0.86      0.90       308\n",
            "           6       0.75      0.85      0.80       282\n",
            "           7       0.94      0.84      0.89       286\n",
            "           8       0.89      0.88      0.88       289\n",
            "           9       0.96      0.93      0.95       276\n",
            "\n",
            "    accuracy                           0.86      2912\n",
            "   macro avg       0.86      0.86      0.86      2912\n",
            "weighted avg       0.86      0.86      0.86      2912\n",
            "\n",
            "\n",
            "\n",
            "------------------------------------------------------------\n",
            "\n",
            "\n",
            "CLASSIFICATION REPORT ON TESTING\n",
            "              precision    recall  f1-score   support\n",
            "\n",
            "           0       0.43      0.50      0.46       111\n",
            "           1       0.53      0.63      0.58       112\n",
            "           2       0.32      0.26      0.28       129\n",
            "           3       0.39      0.34      0.36       126\n",
            "           4       0.36      0.36      0.36       131\n",
            "           5       0.30      0.36      0.33       108\n",
            "           6       0.45      0.46      0.45       134\n",
            "           7       0.49      0.39      0.44       130\n",
            "           8       0.60      0.43      0.50       127\n",
            "           9       0.43      0.56      0.49       140\n",
            "\n",
            "    accuracy                           0.43      1248\n",
            "   macro avg       0.43      0.43      0.43      1248\n",
            "weighted avg       0.43      0.43      0.42      1248\n",
            "\n",
            "\n",
            "\n",
            "------------------------------------------------------------\n",
            "\n",
            "\n",
            "Precison Score on Training\n",
            "[0.83641975 0.96308725 0.74035088 0.88086643 0.70716511 0.94285714\n",
            " 0.753125   0.94094488 0.88811189 0.96254682]\n",
            "\n",
            "\n",
            "------------------------------------------------------------\n",
            "\n",
            "\n",
            "Precison Score on Testing\n",
            "[0.4296875  0.52985075 0.31730769 0.39090909 0.36153846 0.3\n",
            " 0.45185185 0.49038462 0.59782609 0.43093923]\n",
            "\n",
            "\n",
            "------------------------------------------------------------\n",
            "\n",
            "\n",
            "recall Score on Training\n",
            "[0.88852459 0.94407895 0.73519164 0.84137931 0.79649123 0.85714286\n",
            " 0.85460993 0.83566434 0.87889273 0.93115942]\n",
            "\n",
            "\n",
            "------------------------------------------------------------\n",
            "\n",
            "\n",
            "recall Score on Testing\n",
            "[0.4954955  0.63392857 0.25581395 0.34126984 0.35877863 0.36111111\n",
            " 0.45522388 0.39230769 0.43307087 0.55714286]\n",
            "\n",
            "\n",
            "------------------------------------------------------------\n",
            "\n",
            "\n",
            "f1 Score on Training\n",
            "[0.86168521 0.95348837 0.73776224 0.86067019 0.74917492 0.89795918\n",
            " 0.80066445 0.88518519 0.88347826 0.946593  ]\n",
            "\n",
            "\n",
            "------------------------------------------------------------\n",
            "\n",
            "\n",
            "f1 Score on Testing\n",
            "[0.46025105 0.57723577 0.2832618  0.36440678 0.36015326 0.32773109\n",
            " 0.4535316  0.43589744 0.50228311 0.48598131]\n"
          ],
          "name": "stdout"
        }
      ]
    },
    {
      "cell_type": "code",
      "metadata": {
        "id": "PYQvuX6TUAUw"
      },
      "source": [
        ""
      ],
      "execution_count": null,
      "outputs": []
    }
  ]
}